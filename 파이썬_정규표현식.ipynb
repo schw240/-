{
 "cells": [
  {
   "cell_type": "markdown",
   "metadata": {},
   "source": [
    "validate_check를 할때 정규 표현식을 자주 사용\n",
    "\n",
    "또는 크롤링을 할때 정규표현식을 사용하여\n",
    "내가 원하는 패턴같은것을 입력하여서 정보를 크롤링 해오도록 할 때 사용"
   ]
  },
  {
   "cell_type": "markdown",
   "metadata": {},
   "source": [
    "### import re를 활용한 정규 표현식 함수들\n",
    "\n",
    "#### match()-문자열처음부터매치여부조사.객체리턴\n",
    "#### search()-문자열전체를조사.처음검색된최초문자열객체리턴\n",
    "#### findall()-매치되는모든문자열리스트로리턴\n",
    "#### finditer()-매치되는모든문자열의반복가능한객체로리턴\n"
   ]
  },
  {
   "cell_type": "markdown",
   "metadata": {},
   "source": [
    "### 정규표현식리턴객체의메서드\n",
    "\n",
    "#### group()-매치된문자열의리턴\n",
    "#### start()-매치된문자열의시작위치리턴\n",
    "#### end()-매치된문자열의끝위치리턴\n",
    "#### span()-매치된문자열의(시작,끝)에해당하는튜플리턴"
   ]
  },
  {
   "cell_type": "code",
   "execution_count": 2,
   "metadata": {},
   "outputs": [],
   "source": [
    "# 실습\n",
    "\n",
    "import re"
   ]
  },
  {
   "cell_type": "code",
   "execution_count": 9,
   "metadata": {},
   "outputs": [],
   "source": [
    "text = \"I love orange! I love orange!\""
   ]
  },
  {
   "cell_type": "code",
   "execution_count": 10,
   "metadata": {},
   "outputs": [
    {
     "name": "stdout",
     "output_type": "stream",
     "text": [
      "None\n"
     ]
    }
   ],
   "source": [
    "#re.match(정규표현식, 검색할 텍스트)\n",
    "result = re.match(\"orange\", text)\n",
    "#match는 문자의 처음부터 검색함 만약 처음에 없다면 None 반환\n",
    "print(result)"
   ]
  },
  {
   "cell_type": "code",
   "execution_count": 11,
   "metadata": {},
   "outputs": [
    {
     "name": "stdout",
     "output_type": "stream",
     "text": [
      "<re.Match object; span=(0, 6), match='orange'>\n"
     ]
    }
   ],
   "source": [
    "text = \"orange! I love orange!\"\n",
    "\n",
    "#re.match(정규표현식, 검색할 텍스트)\n",
    "result = re.match(\"orange\", text)\n",
    "#match는 문자의 처음부터 검색함 만약 처음에 없다면 None 반환\n",
    "print(result)"
   ]
  },
  {
   "cell_type": "code",
   "execution_count": 12,
   "metadata": {},
   "outputs": [
    {
     "name": "stdout",
     "output_type": "stream",
     "text": [
      "orange\n",
      "0\n",
      "6\n",
      "(0, 6)\n"
     ]
    }
   ],
   "source": [
    "text = \"orange! I love orange!\"\n",
    "\n",
    "#re.match(정규표현식, 검색할 텍스트)\n",
    "result = re.match(\"orange\", text)\n",
    "print(result.group())\n",
    "print(result.start())\n",
    "print(result.end())\n",
    "print(result.span())"
   ]
  },
  {
   "cell_type": "code",
   "execution_count": 15,
   "metadata": {},
   "outputs": [
    {
     "name": "stdout",
     "output_type": "stream",
     "text": [
      "orange\n",
      "7\n",
      "13\n",
      "(7, 13)\n"
     ]
    }
   ],
   "source": [
    "text = \"I like orange! I love orange!\"\n",
    "\n",
    "#re.match(정규표현식, 검색할 텍스트)\n",
    "result = re.search(\"orange\", text)\n",
    "print(result.group())\n",
    "print(result.start())\n",
    "print(result.end())\n",
    "print(result.span())"
   ]
  },
  {
   "cell_type": "code",
   "execution_count": 20,
   "metadata": {},
   "outputs": [
    {
     "name": "stdout",
     "output_type": "stream",
     "text": [
      "orange\n",
      "7\n",
      "13\n",
      "(7, 13)\n",
      "\n",
      "orange\n",
      "22\n",
      "28\n",
      "(22, 28)\n",
      "\n",
      "orange\n",
      "30\n",
      "36\n",
      "(30, 36)\n",
      "\n"
     ]
    }
   ],
   "source": [
    "text = \"I like orange! I love orange! orange!\"\n",
    "\n",
    "#re.match(정규표현식, 검색할 텍스트)\n",
    "result = re.finditer(\"orange\", text)\n",
    "#iter는 전부 찾는것이므로 반복문을 통해서 찾음\n",
    "for i in result:\n",
    "    print(i.group())\n",
    "    print(i.start())\n",
    "    print(i.end())\n",
    "    print(i.span())\n",
    "    print()"
   ]
  },
  {
   "cell_type": "code",
   "execution_count": 25,
   "metadata": {},
   "outputs": [
    {
     "name": "stdout",
     "output_type": "stream",
     "text": [
      "010-2334-3234\n",
      "010-1321-4043\n",
      "016-444-3042\n"
     ]
    }
   ],
   "source": [
    "# 파이썬에서 전화번호 찾기\n",
    "import re\n",
    "\n",
    "numbers = \"\"\"\n",
    "010-2334-3234\n",
    "02-302-3033\n",
    "010-1321-4043\n",
    "02-01-32\n",
    "33-3303-3033\n",
    "016-444-3042\n",
    "\"\"\"\n",
    "\n",
    "results = re.finditer(\"01(0|9|7|6)-[0-9]{3,4}-[0-9]{4}\", numbers)\n",
    "\n",
    "for result in results:\n",
    "    print(result.group())\n",
    "    "
   ]
  },
  {
   "cell_type": "code",
   "execution_count": 27,
   "metadata": {},
   "outputs": [
    {
     "data": {
      "text/plain": [
       "['010-2334-3234', '010-1321-4043', '016-444-3042']"
      ]
     },
     "execution_count": 27,
     "metadata": {},
     "output_type": "execute_result"
    }
   ],
   "source": [
    "results = re.findall(\"[0-9]{3}-[0-9]{3,4}-[0-9]{4}\", numbers)\n",
    "results"
   ]
  },
  {
   "cell_type": "markdown",
   "metadata": {},
   "source": [
    "### 이메일 정규표현식\n",
    "##### \".+@.*\\..+\""
   ]
  },
  {
   "cell_type": "markdown",
   "metadata": {},
   "source": [
    "### 텍스트중에<내용>괄호로묶여진텍스트를괄호포함모두 제거"
   ]
  },
  {
   "cell_type": "code",
   "execution_count": 31,
   "metadata": {},
   "outputs": [
    {
     "data": {
      "text/plain": [
       "'안녕하세요 저는 홍길동 입니다. 나이는 24살 세계 최고의 데이터 분석가가 되고싶습니다.'"
      ]
     },
     "execution_count": 31,
     "metadata": {},
     "output_type": "execute_result"
    }
   ],
   "source": [
    "import re\n",
    "\n",
    "text = \"\"\"안녕하세요 저는 <em>홍길동</em> 입니다. 나이는 24살 세계 최고의 <a href=\"aa.aa.com\">데이터 분석가</a>가 되고싶습니다.\"\"\"\n",
    "re.sub(\"<[^>]*>\", \"\", text)"
   ]
  },
  {
   "cell_type": "code",
   "execution_count": 34,
   "metadata": {},
   "outputs": [
    {
     "data": {
      "text/plain": [
       "['네이버가 뉴스 서비스에 인공지능(AI)을 도입해 페이지 뷰(PV)를 늘리고 이용자를 끌어 모으고 있다.',\n",
       " '네이버는 5일 오전 서울 강남구 그랜드 인터컨티넨털 호텔에서 AI 콜로키움 2019를 열고 이 같은 AI 성과와 전략을 소개했다.',\n",
       " '이날 기조연설에서 김광현 네이버 서치앤클로바 리더는 \"AI 뉴스 추천 시스템인 에어스(AiRS)를 도입하면서 뉴스 소비량이 확대되고 있다\" 고 말했다.']"
      ]
     },
     "execution_count": 34,
     "metadata": {},
     "output_type": "execute_result"
    }
   ],
   "source": [
    "text = \"\"\"\n",
    "<p>\n",
    "<span>네이버가 뉴스 서비스에 인공지능(AI)을 도입해 페이지 뷰(PV)를 늘리고 이용자를 끌어 모으고 있다.</span>\n",
    "<span>네이버는 5일 오전 서울 강남구 그랜드 인터컨티넨털 호텔에서 AI 콜로키움 2019를 열고 이 같은 AI 성과와 전략을 소개했다.</span>\n",
    "<span>이날 기조연설에서 김광현 네이버 서치앤클로바 리더는 \"AI 뉴스 추천 시스템인 에어스(AiRS)를 도입하면서 뉴스 소비량이 확대되고 있다\" 고 말했다.</span>\n",
    "</p>\n",
    "\"\"\"\n",
    "\n",
    "titles = []\n",
    "for i in re.finditer(\"(?<=<span>)((?!<\\/span>).)*(?=<\\/span>)\", text):\n",
    "    #titles.append(i.group().replace(\"<span>\",\"\").replace(\"</span>\",\"\"))\n",
    "    titles.append(i.group())\n",
    "titles"
   ]
  },
  {
   "cell_type": "code",
   "execution_count": null,
   "metadata": {},
   "outputs": [],
   "source": []
  }
 ],
 "metadata": {
  "kernelspec": {
   "display_name": "Python 3",
   "language": "python",
   "name": "python3"
  },
  "language_info": {
   "codemirror_mode": {
    "name": "ipython",
    "version": 3
   },
   "file_extension": ".py",
   "mimetype": "text/x-python",
   "name": "python",
   "nbconvert_exporter": "python",
   "pygments_lexer": "ipython3",
   "version": "3.7.4"
  }
 },
 "nbformat": 4,
 "nbformat_minor": 2
}
