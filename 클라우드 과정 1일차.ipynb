{
 "cells": [
  {
   "cell_type": "code",
   "execution_count": 3,
   "metadata": {},
   "outputs": [
    {
     "name": "stdout",
     "output_type": "stream",
     "text": [
      "Hello, world! 김한주입니다.\n"
     ]
    }
   ],
   "source": [
    "print(\"Hello, world! 김한주입니다.\")"
   ]
  },
  {
   "cell_type": "code",
   "execution_count": 29,
   "metadata": {},
   "outputs": [
    {
     "name": "stdout",
     "output_type": "stream",
     "text": [
      "김한주\n",
      "경기도 용인시 기흥구 중동\n",
      "16988\n",
      "김한주경기도 용인시 기흥구 중동\n",
      "김한주 경기도 용인시 기흥구 중동 16988\n",
      "50.01805641620316\n"
     ]
    }
   ],
   "source": [
    "# 변수들\n",
    "ame = '김한주'\n",
    "address = '경기도 용인시 기흥구 중동'\n",
    "post = 16988\n",
    "birth = 940829\n",
    "\n",
    "#여기부터 출력\n",
    "#print(name + \" \" +address + \" \" + post)\n",
    "print(name)\n",
    "print(address)\n",
    "print(post)\n",
    "print(name + address)\n",
    "print(name , address , post)\n",
    "print(post / birth + 50)"
   ]
  },
  {
   "cell_type": "code",
   "execution_count": 28,
   "metadata": {},
   "outputs": [
    {
     "name": "stdout",
     "output_type": "stream",
     "text": [
      "<class 'str'>\n",
      "<class 'int'>\n",
      "<class 'int'>\n"
     ]
    }
   ],
   "source": [
    "name_type = type(name)\n",
    "post_type = type(post)\n",
    "print(name_type)\n",
    "print(post_type)\n",
    "print(type(birth))"
   ]
  },
  {
   "cell_type": "code",
   "execution_count": 37,
   "metadata": {},
   "outputs": [
    {
     "name": "stdout",
     "output_type": "stream",
     "text": [
      "이름을 입력해주세요.김한주\n",
      "김한주님 환영합니다.\n"
     ]
    }
   ],
   "source": [
    "my_name = input('이름을 입력해주세요.')\n",
    "\n",
    "message = my_name + '님 환영합니다.'\n",
    "print(message)"
   ]
  },
  {
   "cell_type": "code",
   "execution_count": 8,
   "metadata": {},
   "outputs": [
    {
     "name": "stdout",
     "output_type": "stream",
     "text": [
      "첫번째 숫자를 입력해주세요: 10\n",
      "두번째 숫자를 입력해주세요: 20\n",
      "10\n",
      "20\n",
      "<class 'str'>\n",
      "<class 'str'>\n",
      "1020\n",
      "30\n"
     ]
    }
   ],
   "source": [
    "num1 = input('첫번째 숫자를 입력해주세요: ')\n",
    "num2 = input('두번째 숫자를 입력해주세요: ')\n",
    "\n",
    "print(num1)\n",
    "print(num2)\n",
    "print(type(num1))\n",
    "print(type(num2))\n",
    "print(num1 + num2)\n",
    "\n",
    "#int로 변환\n",
    "print(int(num1) + int(num2))"
   ]
  },
  {
   "cell_type": "code",
   "execution_count": 18,
   "metadata": {},
   "outputs": [
    {
     "name": "stdout",
     "output_type": "stream",
     "text": [
      "나이를 입력해주세요: 19\n",
      "성인입니다.\n"
     ]
    }
   ],
   "source": [
    "str_age = input('나이를 입력해주세요: ')\n",
    "age = int(str_age)\n",
    "\n",
    "if age > 18:\n",
    "    print('성인입니다.')\n",
    "elif age > 15:\n",
    "    print('15세 이상은 부모의 법적 동의가 필요합니다.')\n",
    "else:\n",
    "    print('15세 이하는 구매가 불가능합니다.')\n"
   ]
  },
  {
   "cell_type": "code",
   "execution_count": 20,
   "metadata": {},
   "outputs": [
    {
     "name": "stdout",
     "output_type": "stream",
     "text": [
      "10 1 2 3\n"
     ]
    }
   ],
   "source": [
    "x = 10\n",
    "a, b, c = 1, 2, 3\n",
    "print(x, a, b, c)"
   ]
  },
  {
   "cell_type": "code",
   "execution_count": 22,
   "metadata": {},
   "outputs": [
    {
     "name": "stdout",
     "output_type": "stream",
     "text": [
      "None\n",
      "<class 'NoneType'>\n"
     ]
    }
   ],
   "source": [
    "x = None\n",
    "print(x)\n",
    "print(type(x))"
   ]
  },
  {
   "cell_type": "code",
   "execution_count": 23,
   "metadata": {},
   "outputs": [],
   "source": [
    "name = None # 먼저 만들어 두고 나중에 쓸지 말지 결정에 따라서 변경"
   ]
  },
  {
   "cell_type": "code",
   "execution_count": 32,
   "metadata": {},
   "outputs": [
    {
     "name": "stdout",
     "output_type": "stream",
     "text": [
      "x 값을 입력해주세요: 20\n",
      "y 값을 입력해주세요: 30\n",
      "결과:  50\n",
      "x값을 입력해주세요: 2030\n",
      "y값을 입력해주세요: 2030\n",
      "결과:  4060\n"
     ]
    }
   ],
   "source": [
    "x = input('x 값을 입력해주세요: ')\n",
    "y = input('y 값을 입력해주세요: ')\n",
    "#x = int(x)\n",
    "#y = int(y)\n",
    "print('결과: ' , int(x) + int(y))\n",
    "\n",
    "# 다른 방법\n",
    "\n",
    "x = int(input('x값을 입력해주세요: '))\n",
    "y = int(input('y값을 입력해주세요: '))\n",
    "\n",
    "print('결과: ' , x+y)"
   ]
  },
  {
   "cell_type": "code",
   "execution_count": 37,
   "metadata": {},
   "outputs": [
    {
     "name": "stdout",
     "output_type": "stream",
     "text": [
      "True\n",
      "False\n",
      "<class 'bool'>\n"
     ]
    }
   ],
   "source": [
    "# Boolean 형\n",
    "True\n",
    "False\n",
    "\n",
    "#연산결과가 Boolean인 경우\n",
    "print(3 > 1)\n",
    "print(10 != 10)\n",
    "print(type(10 == 10))"
   ]
  },
  {
   "cell_type": "code",
   "execution_count": 42,
   "metadata": {},
   "outputs": [
    {
     "name": "stdout",
     "output_type": "stream",
     "text": [
      "False\n",
      "False\n",
      "<class 'bool'>\n",
      "거짓입니다.\n"
     ]
    }
   ],
   "source": [
    "age = 15\n",
    "result = age > 18\n",
    "\n",
    "print(age > 18)\n",
    "print(result)\n",
    "print(type(result))\n",
    "\n",
    "if result == True:\n",
    "    print('참입니다.')\n",
    "else:\n",
    "    print('거짓입니다.')"
   ]
  },
  {
   "cell_type": "code",
   "execution_count": 50,
   "metadata": {},
   "outputs": [
    {
     "name": "stdout",
     "output_type": "stream",
     "text": [
      "14\n"
     ]
    }
   ],
   "source": [
    "address = '경기도 용인시 기흥구 중동'\n",
    "addr_len = len(address)\n",
    "\n",
    "if addr_len > 20:\n",
    "    print('길이가 너무 깁니다.')\n",
    "else:\n",
    "    print(addr_len)"
   ]
  },
  {
   "cell_type": "code",
   "execution_count": 51,
   "metadata": {},
   "outputs": [
    {
     "name": "stdout",
     "output_type": "stream",
     "text": [
      "JAMES LEE\n",
      "james lee\n",
      "경기도 용인시 기흥구 동백\n"
     ]
    }
   ],
   "source": [
    "name = 'james lee'\n",
    "name2 = 'JAMES LEE'\n",
    "\n",
    "print(name.upper())\n",
    "print(name2.lower())\n",
    "\n",
    "print(address.replace('중동', '동백'))"
   ]
  },
  {
   "cell_type": "code",
   "execution_count": 64,
   "metadata": {},
   "outputs": [
    {
     "name": "stdout",
     "output_type": "stream",
     "text": [
      "한주님! 환영합니다.\n",
      "(한주)님! 환영합니다.\n",
      "한주(schw240@gmail.com)님! 환영합니다.\n",
      "11(한주)님! 환영합니다.\n"
     ]
    }
   ],
   "source": [
    "message = '{0}님! 환영합니다.'.format('한주')\n",
    "print(message)\n",
    "\n",
    "message2 = '({0})님! 환영합니다.'.format('한주')\n",
    "print(message2)\n",
    "\n",
    "message3 = '{0}({1})님! 환영합니다.'.format('한주', 'schw240@gmail.com')\n",
    "print(message3)\n",
    "\n",
    "message4 = '{1}({0})님! 환영합니다.'.format('한주', 11)\n",
    "print(message4)"
   ]
  },
  {
   "cell_type": "code",
   "execution_count": null,
   "metadata": {},
   "outputs": [],
   "source": []
  }
 ],
 "metadata": {
  "kernelspec": {
   "display_name": "Python 3",
   "language": "python",
   "name": "python3"
  },
  "language_info": {
   "codemirror_mode": {
    "name": "ipython",
    "version": 3
   },
   "file_extension": ".py",
   "mimetype": "text/x-python",
   "name": "python",
   "nbconvert_exporter": "python",
   "pygments_lexer": "ipython3",
   "version": "3.7.4"
  }
 },
 "nbformat": 4,
 "nbformat_minor": 2
}
