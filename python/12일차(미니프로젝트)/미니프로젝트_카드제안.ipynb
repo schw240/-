{
 "cells": [
  {
   "cell_type": "code",
   "execution_count": 19,
   "metadata": {},
   "outputs": [],
   "source": [
    "import pandas as pd"
   ]
  },
  {
   "cell_type": "code",
   "execution_count": 20,
   "metadata": {},
   "outputs": [
    {
     "data": {
      "text/plain": [
       "<bound method NDFrame.head of           REG_YYMM CARD_SIDO_NM CARD_CCG_NM STD_CLSS_NM HOM_SIDO_NM  \\\n",
       "0           201901           강원         강릉시  건강보조식품 소매업          강원   \n",
       "1           201901           강원         강릉시  건강보조식품 소매업          강원   \n",
       "2           201901           강원         강릉시  건강보조식품 소매업          강원   \n",
       "3           201901           강원         강릉시  건강보조식품 소매업          강원   \n",
       "4           201901           강원         강릉시  건강보조식품 소매업          강원   \n",
       "...            ...          ...         ...         ...         ...   \n",
       "24697787    202003           충북         충주시    휴양콘도 운영업          충북   \n",
       "24697788    202003           충북         충주시    휴양콘도 운영업          충북   \n",
       "24697789    202003           충북         충주시    휴양콘도 운영업          충북   \n",
       "24697790    202003           충북         충주시    휴양콘도 운영업          충북   \n",
       "24697791    202003           충북         충주시    휴양콘도 운영업          충북   \n",
       "\n",
       "         HOM_CCG_NM  AGE  SEX_CTGO_CD  FLC  CSTMR_CNT      AMT  CNT  \n",
       "0               강릉시  20s            1    1          4   311200    4  \n",
       "1               강릉시  30s            1    2          7  1374500    8  \n",
       "2               강릉시  30s            2    2          6   818700    6  \n",
       "3               강릉시  40s            1    3          4  1717000    5  \n",
       "4               강릉시  40s            1    4          3  1047300    3  \n",
       "...             ...  ...          ...  ...        ...      ...  ...  \n",
       "24697787        충주시  30s            1    2          3    43300    4  \n",
       "24697788        충주시  40s            1    3          3    35000    3  \n",
       "24697789        충주시  50s            1    4          4   188000    6  \n",
       "24697790        충주시  50s            2    4          4    99000    6  \n",
       "24697791        충주시  60s            1    5          3   194000    3  \n",
       "\n",
       "[24697792 rows x 12 columns]>"
      ]
     },
     "execution_count": 20,
     "metadata": {},
     "output_type": "execute_result"
    }
   ],
   "source": [
    "df1 = pd.read_csv('201901-202003.csv')\n",
    "df2 = pd.read_csv('202004.csv')\n",
    "df1.head"
   ]
  },
  {
   "cell_type": "code",
   "execution_count": 21,
   "metadata": {},
   "outputs": [
    {
     "data": {
      "text/plain": [
       "<bound method NDFrame.head of          REG_YYMM CARD_SIDO_NM CARD_CCG_NM STD_CLSS_NM HOM_SIDO_NM HOM_CCG_NM  \\\n",
       "0          202004           강원         강릉시  건강보조식품 소매업          강원        강릉시   \n",
       "1          202004           강원         강릉시  건강보조식품 소매업          강원        강릉시   \n",
       "2          202004           강원         강릉시  건강보조식품 소매업          강원        강릉시   \n",
       "3          202004           강원         강릉시  건강보조식품 소매업          강원        강릉시   \n",
       "4          202004           강원         강릉시  건강보조식품 소매업          강원        강릉시   \n",
       "...           ...          ...         ...         ...         ...        ...   \n",
       "1350317    202004           충북         충주시    휴양콘도 운영업          충북        충주시   \n",
       "1350318    202004           충북         충주시    휴양콘도 운영업          충북        충주시   \n",
       "1350319    202004           충북         충주시    휴양콘도 운영업          충북        충주시   \n",
       "1350320    202004           충북         충주시    휴양콘도 운영업          충북        충주시   \n",
       "1350321    202004           충북         충주시    휴양콘도 운영업          충북        충주시   \n",
       "\n",
       "         AGE  SEX_CTGO_CD  FLC  CSTMR_CNT      AMT  CNT  \n",
       "0        40s            1    3          3   779600    4  \n",
       "1        40s            2    3         14  2427700   15  \n",
       "2        50s            1    4         18  2184600   18  \n",
       "3        50s            2    4         21  3653100   23  \n",
       "4        60s            1    5         15  2765500   18  \n",
       "...      ...          ...  ...        ...      ...  ...  \n",
       "1350317  20s            1    1          5    77000    5  \n",
       "1350318  30s            1    2          6    92000    6  \n",
       "1350319  40s            2    3          5   193000    5  \n",
       "1350320  50s            1    4          5    86000    7  \n",
       "1350321  60s            2    5          3   227000    4  \n",
       "\n",
       "[1350322 rows x 12 columns]>"
      ]
     },
     "execution_count": 21,
     "metadata": {},
     "output_type": "execute_result"
    }
   ],
   "source": [
    "df2.head"
   ]
  },
  {
   "cell_type": "code",
   "execution_count": 22,
   "metadata": {},
   "outputs": [],
   "source": [
    "df1 = df1.append(df2, ignore_index=True)"
   ]
  },
  {
   "cell_type": "code",
   "execution_count": 24,
   "metadata": {},
   "outputs": [
    {
     "data": {
      "text/html": [
       "<div>\n",
       "<style scoped>\n",
       "    .dataframe tbody tr th:only-of-type {\n",
       "        vertical-align: middle;\n",
       "    }\n",
       "\n",
       "    .dataframe tbody tr th {\n",
       "        vertical-align: top;\n",
       "    }\n",
       "\n",
       "    .dataframe thead th {\n",
       "        text-align: right;\n",
       "    }\n",
       "</style>\n",
       "<table border=\"1\" class=\"dataframe\">\n",
       "  <thead>\n",
       "    <tr style=\"text-align: right;\">\n",
       "      <th></th>\n",
       "      <th>REG_YYMM</th>\n",
       "      <th>CARD_SIDO_NM</th>\n",
       "      <th>CARD_CCG_NM</th>\n",
       "      <th>STD_CLSS_NM</th>\n",
       "      <th>HOM_SIDO_NM</th>\n",
       "      <th>HOM_CCG_NM</th>\n",
       "      <th>AGE</th>\n",
       "      <th>SEX_CTGO_CD</th>\n",
       "      <th>FLC</th>\n",
       "      <th>CSTMR_CNT</th>\n",
       "      <th>AMT</th>\n",
       "      <th>CNT</th>\n",
       "    </tr>\n",
       "  </thead>\n",
       "  <tbody>\n",
       "    <tr>\n",
       "      <td>26048109</td>\n",
       "      <td>202004</td>\n",
       "      <td>충북</td>\n",
       "      <td>충주시</td>\n",
       "      <td>휴양콘도 운영업</td>\n",
       "      <td>충북</td>\n",
       "      <td>충주시</td>\n",
       "      <td>20s</td>\n",
       "      <td>1</td>\n",
       "      <td>1</td>\n",
       "      <td>5</td>\n",
       "      <td>77000</td>\n",
       "      <td>5</td>\n",
       "    </tr>\n",
       "    <tr>\n",
       "      <td>26048110</td>\n",
       "      <td>202004</td>\n",
       "      <td>충북</td>\n",
       "      <td>충주시</td>\n",
       "      <td>휴양콘도 운영업</td>\n",
       "      <td>충북</td>\n",
       "      <td>충주시</td>\n",
       "      <td>30s</td>\n",
       "      <td>1</td>\n",
       "      <td>2</td>\n",
       "      <td>6</td>\n",
       "      <td>92000</td>\n",
       "      <td>6</td>\n",
       "    </tr>\n",
       "    <tr>\n",
       "      <td>26048111</td>\n",
       "      <td>202004</td>\n",
       "      <td>충북</td>\n",
       "      <td>충주시</td>\n",
       "      <td>휴양콘도 운영업</td>\n",
       "      <td>충북</td>\n",
       "      <td>충주시</td>\n",
       "      <td>40s</td>\n",
       "      <td>2</td>\n",
       "      <td>3</td>\n",
       "      <td>5</td>\n",
       "      <td>193000</td>\n",
       "      <td>5</td>\n",
       "    </tr>\n",
       "    <tr>\n",
       "      <td>26048112</td>\n",
       "      <td>202004</td>\n",
       "      <td>충북</td>\n",
       "      <td>충주시</td>\n",
       "      <td>휴양콘도 운영업</td>\n",
       "      <td>충북</td>\n",
       "      <td>충주시</td>\n",
       "      <td>50s</td>\n",
       "      <td>1</td>\n",
       "      <td>4</td>\n",
       "      <td>5</td>\n",
       "      <td>86000</td>\n",
       "      <td>7</td>\n",
       "    </tr>\n",
       "    <tr>\n",
       "      <td>26048113</td>\n",
       "      <td>202004</td>\n",
       "      <td>충북</td>\n",
       "      <td>충주시</td>\n",
       "      <td>휴양콘도 운영업</td>\n",
       "      <td>충북</td>\n",
       "      <td>충주시</td>\n",
       "      <td>60s</td>\n",
       "      <td>2</td>\n",
       "      <td>5</td>\n",
       "      <td>3</td>\n",
       "      <td>227000</td>\n",
       "      <td>4</td>\n",
       "    </tr>\n",
       "  </tbody>\n",
       "</table>\n",
       "</div>"
      ],
      "text/plain": [
       "          REG_YYMM CARD_SIDO_NM CARD_CCG_NM STD_CLSS_NM HOM_SIDO_NM  \\\n",
       "26048109    202004           충북         충주시    휴양콘도 운영업          충북   \n",
       "26048110    202004           충북         충주시    휴양콘도 운영업          충북   \n",
       "26048111    202004           충북         충주시    휴양콘도 운영업          충북   \n",
       "26048112    202004           충북         충주시    휴양콘도 운영업          충북   \n",
       "26048113    202004           충북         충주시    휴양콘도 운영업          충북   \n",
       "\n",
       "         HOM_CCG_NM  AGE  SEX_CTGO_CD  FLC  CSTMR_CNT     AMT  CNT  \n",
       "26048109        충주시  20s            1    1          5   77000    5  \n",
       "26048110        충주시  30s            1    2          6   92000    6  \n",
       "26048111        충주시  40s            2    3          5  193000    5  \n",
       "26048112        충주시  50s            1    4          5   86000    7  \n",
       "26048113        충주시  60s            2    5          3  227000    4  "
      ]
     },
     "execution_count": 24,
     "metadata": {},
     "output_type": "execute_result"
    }
   ],
   "source": [
    "df1.tail()"
   ]
  },
  {
   "cell_type": "code",
   "execution_count": 25,
   "metadata": {},
   "outputs": [],
   "source": [
    "df1.to_csv(\"전체 데이터.csv\", header=False, index=False)"
   ]
  },
  {
   "cell_type": "code",
   "execution_count": 31,
   "metadata": {},
   "outputs": [],
   "source": [
    "df2 = df1[(df1['HOM_SIDO_NM']==\"서울\")]"
   ]
  },
  {
   "cell_type": "code",
   "execution_count": 32,
   "metadata": {},
   "outputs": [],
   "source": [
    "df3 = df2[(df2['HOM_SIDO_NM']==\"서울\")]"
   ]
  },
  {
   "cell_type": "code",
   "execution_count": 36,
   "metadata": {},
   "outputs": [],
   "source": [
    "df3.to_csv(\"서울_서울total.csv\", header=False, index=False)"
   ]
  },
  {
   "cell_type": "code",
   "execution_count": 37,
   "metadata": {},
   "outputs": [],
   "source": [
    "df3.columns = ['연월','카드이용_시도','카드이용_시군구','업종명','고객거주_시도','고객거주_시군구','연령대','성별','가구생애주기','이용고객수','이용금액','이용건수']"
   ]
  },
  {
   "cell_type": "code",
   "execution_count": 39,
   "metadata": {},
   "outputs": [],
   "source": [
    "df3.to_csv(\"서울_서울total2.csv\", header=False, index=False, encoding='utf8')"
   ]
  },
  {
   "cell_type": "code",
   "execution_count": 40,
   "metadata": {},
   "outputs": [
    {
     "data": {
      "text/html": [
       "<div>\n",
       "<style scoped>\n",
       "    .dataframe tbody tr th:only-of-type {\n",
       "        vertical-align: middle;\n",
       "    }\n",
       "\n",
       "    .dataframe tbody tr th {\n",
       "        vertical-align: top;\n",
       "    }\n",
       "\n",
       "    .dataframe thead th {\n",
       "        text-align: right;\n",
       "    }\n",
       "</style>\n",
       "<table border=\"1\" class=\"dataframe\">\n",
       "  <thead>\n",
       "    <tr style=\"text-align: right;\">\n",
       "      <th></th>\n",
       "      <th>연월</th>\n",
       "      <th>카드이용_시도</th>\n",
       "      <th>카드이용_시군구</th>\n",
       "      <th>업종명</th>\n",
       "      <th>고객거주_시도</th>\n",
       "      <th>고객거주_시군구</th>\n",
       "      <th>연령대</th>\n",
       "      <th>성별</th>\n",
       "      <th>가구생애주기</th>\n",
       "      <th>이용고객수</th>\n",
       "      <th>이용금액</th>\n",
       "      <th>이용건수</th>\n",
       "    </tr>\n",
       "  </thead>\n",
       "  <tbody>\n",
       "    <tr>\n",
       "      <td>821073</td>\n",
       "      <td>201901</td>\n",
       "      <td>서울</td>\n",
       "      <td>강남구</td>\n",
       "      <td>건강보조식품 소매업</td>\n",
       "      <td>서울</td>\n",
       "      <td>강남구</td>\n",
       "      <td>20s</td>\n",
       "      <td>1</td>\n",
       "      <td>1</td>\n",
       "      <td>13</td>\n",
       "      <td>293800</td>\n",
       "      <td>15</td>\n",
       "    </tr>\n",
       "    <tr>\n",
       "      <td>821074</td>\n",
       "      <td>201901</td>\n",
       "      <td>서울</td>\n",
       "      <td>강남구</td>\n",
       "      <td>건강보조식품 소매업</td>\n",
       "      <td>서울</td>\n",
       "      <td>강남구</td>\n",
       "      <td>20s</td>\n",
       "      <td>2</td>\n",
       "      <td>1</td>\n",
       "      <td>9</td>\n",
       "      <td>353600</td>\n",
       "      <td>10</td>\n",
       "    </tr>\n",
       "    <tr>\n",
       "      <td>821075</td>\n",
       "      <td>201901</td>\n",
       "      <td>서울</td>\n",
       "      <td>강남구</td>\n",
       "      <td>건강보조식품 소매업</td>\n",
       "      <td>서울</td>\n",
       "      <td>강남구</td>\n",
       "      <td>30s</td>\n",
       "      <td>1</td>\n",
       "      <td>2</td>\n",
       "      <td>29</td>\n",
       "      <td>6465110</td>\n",
       "      <td>34</td>\n",
       "    </tr>\n",
       "    <tr>\n",
       "      <td>821076</td>\n",
       "      <td>201901</td>\n",
       "      <td>서울</td>\n",
       "      <td>강남구</td>\n",
       "      <td>건강보조식품 소매업</td>\n",
       "      <td>서울</td>\n",
       "      <td>강남구</td>\n",
       "      <td>30s</td>\n",
       "      <td>2</td>\n",
       "      <td>1</td>\n",
       "      <td>13</td>\n",
       "      <td>1337800</td>\n",
       "      <td>13</td>\n",
       "    </tr>\n",
       "    <tr>\n",
       "      <td>821077</td>\n",
       "      <td>201901</td>\n",
       "      <td>서울</td>\n",
       "      <td>강남구</td>\n",
       "      <td>건강보조식품 소매업</td>\n",
       "      <td>서울</td>\n",
       "      <td>강남구</td>\n",
       "      <td>30s</td>\n",
       "      <td>2</td>\n",
       "      <td>2</td>\n",
       "      <td>41</td>\n",
       "      <td>5043170</td>\n",
       "      <td>50</td>\n",
       "    </tr>\n",
       "  </tbody>\n",
       "</table>\n",
       "</div>"
      ],
      "text/plain": [
       "            연월 카드이용_시도 카드이용_시군구         업종명 고객거주_시도 고객거주_시군구  연령대  성별  가구생애주기  \\\n",
       "821073  201901      서울      강남구  건강보조식품 소매업      서울      강남구  20s   1       1   \n",
       "821074  201901      서울      강남구  건강보조식품 소매업      서울      강남구  20s   2       1   \n",
       "821075  201901      서울      강남구  건강보조식품 소매업      서울      강남구  30s   1       2   \n",
       "821076  201901      서울      강남구  건강보조식품 소매업      서울      강남구  30s   2       1   \n",
       "821077  201901      서울      강남구  건강보조식품 소매업      서울      강남구  30s   2       2   \n",
       "\n",
       "        이용고객수     이용금액  이용건수  \n",
       "821073     13   293800    15  \n",
       "821074      9   353600    10  \n",
       "821075     29  6465110    34  \n",
       "821076     13  1337800    13  \n",
       "821077     41  5043170    50  "
      ]
     },
     "execution_count": 40,
     "metadata": {},
     "output_type": "execute_result"
    }
   ],
   "source": [
    "df3.head()"
   ]
  },
  {
   "cell_type": "code",
   "execution_count": 42,
   "metadata": {},
   "outputs": [],
   "source": [
    "df3.columns = ['REG_YYMM','CARD_SIDO_NM','CARD_CCG_NM','STD_CLSS_NM','HOM_SIDO_NM\t','HOM_CCG_NM','AGE','SEX_CTGO_CD','FLC','CSTMR_CNT','AMT','CNT']"
   ]
  },
  {
   "cell_type": "code",
   "execution_count": 45,
   "metadata": {},
   "outputs": [],
   "source": [
    "df3.to_csv(\"서울_서울total3.csv\", header=False, index=False, encoding='utf8')"
   ]
  },
  {
   "cell_type": "code",
   "execution_count": null,
   "metadata": {},
   "outputs": [],
   "source": []
  }
 ],
 "metadata": {
  "kernelspec": {
   "display_name": "Python 3",
   "language": "python",
   "name": "python3"
  },
  "language_info": {
   "codemirror_mode": {
    "name": "ipython",
    "version": 3
   },
   "file_extension": ".py",
   "mimetype": "text/x-python",
   "name": "python",
   "nbconvert_exporter": "python",
   "pygments_lexer": "ipython3",
   "version": "3.7.4"
  }
 },
 "nbformat": 4,
 "nbformat_minor": 2
}
