{
 "cells": [
  {
   "cell_type": "markdown",
   "metadata": {},
   "source": [
    "### 아래 내용은 구글 메일의 세팅을 마친 후에 진행가능"
   ]
  },
  {
   "cell_type": "code",
   "execution_count": 1,
   "metadata": {},
   "outputs": [],
   "source": [
    "import smtplib\n",
    "from email.mime.text import MIMEText\n",
    "\n",
    "def sendMail(me, you, msg):\n",
    "    smtp = smtplib.SMTP_SSL('smtp.gmail.com', 465)\n",
    "    smtp.login(me, 'srglbgvobgfmempz') ####\n",
    "    msg = MIMEText(msg)\n",
    "    msg['Subject'] = 'your title'###\n",
    "    smtp.sendmail(me, you, msg.as_string())\n",
    "    smtp.quit()\n"
   ]
  },
  {
   "cell_type": "code",
   "execution_count": 2,
   "metadata": {},
   "outputs": [],
   "source": [
    "def get_news_list():\n",
    "    '''현재 네이버 실시간 검색어 순위 20개를 가져옵니다.'''\n",
    "    import requests\n",
    "    import json\n",
    "\n",
    "    url = 'https://www.naver.com/srchrank?frm=main&ag=20s&gr=0&ma=0&si=0&en=0&sp=0'\n",
    "    res = json.loads(requests.get(url).content)\n",
    "    rank = [*map(lambda item: item['keyword'], res['data'])]\n",
    "    rank_list = []\n",
    "\n",
    "    for i in range(len(rank)):\n",
    "        ranks= i + 1\n",
    "        rank_list.append(str(ranks) + '위 : ' + str(rank[i]))\n",
    "\n",
    "    # rank_list\n",
    "\n",
    "\n",
    "    return rank_list"
   ]
  },
  {
   "cell_type": "code",
   "execution_count": 3,
   "metadata": {},
   "outputs": [],
   "source": [
    "import requests\n",
    "from bs4 import BeautifulSoup\n",
    " \n",
    "def get_melon_list():\n",
    "    '''현재 멜론 인기곡 최신 54위를 반환합니다.'''\n",
    "    RANK = 54\n",
    "    rank_list = []\n",
    "    header =  { 'User-Agent' : ('Mozilla/5.0 (Windows NT 10.0;Win64; x64)\\\n",
    "AppleWebKit/537.36 (KHTML, like Gecko) Chrome/71.0.3578.98\\\n",
    "Safari/537.36'), } \n",
    "    req = requests.get('https://www.melon.com/chart/index.htm', headers = header)\n",
    "    html = req.text\n",
    "    parse = BeautifulSoup(html, 'html.parser')\n",
    "\n",
    "    titles = parse.find_all(\"div\", {\"class\": \"ellipsis rank01\"})\n",
    "    songs = parse.find_all(\"div\", {\"class\": \"ellipsis rank02\"})\n",
    "\n",
    "    title = []\n",
    "    song = []\n",
    "\n",
    "    for t in titles:\n",
    "        title.append(t.find('a').text)\n",
    "\n",
    "    for s in songs:\n",
    "        song.append(s.find('span', {\"class\": \"checkEllipsis\"}).text)\n",
    "\n",
    "    for i in range(RANK):\n",
    "        rank_list.append('%3d위: %s - %s'%(i+1, title[i], song[i]))\n",
    "    return rank_list"
   ]
  },
  {
   "cell_type": "code",
   "execution_count": 4,
   "metadata": {},
   "outputs": [
    {
     "data": {
      "text/plain": [
       "\"['1위 : 강지환', '2위 : 코로나 3단계', '3위 : 피시방', '4위 : pc방', '5위 : 코로나 고위험시설', '6위 : 대국민담화', '7위 : 기사시험 연기', '8위 : 군인 휴가 통제', '9위 : SK 바이오랜드', '10위 : 피시방 코로나', '11위 : 기사시험', '12위 : 정세균', '13위 : 국방부', '14위 : 윤영삼', '15위 : 12종 고위험시설', '16위 : 고위험시설', '17위 : 헬스장', '18위 : 헬스장 코로나', '19위 : 사회적 거리두기 3단계', '20위 : 크리스탈']\""
      ]
     },
     "execution_count": 4,
     "metadata": {},
     "output_type": "execute_result"
    }
   ],
   "source": [
    "news_list = get_news_list()\n",
    "news_list = str(news_list)\n",
    "news_list"
   ]
  },
  {
   "cell_type": "code",
   "execution_count": 5,
   "metadata": {},
   "outputs": [
    {
     "data": {
      "text/plain": [
       "'[\\'  1위: 다시 여기 바닷가 - 싹쓰리 (유두래곤, 린다G, 비룡)\\', \\'  2위: 마리아 (Maria) - 화사 (Hwa Sa)\\', \\'  3위: How You Like That - BLACKPINK\\', \\'  4위: 그 여름을 틀어줘 - 싹쓰리 (유두래곤, 린다G, 비룡)\\', \\'  5위: 눈누난나 (NUNU NANA) - 제시 (Jessi)\\', \\'  6위: Summer Hate (Feat. 비) - 지코 (ZICO)\\', \\'  7위: 에잇(Prod.&Feat. SUGA of BTS) - 아이유\\', \\'  8위: Downtown Baby - 블루 (BLOO)\\', \\'  9위: 여름 안에서 by 싹쓰리 (Feat. 황광희) - 싹쓰리 (유두래곤, 린다G, 비룡)\\', \\' 10위: Dolphin - 오마이걸\\', \\' 11위: 아로하 - 조정석\\', \\' 12위: 홀로 - 이하이\\', \\' 13위: 보라빛 밤 (pporappippam) - 선미\\', \\' 14위: 신난다 (Feat. 마마무) - 비룡\\', \\' 15위: 살짝 설렜어 (Nonstop) - 오마이걸\\', \\' 16위: LINDA (Feat. 윤미래) - 린다G\\', \\' 17위: 덤디덤디 (DUMDi DUMDi) - (여자)아이들\\', \\' 18위: Not Shy - ITZY (있지)\\', \\' 19위: Dance Monkey - Tones And I\\', \\' 20위: 어떻게 지내 (Prod. By VAN.C) - 오반\\', \\' 21위: 사랑하게 될 줄 알았어 - 전미도\\', \\' 22위: Memories - Maroon 5\\', \\' 23위: 취기를 빌려 (취향저격 그녀 X 산들) - 산들\\', \\' 24위: METEOR - 창모 (CHANGMO)\\', \\' 25위: Blueming - 아이유\\', \" 26위: Don\\'t Start Now - Dua Lipa\", \\' 27위: 흔들리는 꽃들 속에서 네 샴푸향이 느껴진거야 - 장범준\\', \\' 28위: When We Disco (Duet with 선미) - 박진영\\', \\' 29위: Into the I-LAND - 아이유\\', \\' 30위: 아무노래 - 지코 (ZICO)\\', \\' 31위: 처음처럼 - 엠씨더맥스 (M.C the MAX)\\', \\' 32위: 어떻게 이별까지 사랑하겠어, 널 사랑하는 거지 - AKMU (악동뮤지션)\\', \\' 33위: 사랑은 지날수록 더욱 선명하게 남아 - 전상근\\', \\' 34위: 시작 - 가호 (Gaho)\\', \\' 35위: 2002 - Anne-Marie\\', \\' 36위: MORE & MORE - TWICE (트와이스)\\', \\' 37위: 늦은 밤 너의 집 앞 골목길에서 - 노을\\', \\' 38위: PLAY (Feat. 창모) - 청하\\', \\' 39위: 좋은 사람 있으면 소개시켜줘 - 조이 (JOY)\\', \\' 40위: 나비와 고양이 (feat.백현 (BAEKHYUN)) - 볼빨간사춘기\\', \\' 41위: 오늘도 빛나는 너에게 (To You My Light) (Feat.이라온) - 마크툽 (MAKTUB)\\', \\' 42위: 마음을 드려요 - 아이유\\', \\' 43위: 오래된 노래 - 스탠딩 에그\\', \\' 44위: 작은 것들을 위한 시 (Boy With Luv) (Feat. Halsey) - 방탄소년단\\', \\' 45위: Monster - 레드벨벳-아이린&슬기\\', \\' 46위: 모든 날, 모든 순간 (Every day, Every Moment) - 폴킴\\', \\' 47위: Psycho - Red Velvet (레드벨벳)\\', \\' 48위: 우리 왜 헤어져야 해 - 신예영\\', \\' 49위: Maniac - Conan Gray\\', \\' 50위: 거짓말이라도 해서 널 보고싶어 - 백지영\\', \\' 51위: ON - 방탄소년단\\', \\' 52위: 이제 나만 믿어요 - 임영웅\\', \\' 53위: 안녕 - 폴킴\\', \\' 54위: Paris In The Rain - Lauv\\']'"
      ]
     },
     "execution_count": 5,
     "metadata": {},
     "output_type": "execute_result"
    }
   ],
   "source": [
    "melon_list = get_melon_list()\n",
    "melon_list = str(melon_list)\n",
    "melon_list"
   ]
  },
  {
   "cell_type": "code",
   "execution_count": 6,
   "metadata": {},
   "outputs": [],
   "source": [
    "sendMail('schw240@gmail.com', 'schw240@naver.com', news_list) ####"
   ]
  },
  {
   "cell_type": "code",
   "execution_count": 7,
   "metadata": {},
   "outputs": [],
   "source": [
    "def get_movie_list():\n",
    "    '''영화 10위를 반환합니다.'''\n",
    "    RANK = 10\n",
    "    rank_list = []\n",
    "    header =  { 'User-Agent' : ('Mozilla/5.0 (Windows NT 10.0;Win64; x64)\\\n",
    "AppleWebKit/537.36 (KHTML, like Gecko) Chrome/71.0.3578.98\\\n",
    "Safari/537.36'), } \n",
    "    req = requests.get('https://movie.naver.com/movie/sdb/rank/rmovie.nhn', headers = header)\n",
    "    html = req.text\n",
    "    parse = BeautifulSoup(html, 'html.parser')\n",
    "\n",
    "    titles = parse.find_all(\"div\", {\"class\": \"tit3\"})\n",
    "\n",
    "    title = []\n",
    "\n",
    "    for t in titles:\n",
    "        title.append(t.find('a').text)\n",
    "\n",
    "    for i in range(RANK):\n",
    "        rank_list.append('%3d위: %s'%(i+1, title[i]))\n",
    "    return rank_list"
   ]
  },
  {
   "cell_type": "code",
   "execution_count": 8,
   "metadata": {},
   "outputs": [],
   "source": [
    "movie_list = get_movie_list()\n",
    "movie_list = str(movie_list)"
   ]
  },
  {
   "cell_type": "code",
   "execution_count": 9,
   "metadata": {},
   "outputs": [],
   "source": [
    "sendMail('schw240@gmail.com', 'mroboedu@gmail.com', movie_list)"
   ]
  },
  {
   "cell_type": "code",
   "execution_count": null,
   "metadata": {},
   "outputs": [],
   "source": []
  }
 ],
 "metadata": {
  "kernelspec": {
   "display_name": "Python 3",
   "language": "python",
   "name": "python3"
  },
  "language_info": {
   "codemirror_mode": {
    "name": "ipython",
    "version": 3
   },
   "file_extension": ".py",
   "mimetype": "text/x-python",
   "name": "python",
   "nbconvert_exporter": "python",
   "pygments_lexer": "ipython3",
   "version": "3.7.4"
  }
 },
 "nbformat": 4,
 "nbformat_minor": 2
}
