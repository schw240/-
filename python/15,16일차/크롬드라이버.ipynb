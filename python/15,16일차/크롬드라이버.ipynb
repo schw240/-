{
 "cells": [
  {
   "cell_type": "code",
   "execution_count": 1,
   "metadata": {},
   "outputs": [
    {
     "name": "stdout",
     "output_type": "stream",
     "text": [
      "Requirement already satisfied: selenium in /home/ubuntu/anaconda3/lib/python3.7/site-packages (3.141.0)\n",
      "Requirement already satisfied: urllib3 in /home/ubuntu/anaconda3/lib/python3.7/site-packages (from selenium) (1.23)\n"
     ]
    }
   ],
   "source": [
    "!pip install selenium"
   ]
  },
  {
   "cell_type": "code",
   "execution_count": 4,
   "metadata": {},
   "outputs": [
    {
     "name": "stdout",
     "output_type": "stream",
     "text": [
      "cp: cannot stat '/home/ubuntu/Downloads/chromedriver': No such file or directory\r\n"
     ]
    }
   ],
   "source": [
    "!sudo cp -f ~/Downloads/chromedriver /usr/local/share/chromedriver\n",
    "!sudo ln -s /usr/local/share/chromedriver /usr/local/bin/chromedriver\n",
    "!sudo ln -s /usr/local/share/chromedriver /usr/bin/chromedriver"
   ]
  },
  {
   "cell_type": "code",
   "execution_count": 7,
   "metadata": {},
   "outputs": [
    {
     "name": "stderr",
     "output_type": "stream",
     "text": [
      "/home/ubuntu/anaconda3/lib/python3.7/site-packages/ipykernel_launcher.py:12: DeprecationWarning: use options instead of chrome_options\n",
      "  if sys.path[0] == '':\n"
     ]
    },
    {
     "name": "stdout",
     "output_type": "stream",
     "text": [
      "[['용역', '20200814816-00', 'http://www.g2b.go.kr:8081/ep/invitation/publish/bidInfoDtl.do?bidno=20200814816&bidseq=00&releaseYn=Y&taskClCd=5', '일반', '온라인 보충역 산업기능요원 채용박람회 행사 대행', 'http://www.g2b.go.kr:8081/ep/invitation/publish/bidInfoDtl.do?bidno=20200814816&bidseq=00&releaseYn=Y&taskClCd=5', '병무청', '병무청', '제한(총액)협상에의한계약', '2020/08/18 18:50\\n(2020/08/28 10:00)', '', ''], ['용역', '20200807435-00', 'http://www.g2b.go.kr:8081/ep/invitation/publish/bidInfoDtl.do?bidno=20200807435&bidseq=00&releaseYn=Y&taskClCd=1', '일반', '국방부 군무원채용관리체계 보안강화 사업', 'http://www.g2b.go.kr:8081/ep/invitation/publish/bidInfoDtl.do?bidno=20200807435&bidseq=00&releaseYn=Y&taskClCd=1', '조달청 서울지방조달청', '국방부 국방전산정보원', '제한(총액)협상에의한계약', '2020/08/13 13:45\\n(2020/09/01 10:00)', '', ''], ['용역', '20200808443-00', 'http://www.g2b.go.kr:8081/ep/invitation/publish/bidInfoDtl.do?bidno=20200808443&bidseq=00&releaseYn=Y&taskClCd=5', '일반', '제15회 외국인투자기업 온라인 채용박람회 대행', 'http://www.g2b.go.kr:8081/ep/invitation/publish/bidInfoDtl.do?bidno=20200808443&bidseq=00&releaseYn=Y&taskClCd=5', '대한무역투자진흥공사', '대한무역투자진흥공사', '제한(총액)협상에의한계약', '2020/08/11 09:41\\n(2020/08/24 10:00)', '', ''], ['용역', 'E20S071000-00', 'http://www.g2b.go.kr:8101/ep/tbid/serviceBidDtl.do?tbidno=20200737338&bidseq=00', '일반', '채용시스템 재구축', 'http://www.g2b.go.kr:8101/ep/tbid/serviceBidDtl.do?tbidno=20200737338&bidseq=00', '한국수력원자력주식회사', '한국수력원자력(주) 관리본부', '일반(총액)', '2020/07/30 11:00\\n(2020/09/09 14:00)', '', '']]\n"
     ]
    }
   ],
   "source": [
    "# 크롬 브라우저를 띄우기 위해, 웹드라이버를 가져오기\n",
    "from selenium import webdriver\n",
    "from selenium.webdriver.common.keys import Keys\n",
    "from selenium.webdriver.support.ui import Select\n",
    "from selenium.webdriver.chrome.options import Options\n",
    "\n",
    "# 크롬 드라이버로 크롬을 실행한다.\n",
    "chrome_options = Options()\n",
    "chrome_options.add_argument('--headless')\n",
    "chrome_options.add_argument('--no-sandbox')\n",
    "chrome_options.add_argument('--disable-dev-shm-usage')\n",
    "driver = webdriver.Chrome('/usr/local/share/chromedriver',chrome_options=chrome_options)\n",
    "driver.get('https://www.google.nl/')\n",
    "\n",
    "try:\n",
    "    # 입찰정보 검색 페이지로 이동\n",
    "    driver.get('http://www.g2b.go.kr:8101/ep/tbid/tbidFwd.do')\n",
    "    \n",
    "    # 업무 종류 체크\n",
    "    task_dict = {'용역': 'taskClCds5', '민간': 'taskClCds20', '기타': 'taskClCds4'}\n",
    "    for task in task_dict.values():\n",
    "        checkbox = driver.find_element_by_id(task)\n",
    "        checkbox.click()\n",
    "    \n",
    "    # 검색어\n",
    "    query = '채용'\n",
    "    # id값이 bidNm인 태그 가져오기\n",
    "    bidNm = driver.find_element_by_id('bidNm')\n",
    "    # 내용을 삭제 (버릇처럼 사용할 것!)\n",
    "    bidNm.clear()\n",
    "    # 검색어 입력후 엔터\n",
    "    bidNm.send_keys(query)\n",
    "    bidNm.send_keys(Keys.RETURN)\n",
    "    # 검색 조건 체크\n",
    "    option_dict = {'검색기간 1달': 'setMonth1_1', '입찰마감건 제외': 'exceptEnd', '검색건수 표시': 'useTotalCount'}\n",
    "    for option in option_dict.values():\n",
    "        checkbox = driver.find_element_by_id(option)\n",
    "        checkbox.click()\n",
    "    # 목록수 100건 선택 (드롭다운)\n",
    "    recordcountperpage = driver.find_element_by_name('recordCountPerPage')\n",
    "    selector = Select(recordcountperpage)\n",
    "    selector.select_by_value('100')\n",
    "    # 검색 버튼 클릭\n",
    "    search_button = driver.find_element_by_class_name('btn_mdl')\n",
    "    search_button.click()\n",
    "    # 검색 결과 확인\n",
    "    elem = driver.find_element_by_class_name('results')\n",
    "    div_list = elem.find_elements_by_tag_name('div')\n",
    "    # 검색 결과 모두 긁어서 리스트로 저장\n",
    "    results = []\n",
    "    for div in div_list:\n",
    "        results.append(div.text)\n",
    "        a_tags = div.find_elements_by_tag_name('a')\n",
    "        if a_tags:\n",
    "            for a_tag in a_tags:\n",
    "                link = a_tag.get_attribute('href')\n",
    "                results.append(link)\n",
    "    # 검색결과 모음 리스트를 12개씩 분할하여 새로운 리스트로 저장 \n",
    "    result = [results[i * 12:(i + 1) * 12] for i in range((len(results) + 12 - 1) // 12 )]\n",
    "    # 결과 출력\n",
    "    print(result)\n",
    "except Exception as e:\n",
    "    # 위 코드에서 에러가 발생한 경우 출력\n",
    "    print(e)\n",
    "finally:\n",
    "    # 에러와 관계없이 실행되고, 크롬 드라이버를 종료\n",
    "    driver.quit()"
   ]
  },
  {
   "cell_type": "code",
   "execution_count": null,
   "metadata": {},
   "outputs": [],
   "source": []
  }
 ],
 "metadata": {
  "kernelspec": {
   "display_name": "Python 3",
   "language": "python",
   "name": "python3"
  },
  "language_info": {
   "codemirror_mode": {
    "name": "ipython",
    "version": 3
   },
   "file_extension": ".py",
   "mimetype": "text/x-python",
   "name": "python",
   "nbconvert_exporter": "python",
   "pygments_lexer": "ipython3",
   "version": "3.7.0"
  }
 },
 "nbformat": 4,
 "nbformat_minor": 2
}
