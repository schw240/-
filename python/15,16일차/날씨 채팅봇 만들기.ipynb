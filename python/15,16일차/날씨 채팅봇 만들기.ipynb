{
 "cells": [
  {
   "cell_type": "code",
   "execution_count": 1,
   "metadata": {},
   "outputs": [
    {
     "name": "stdout",
     "output_type": "stream",
     "text": [
      "지역을 입력하세요:\n",
      ">>> 경기도 용인시 기흥구 중동\n",
      "=========================================\n",
      "경기도 용인시 기흥구 중동 날씨 정보입니다.\n",
      "=========================================\n",
      "현재온도: 31℃\n",
      "체감온도: 33.9˚\n",
      "오전/오후 온도: 24˚/33˚\n",
      "현재 상태: 맑음, 어제보다 1˚ 높아요\n",
      "현재 자외선 지수: 9매우 높음\n",
      "현재 미세먼지 농도: 61㎍/㎥ 보통\n",
      "현재 초미세먼지 농도: 38㎍/㎥ 나쁨\n",
      "현재 오존 지수: 0.076ppm 보통\n",
      "=========================================\n",
      "경기도 용인시 기흥구 중동 내일 날씨 정보입니다.\n",
      "=========================================\n",
      "내일 오전 온도: 23℃\n",
      "내일 오전 상태: 맑음 미세먼지 보통\n",
      "내일 오후 온도: 33℃\n",
      "내일 오후 상태: 맑음 미세먼지 보통\n"
     ]
    }
   ],
   "source": [
    "import requests\n",
    "from bs4 import BeautifulSoup\n",
    "\n",
    "location = input(\"지역을 입력하세요:\\n>>> \")\n",
    "Finallocation = location + '날씨'\n",
    "NowTemp = \"\" \n",
    "CheckDust = [] \n",
    "url = 'https://search.naver.com/search.naver?where=nexearch&sm=top_hty&fbm=1&ie=utf8&query=' + Finallocation \n",
    "hdr = {'User-Agent': ('mozilla/5.0 (windows nt 10.0; win64; x64) applewebkit/537.36 (khtml, like gecko) chrome/78.0.3904.70 safari/537.36')} \n",
    "req = requests.get(url, headers=hdr) \n",
    "html = req.text \n",
    "soup = BeautifulSoup(html, 'html.parser') \n",
    "# 오류 체크 \n",
    "ErrorCheck = soup.find('span', {'class' : 'btn_select'}) \n",
    "if 'None' in str(ErrorCheck): \n",
    "    print(\"Error! 지역 검색 오류!\") \n",
    "else: \n",
    "    # 지역 정보 \n",
    "    for i in soup.select('span[class=btn_select]'): \n",
    "        LocationInfo = i.text\n",
    "# 현재 온도 \n",
    "NowTemp = soup.find('span', {'class': 'todaytemp'}).text + soup.find('span', {'class' : 'tempmark'}).text[2:] \n",
    "# 날씨 캐스트 \n",
    "WeatherCast = soup.find('p', {'class' : 'cast_txt'}).text \n",
    "# 오늘 오전온도, 오후온도, 체감온도 \n",
    "TodayMorningTemp = soup.find('span', {'class' : 'min'}).text \n",
    "TodayAfternoonTemp = soup.find('span', {'class' : 'max'}).text \n",
    "TodayFeelTemp = soup.find('span', {'class' : 'sensible'}).text[5:] \n",
    "# 자외선 지수 \n",
    "TodayUV = soup.find('span', {'class' : 'indicator'}).text[4:-2] + \" \" + soup.find('span', {'class' : 'indicator'}).text[-2:] \n",
    "# 미세먼지, 초미세먼지, 오존 지수 \n",
    "CheckDust1 = soup.find('div', {'class': 'sub_info'}) \n",
    "CheckDust2 = CheckDust1.find('div', {'class': 'detail_box'}) \n",
    "for i in CheckDust2.select('dd'): \n",
    "    CheckDust.append(i.text) \n",
    "\n",
    "FineDust = CheckDust[0][:-2] + \" \" + CheckDust[0][-2:] \n",
    "UltraFineDust = CheckDust[1][:-2] + \" \" + CheckDust[1][-2:] \n",
    "Ozon = CheckDust[2][:-2] + \" \" + CheckDust[2][-2:] \n",
    "\n",
    "# 내일 오전, 오후 온도 및 상태 체크 \n",
    "tomorrowArea = soup.find('div', {'class': 'tomorrow_area'}) \n",
    "tomorrowCheck = tomorrowArea.find_all('div', {'class': 'main_info morning_box'}) \n",
    "# 내일 오전온도 \n",
    "tomorrowMoring1 = tomorrowCheck[0].find('span', {'class': 'todaytemp'}).text \n",
    "tomorrowMoring2 = tomorrowCheck[0].find('span', {'class' : 'tempmark'}).text[2:] \n",
    "tomorrowMoring = tomorrowMoring1 + tomorrowMoring2 \n",
    "# 내일 오전상태 \n",
    "tomorrowMState1 = tomorrowCheck[0].find('div', {'class' : 'info_data'}) \n",
    "tomorrowMState2 = tomorrowMState1.find('ul', {'class' : 'info_list'}) \n",
    "tomorrowMState3 = tomorrowMState2.find('p', {'class' : 'cast_txt'}).text \n",
    "tomorrowMState4 = tomorrowMState2.find('div', {'class' : 'detail_box'}) \n",
    "tomorrowMState5 = tomorrowMState4.find('span').text.strip() \n",
    "tomorrowMState = tomorrowMState3 + \" \" + tomorrowMState5 \n",
    "# 내일 오후온도 \n",
    "tomorrowAfter1 = tomorrowCheck[1].find('p', {'class' : 'info_temperature'}) \n",
    "tomorrowAfter2 = tomorrowAfter1.find('span', {'class' : 'todaytemp'}).text\n",
    "tomorrowAfter3 = tomorrowAfter1.find('span', {'class' : 'tempmark'}).text[2:] \n",
    "tomorrowAfter = tomorrowAfter2 + tomorrowAfter3 \n",
    "# 내일 오후상태 \n",
    "tomorrowAState1 = tomorrowCheck[1].find('div', {'class' : 'info_data'}) \n",
    "tomorrowAState2 = tomorrowAState1.find('ul', {'class' : 'info_list'}) \n",
    "tomorrowAState3 = tomorrowAState2.find('p', {'class' : 'cast_txt'}).text \n",
    "tomorrowAState4 = tomorrowAState2.find('div', {'class' : 'detail_box'}) \n",
    "tomorrowAState5 = tomorrowAState4.find('span').text.strip() \n",
    "tomorrowAState = tomorrowAState3 + \" \" + tomorrowAState5 \n",
    "\n",
    "print(\"=========================================\") \n",
    "print(LocationInfo + \" 날씨 정보입니다.\") \n",
    "print(\"=========================================\") \n",
    "print(\"현재온도: \" + NowTemp) \n",
    "print(\"체감온도: \" + TodayFeelTemp) \n",
    "print(\"오전/오후 온도: \" + TodayMorningTemp + \"/\" + TodayAfternoonTemp) \n",
    "print(\"현재 상태: \" + WeatherCast) \n",
    "print(\"현재 자외선 지수: \" + TodayUV) \n",
    "print(\"현재 미세먼지 농도: \" + FineDust) \n",
    "print(\"현재 초미세먼지 농도: \" + UltraFineDust) \n",
    "print(\"현재 오존 지수: \" + Ozon) \n",
    "print(\"=========================================\") \n",
    "print(LocationInfo + \" 내일 날씨 정보입니다.\") \n",
    "print(\"=========================================\") \n",
    "print(\"내일 오전 온도: \" + tomorrowMoring) \n",
    "print(\"내일 오전 상태: \" + tomorrowMState) \n",
    "print(\"내일 오후 온도: \" + tomorrowAfter) \n",
    "print(\"내일 오후 상태: \" + tomorrowAState)\n"
   ]
  },
  {
   "cell_type": "code",
   "execution_count": 2,
   "metadata": {},
   "outputs": [],
   "source": [
    "Locationinfo = \"서울시 중구 충무로4가\""
   ]
  },
  {
   "cell_type": "code",
   "execution_count": 16,
   "metadata": {},
   "outputs": [
    {
     "name": "stdout",
     "output_type": "stream",
     "text": [
      "=========================================\n",
      "서울시 중구 충무로4가 날씨 정보 입니다.\n",
      "=========================================\n",
      "현재 기온은 31℃도 입니다.\n",
      "현재 체감온도는 33.9˚도 입니다.\n",
      "현재 미세먼지 농도는 61㎍/㎥ 보통 상태 입니다.\n",
      "현재 초 미세먼지 농도는 38㎍/㎥ 나쁨 상태 입니다.\n",
      "여기까지 오늘의 날씨 정보 였습니다.\n",
      "=========================================\n",
      "내일의 날씨 정보 입니다.\n",
      "내일 오전 온도는 23℃도 입니다.\n",
      "내일 오전 날씨 정보는 맑음 미세먼지 보통 입니다.\n",
      "내일 오후 온도는 33℃도 입니다.\n",
      "내일 오후 날씨 정보는 맑음 미세먼지 보통 입니다.\n",
      "=========================================\n",
      "날씨 정보였습니다.\n"
     ]
    }
   ],
   "source": [
    "text = \"\"\"=========================================\\n{Locationinfo} 날씨 정보 입니다.\\n=========================================\"\"\".format(Locationinfo = Locationinfo)\n",
    "text += \"\\n\"\n",
    "text += \"현재 기온은 {0}도 입니다.\\n\".format(NowTemp)\n",
    "text += \"현재 체감온도는 {0}도 입니다.\\n\".format(TodayFeelTemp)\n",
    "text += \"현재 미세먼지 농도는 {0} 상태 입니다.\\n\".format(FineDust)\n",
    "text += \"현재 초 미세먼지 농도는 {0} 상태 입니다.\\n\".format(UltraFineDust)\n",
    "text += \"여기까지 오늘의 날씨 정보 였습니다.\\n\"\n",
    "text += \"=========================================\\n\"\n",
    "text += \"내일의 날씨 정보 입니다.\\n\"\n",
    "text += \"내일 오전 온도는 {0}도 입니다.\\n\".format(tomorrowMoring)\n",
    "text += \"내일 오전 날씨 정보는 {0} 입니다.\\n\".format(tomorrowMState)\n",
    "text += \"내일 오후 온도는 {0}도 입니다.\\n\".format(tomorrowAfter)\n",
    "text += \"내일 오후 날씨 정보는 {0} 입니다.\\n\".format(tomorrowAState)\n",
    "text += \"=========================================\\n\"\n",
    "text += \"날씨 정보였습니다.\"\n",
    "print(text)"
   ]
  },
  {
   "cell_type": "code",
   "execution_count": 12,
   "metadata": {},
   "outputs": [],
   "source": [
    "import smtplib\n",
    "import schedule\n",
    "from email.mime.text import MIMEText"
   ]
  },
  {
   "cell_type": "code",
   "execution_count": 15,
   "metadata": {},
   "outputs": [],
   "source": [
    "def sendMail(me, you, msg):\n",
    "    smtp = smtplib.SMTP_SSL('smtp.gmail.com', 465)\n",
    "    smtp.login(me, 'srglbgvobgfmempz') ####\n",
    "    msg = MIMEText(msg)\n",
    "    msg['Subject'] = '날씨보내기 테스트'###\n",
    "    \n",
    "    smtp.sendmail(me, you, msg.as_string())\n",
    "    smtp.quit()\n",
    "\n",
    "sendMail('schw240@gmail.com', 'mroboedu@gmail.com', text)"
   ]
  },
  {
   "cell_type": "code",
   "execution_count": 17,
   "metadata": {},
   "outputs": [
    {
     "name": "stdout",
     "output_type": "stream",
     "text": [
      "Collecting tweepy\n",
      "  Downloading tweepy-3.9.0-py2.py3-none-any.whl (30 kB)\n",
      "Collecting requests-oauthlib>=0.7.0\n",
      "  Downloading requests_oauthlib-1.3.0-py2.py3-none-any.whl (23 kB)\n",
      "Requirement already satisfied: six>=1.10.0 in /home/ubuntu/anaconda3/lib/python3.7/site-packages (from tweepy) (1.11.0)\n",
      "Requirement already satisfied: requests[socks]>=2.11.1 in /home/ubuntu/anaconda3/lib/python3.7/site-packages (from tweepy) (2.19.1)\n",
      "Collecting oauthlib>=3.0.0\n",
      "  Downloading oauthlib-3.1.0-py2.py3-none-any.whl (147 kB)\n",
      "\u001b[K     |████████████████████████████████| 147 kB 1.7 MB/s eta 0:00:01\n",
      "\u001b[?25hRequirement already satisfied: idna<2.8,>=2.5 in /home/ubuntu/anaconda3/lib/python3.7/site-packages (from requests[socks]>=2.11.1->tweepy) (2.7)\n",
      "Requirement already satisfied: urllib3<1.24,>=1.21.1 in /home/ubuntu/anaconda3/lib/python3.7/site-packages (from requests[socks]>=2.11.1->tweepy) (1.23)\n",
      "Requirement already satisfied: chardet<3.1.0,>=3.0.2 in /home/ubuntu/anaconda3/lib/python3.7/site-packages (from requests[socks]>=2.11.1->tweepy) (3.0.4)\n",
      "Requirement already satisfied: certifi>=2017.4.17 in /home/ubuntu/anaconda3/lib/python3.7/site-packages (from requests[socks]>=2.11.1->tweepy) (2018.8.24)\n",
      "Requirement already satisfied: PySocks!=1.5.7,>=1.5.6; extra == \"socks\" in /home/ubuntu/anaconda3/lib/python3.7/site-packages (from requests[socks]>=2.11.1->tweepy) (1.6.8)\n",
      "Installing collected packages: oauthlib, requests-oauthlib, tweepy\n",
      "Successfully installed oauthlib-3.1.0 requests-oauthlib-1.3.0 tweepy-3.9.0\n"
     ]
    }
   ],
   "source": [
    "!pip install tweepy"
   ]
  },
  {
   "cell_type": "code",
   "execution_count": 18,
   "metadata": {},
   "outputs": [],
   "source": [
    "import tweepy"
   ]
  },
  {
   "cell_type": "code",
   "execution_count": 19,
   "metadata": {},
   "outputs": [],
   "source": [
    "consumer_key = 'zS4VZ7gwe6ciRVgvPRAJrcgij'\n",
    "consumer_secret = '11WYPSmuTzt0meXwAdLXz9Hdh2HdFLSMRuRiljByKTdomW7ygy'\n",
    "access_token = '1295962035780349952-gcMZdz0Jb0M6Z9tECGqOGdnykFq8xy'\n",
    "access_token_secret = 'fdgUe8H2xpwnGnl3zoxMQeCsHwyJgaVB7z0xYoEiKa0rA'"
   ]
  },
  {
   "cell_type": "code",
   "execution_count": 20,
   "metadata": {},
   "outputs": [
    {
     "data": {
      "text/plain": [
       "<tweepy.api.API at 0x7f1683104e10>"
      ]
     },
     "execution_count": 20,
     "metadata": {},
     "output_type": "execute_result"
    }
   ],
   "source": [
    "# 인증키값들 보내주기\n",
    "auth = tweepy.OAuthHandler(consumer_key, consumer_secret) #consumer_key, consumer_secret\n",
    "auth.set_access_token(access_token, access_token_secret) #access_token, access_token_secret\n",
    "api = tweepy.API(auth)\n",
    "api"
   ]
  },
  {
   "cell_type": "code",
   "execution_count": 21,
   "metadata": {},
   "outputs": [
    {
     "data": {
      "text/plain": [
       "'안녕하세요!'"
      ]
     },
     "execution_count": 21,
     "metadata": {},
     "output_type": "execute_result"
    }
   ],
   "source": [
    "tweet = \"안녕하세요!\"\n",
    "tweet"
   ]
  },
  {
   "cell_type": "code",
   "execution_count": 22,
   "metadata": {},
   "outputs": [
    {
     "data": {
      "text/plain": [
       "Status(_api=<tweepy.api.API object at 0x7f1683104e10>, _json={'created_at': 'Wed Aug 19 07:53:22 +0000 2020', 'id': 1295992238401437696, 'id_str': '1295992238401437696', 'text': '안녕하세요!', 'truncated': False, 'entities': {'hashtags': [], 'symbols': [], 'user_mentions': [], 'urls': []}, 'source': '', 'in_reply_to_status_id': None, 'in_reply_to_status_id_str': None, 'in_reply_to_user_id': None, 'in_reply_to_user_id_str': None, 'in_reply_to_screen_name': None, 'user': {'id': 1295962035780349952, 'id_str': '1295962035780349952', 'name': 'kimhanju', 'screen_name': 'kimhanju4', 'location': '', 'description': '', 'url': None, 'entities': {'description': {'urls': []}}, 'protected': False, 'followers_count': 0, 'friends_count': 0, 'listed_count': 0, 'created_at': 'Wed Aug 19 05:53:30 +0000 2020', 'favourites_count': 0, 'utc_offset': None, 'time_zone': None, 'geo_enabled': False, 'verified': False, 'statuses_count': 1, 'lang': None, 'contributors_enabled': False, 'is_translator': False, 'is_translation_enabled': False, 'profile_background_color': 'F5F8FA', 'profile_background_image_url': None, 'profile_background_image_url_https': None, 'profile_background_tile': False, 'profile_image_url': 'http://abs.twimg.com/sticky/default_profile_images/default_profile_normal.png', 'profile_image_url_https': 'https://abs.twimg.com/sticky/default_profile_images/default_profile_normal.png', 'profile_link_color': '1DA1F2', 'profile_sidebar_border_color': 'C0DEED', 'profile_sidebar_fill_color': 'DDEEF6', 'profile_text_color': '333333', 'profile_use_background_image': True, 'has_extended_profile': True, 'default_profile': True, 'default_profile_image': True, 'following': False, 'follow_request_sent': False, 'notifications': False, 'translator_type': 'none'}, 'geo': None, 'coordinates': None, 'place': None, 'contributors': None, 'is_quote_status': False, 'retweet_count': 0, 'favorite_count': 0, 'favorited': False, 'retweeted': False, 'lang': 'ko'}, created_at=datetime.datetime(2020, 8, 19, 7, 53, 22), id=1295992238401437696, id_str='1295992238401437696', text='안녕하세요!', truncated=False, entities={'hashtags': [], 'symbols': [], 'user_mentions': [], 'urls': []}, source='', source_url=None, in_reply_to_status_id=None, in_reply_to_status_id_str=None, in_reply_to_user_id=None, in_reply_to_user_id_str=None, in_reply_to_screen_name=None, author=User(_api=<tweepy.api.API object at 0x7f1683104e10>, _json={'id': 1295962035780349952, 'id_str': '1295962035780349952', 'name': 'kimhanju', 'screen_name': 'kimhanju4', 'location': '', 'description': '', 'url': None, 'entities': {'description': {'urls': []}}, 'protected': False, 'followers_count': 0, 'friends_count': 0, 'listed_count': 0, 'created_at': 'Wed Aug 19 05:53:30 +0000 2020', 'favourites_count': 0, 'utc_offset': None, 'time_zone': None, 'geo_enabled': False, 'verified': False, 'statuses_count': 1, 'lang': None, 'contributors_enabled': False, 'is_translator': False, 'is_translation_enabled': False, 'profile_background_color': 'F5F8FA', 'profile_background_image_url': None, 'profile_background_image_url_https': None, 'profile_background_tile': False, 'profile_image_url': 'http://abs.twimg.com/sticky/default_profile_images/default_profile_normal.png', 'profile_image_url_https': 'https://abs.twimg.com/sticky/default_profile_images/default_profile_normal.png', 'profile_link_color': '1DA1F2', 'profile_sidebar_border_color': 'C0DEED', 'profile_sidebar_fill_color': 'DDEEF6', 'profile_text_color': '333333', 'profile_use_background_image': True, 'has_extended_profile': True, 'default_profile': True, 'default_profile_image': True, 'following': False, 'follow_request_sent': False, 'notifications': False, 'translator_type': 'none'}, id=1295962035780349952, id_str='1295962035780349952', name='kimhanju', screen_name='kimhanju4', location='', description='', url=None, entities={'description': {'urls': []}}, protected=False, followers_count=0, friends_count=0, listed_count=0, created_at=datetime.datetime(2020, 8, 19, 5, 53, 30), favourites_count=0, utc_offset=None, time_zone=None, geo_enabled=False, verified=False, statuses_count=1, lang=None, contributors_enabled=False, is_translator=False, is_translation_enabled=False, profile_background_color='F5F8FA', profile_background_image_url=None, profile_background_image_url_https=None, profile_background_tile=False, profile_image_url='http://abs.twimg.com/sticky/default_profile_images/default_profile_normal.png', profile_image_url_https='https://abs.twimg.com/sticky/default_profile_images/default_profile_normal.png', profile_link_color='1DA1F2', profile_sidebar_border_color='C0DEED', profile_sidebar_fill_color='DDEEF6', profile_text_color='333333', profile_use_background_image=True, has_extended_profile=True, default_profile=True, default_profile_image=True, following=False, follow_request_sent=False, notifications=False, translator_type='none'), user=User(_api=<tweepy.api.API object at 0x7f1683104e10>, _json={'id': 1295962035780349952, 'id_str': '1295962035780349952', 'name': 'kimhanju', 'screen_name': 'kimhanju4', 'location': '', 'description': '', 'url': None, 'entities': {'description': {'urls': []}}, 'protected': False, 'followers_count': 0, 'friends_count': 0, 'listed_count': 0, 'created_at': 'Wed Aug 19 05:53:30 +0000 2020', 'favourites_count': 0, 'utc_offset': None, 'time_zone': None, 'geo_enabled': False, 'verified': False, 'statuses_count': 1, 'lang': None, 'contributors_enabled': False, 'is_translator': False, 'is_translation_enabled': False, 'profile_background_color': 'F5F8FA', 'profile_background_image_url': None, 'profile_background_image_url_https': None, 'profile_background_tile': False, 'profile_image_url': 'http://abs.twimg.com/sticky/default_profile_images/default_profile_normal.png', 'profile_image_url_https': 'https://abs.twimg.com/sticky/default_profile_images/default_profile_normal.png', 'profile_link_color': '1DA1F2', 'profile_sidebar_border_color': 'C0DEED', 'profile_sidebar_fill_color': 'DDEEF6', 'profile_text_color': '333333', 'profile_use_background_image': True, 'has_extended_profile': True, 'default_profile': True, 'default_profile_image': True, 'following': False, 'follow_request_sent': False, 'notifications': False, 'translator_type': 'none'}, id=1295962035780349952, id_str='1295962035780349952', name='kimhanju', screen_name='kimhanju4', location='', description='', url=None, entities={'description': {'urls': []}}, protected=False, followers_count=0, friends_count=0, listed_count=0, created_at=datetime.datetime(2020, 8, 19, 5, 53, 30), favourites_count=0, utc_offset=None, time_zone=None, geo_enabled=False, verified=False, statuses_count=1, lang=None, contributors_enabled=False, is_translator=False, is_translation_enabled=False, profile_background_color='F5F8FA', profile_background_image_url=None, profile_background_image_url_https=None, profile_background_tile=False, profile_image_url='http://abs.twimg.com/sticky/default_profile_images/default_profile_normal.png', profile_image_url_https='https://abs.twimg.com/sticky/default_profile_images/default_profile_normal.png', profile_link_color='1DA1F2', profile_sidebar_border_color='C0DEED', profile_sidebar_fill_color='DDEEF6', profile_text_color='333333', profile_use_background_image=True, has_extended_profile=True, default_profile=True, default_profile_image=True, following=False, follow_request_sent=False, notifications=False, translator_type='none'), geo=None, coordinates=None, place=None, contributors=None, is_quote_status=False, retweet_count=0, favorite_count=0, favorited=False, retweeted=False, lang='ko')"
      ]
     },
     "execution_count": 22,
     "metadata": {},
     "output_type": "execute_result"
    }
   ],
   "source": [
    "# 트윗 업로드!\n",
    "api.update_status(status=tweet)"
   ]
  },
  {
   "cell_type": "code",
   "execution_count": 65,
   "metadata": {},
   "outputs": [],
   "source": [
    "def get_weather_news():\n",
    "    \n",
    "    import requests\n",
    "    from bs4 import BeautifulSoup\n",
    "    \n",
    "\n",
    "    Finallocation = location + '날씨' \n",
    "    LocationInfo = \"\" \n",
    "    NowTemp = \"\" \n",
    "    CheckDust = [] \n",
    "    url = 'https://search.naver.com/search.naver?where=nexearch&sm=top_hty&fbm=1&ie=utf8&query=' + Finallocation \n",
    "    hdr = {'User-Agent': ('mozilla/5.0 (windows nt 10.0; win64; x64) applewebkit/537.36 (khtml, like gecko) chrome/78.0.3904.70 safari/537.36')} \n",
    "    req = requests.get(url, headers=hdr) \n",
    "    html = req.text \n",
    "    soup = BeautifulSoup(html, 'html.parser') \n",
    "    # 오류 체크 \n",
    "    ErrorCheck = soup.find('span', {'class' : 'btn_select'}) \n",
    "    if 'None' in str(ErrorCheck): \n",
    "        print(\"Error! 지역 검색 오류!\") \n",
    "    else: \n",
    "        # 지역 정보 \n",
    "        for i in soup.select('span[class=btn_select]'): \n",
    "            LocationInfo = i.text\n",
    "    # 현재 온도 \n",
    "    NowTemp = soup.find('span', {'class': 'todaytemp'}).text + soup.find('span', {'class' : 'tempmark'}).text[2:] \n",
    "    # 날씨 캐스트 \n",
    "    WeatherCast = soup.find('p', {'class' : 'cast_txt'}).text \n",
    "    # 오늘 오전온도, 오후온도, 체감온도 \n",
    "    TodayMorningTemp = soup.find('span', {'class' : 'min'}).text \n",
    "    TodayAfternoonTemp = soup.find('span', {'class' : 'max'}).text \n",
    "    TodayFeelTemp = soup.find('span', {'class' : 'sensible'}).text[5:] \n",
    "    # 자외선 지수 \n",
    "    TodayUV = soup.find('span', {'class' : 'indicator'}).text[4:-2] + \" \" + soup.find('span', {'class' : 'indicator'}).text[-2:] \n",
    "    # 미세먼지, 초미세먼지, 오존 지수 \n",
    "    CheckDust1 = soup.find('div', {'class': 'sub_info'}) \n",
    "    CheckDust2 = CheckDust1.find('div', {'class': 'detail_box'}) \n",
    "    for i in CheckDust2.select('dd'): \n",
    "        CheckDust.append(i.text) \n",
    "\n",
    "    FineDust = CheckDust[0][:-2] + \" \" + CheckDust[0][-2:] \n",
    "    UltraFineDust = CheckDust[1][:-2] + \" \" + CheckDust[1][-2:] \n",
    "    Ozon = CheckDust[2][:-2] + \" \" + CheckDust[2][-2:] \n",
    "\n",
    "    # 내일 오전, 오후 온도 및 상태 체크 \n",
    "    tomorrowArea = soup.find('div', {'class': 'tomorrow_area'}) \n",
    "    tomorrowCheck = tomorrowArea.find_all('div', {'class': 'main_info morning_box'}) \n",
    "    # 내일 오전온도 \n",
    "    tomorrowMoring1 = tomorrowCheck[0].find('span', {'class': 'todaytemp'}).text \n",
    "    tomorrowMoring2 = tomorrowCheck[0].find('span', {'class' : 'tempmark'}).text[2:] \n",
    "    tomorrowMoring = tomorrowMoring1 + tomorrowMoring2 \n",
    "    # 내일 오전상태 \n",
    "    tomorrowMState1 = tomorrowCheck[0].find('div', {'class' : 'info_data'}) \n",
    "    tomorrowMState2 = tomorrowMState1.find('ul', {'class' : 'info_list'}) \n",
    "    tomorrowMState3 = tomorrowMState2.find('p', {'class' : 'cast_txt'}).text \n",
    "    tomorrowMState4 = tomorrowMState2.find('div', {'class' : 'detail_box'}) \n",
    "    tomorrowMState5 = tomorrowMState4.find('span').text.strip() \n",
    "    tomorrowMState = tomorrowMState3 + \" \" + tomorrowMState5 \n",
    "    # 내일 오후온도 \n",
    "    tomorrowAfter1 = tomorrowCheck[1].find('p', {'class' : 'info_temperature'}) \n",
    "    tomorrowAfter2 = tomorrowAfter1.find('span', {'class' : 'todaytemp'}).text\n",
    "    tomorrowAfter3 = tomorrowAfter1.find('span', {'class' : 'tempmark'}).text[2:] \n",
    "    tomorrowAfter = tomorrowAfter2 + tomorrowAfter3 \n",
    "    # 내일 오후상태 \n",
    "    tomorrowAState1 = tomorrowCheck[1].find('div', {'class' : 'info_data'}) \n",
    "    tomorrowAState2 = tomorrowAState1.find('ul', {'class' : 'info_list'}) \n",
    "    tomorrowAState3 = tomorrowAState2.find('p', {'class' : 'cast_txt'}).text \n",
    "    tomorrowAState4 = tomorrowAState2.find('div', {'class' : 'detail_box'}) \n",
    "    tomorrowAState5 = tomorrowAState4.find('span').text.strip() \n",
    "    tomorrowAState = tomorrowAState3 + \" \" + tomorrowAState5 \n",
    "    \n",
    "    text = \"\"\"{Locationinfo} 날씨 정보 입니다.\\n\"\"\".format(Locationinfo = Locationinfo)\n",
    "    text += \"현재 기온은 {0}도 입니다.\\n\".format(NowTemp)\n",
    "    text += \"현재 미세먼지 농도는 {0} 상태 입니다.\\n\".format(FineDust)\n",
    "#    text += \"내일의 날씨 정보 입니다.\\n\"\n",
    "#    text += \"내일 오전 온도는 {0}도 입니다.\\n\".format(tomorrowMoring)\n",
    "#    text += \"내일 오전 날씨 정보는 {0} 입니다.\\n\".format(tomorrowMState)\n",
    "#    text += \"내일 오후 온도는 {0}도 입니다.\\n\".format(tomorrowAfter)\n",
    "#    text += \"내일 오후 날씨 정보는 {0} 입니다.\\n\".format(tomorrowAState)\n",
    "    \n",
    "    return text\n"
   ]
  },
  {
   "cell_type": "code",
   "execution_count": 66,
   "metadata": {},
   "outputs": [],
   "source": [
    "weather_text = get_weather_news()"
   ]
  },
  {
   "cell_type": "code",
   "execution_count": 67,
   "metadata": {},
   "outputs": [
    {
     "data": {
      "text/plain": [
       "70"
      ]
     },
     "execution_count": 67,
     "metadata": {},
     "output_type": "execute_result"
    }
   ],
   "source": [
    "len(weather_text)"
   ]
  },
  {
   "cell_type": "code",
   "execution_count": 68,
   "metadata": {},
   "outputs": [],
   "source": [
    "import datetime\n",
    "\n",
    "def write_tweet():\n",
    "    try:\n",
    "        # 현재 날짜 정보 가져오기 (년,월,일)\n",
    "        year = str(datetime.datetime.now().year)\n",
    "        month = str(datetime.datetime.now().month)\n",
    "        day = str(datetime.datetime.now().day)\n",
    "\n",
    "        text = get_weather_news()\n",
    "        print(len(text))\n",
    "        consumer_key = 'zS4VZ7gwe6ciRVgvPRAJrcgij'\n",
    "        consumer_secret = '11WYPSmuTzt0meXwAdLXz9Hdh2HdFLSMRuRiljByKTdomW7ygy'\n",
    "        access_token = '1295962035780349952-gcMZdz0Jb0M6Z9tECGqOGdnykFq8xy'\n",
    "        access_token_secret = 'fdgUe8H2xpwnGnl3zoxMQeCsHwyJgaVB7z0xYoEiKa0rA'\n",
    "\n",
    "        # 사진도 같이 업로드!\n",
    "        \n",
    "\n",
    "        tweet = text\n",
    "        media_ids = []\n",
    "        res = api.media_upload('./지아코.jpg') # 사진 업로드 먼저 하기!\n",
    "        media_ids.append(res.media_id)\n",
    "        api.update_status(media_ids=media_ids,status=tweet)\n",
    "    \n",
    "    except:\n",
    "        raise ValueError(\"에러났음\")"
   ]
  },
  {
   "cell_type": "code",
   "execution_count": 69,
   "metadata": {},
   "outputs": [
    {
     "name": "stdout",
     "output_type": "stream",
     "text": [
      "70\n"
     ]
    }
   ],
   "source": [
    "write_tweet()"
   ]
  },
  {
   "cell_type": "code",
   "execution_count": 70,
   "metadata": {},
   "outputs": [],
   "source": [
    "import schedule\n",
    "from time import sleep"
   ]
  },
  {
   "cell_type": "code",
   "execution_count": null,
   "metadata": {},
   "outputs": [
    {
     "name": "stdout",
     "output_type": "stream",
     "text": [
      "70\n"
     ]
    }
   ],
   "source": [
    "schedule.every(5).minutes.do(write_tweet)\n",
    "while True:\n",
    "    schedule.run_pending()\n",
    "    sleep(30) "
   ]
  },
  {
   "cell_type": "code",
   "execution_count": null,
   "metadata": {},
   "outputs": [],
   "source": []
  }
 ],
 "metadata": {
  "kernelspec": {
   "display_name": "Python 3",
   "language": "python",
   "name": "python3"
  },
  "language_info": {
   "codemirror_mode": {
    "name": "ipython",
    "version": 3
   },
   "file_extension": ".py",
   "mimetype": "text/x-python",
   "name": "python",
   "nbconvert_exporter": "python",
   "pygments_lexer": "ipython3",
   "version": "3.7.0"
  }
 },
 "nbformat": 4,
 "nbformat_minor": 2
}
