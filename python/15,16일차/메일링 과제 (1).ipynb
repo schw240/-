{
 "cells": [
  {
   "cell_type": "markdown",
   "metadata": {},
   "source": [
    "# 아래 내용은 구글 메일의 세팅을 마친 후에 진행가능합니다!"
   ]
  },
  {
   "cell_type": "code",
   "execution_count": 1,
   "metadata": {},
   "outputs": [],
   "source": [
    "import smtplib\n",
    "import schedule\n",
    "import time\n",
    "import datetime\n",
    "from email.mime.text import MIMEText\n",
    "\n",
    "def sendMail(me, you, msg):\n",
    "    smtp = smtplib.SMTP_SSL('smtp.gmail.com', 465)\n",
    "    smtp.login(me, 'srglbgvobgfmempz') ####\n",
    "    msg = MIMEText(msg)\n",
    "    msg['Subject'] = '아시아 경제 클라우드반 메일보내기 테스트'###\n",
    "    smtp.sendmail(me, you, msg.as_string())\n",
    "    smtp.quit()\n"
   ]
  },
  {
   "cell_type": "code",
   "execution_count": 2,
   "metadata": {},
   "outputs": [],
   "source": [
    "def get_news_list():\n",
    "    '''현재 네이버 실시간 검색어 순위 20개를 가져옵니다.'''\n",
    "    import requests\n",
    "    import json\n",
    "\n",
    "    url = 'https://www.naver.com/srchrank?frm=main&ag=20s&gr=0&ma=0&si=0&en=0&sp=0'\n",
    "    res = json.loads(requests.get(url).content)\n",
    "    rank = [*map(lambda item: item['keyword'], res['data'])]\n",
    "    rank_list = []\n",
    "\n",
    "    for i in range(len(rank)):\n",
    "        ranks= i + 1\n",
    "        rank_list.append(str(ranks) + '위 : ' + str(rank[i]))\n",
    "\n",
    "    # rank_list\n",
    "\n",
    "\n",
    "    return rank_list"
   ]
  },
  {
   "cell_type": "code",
   "execution_count": 3,
   "metadata": {},
   "outputs": [],
   "source": [
    "import requests\n",
    "from bs4 import BeautifulSoup\n",
    " \n",
    "def get_melon_list():\n",
    "    '''현재 멜론 인기곡 최신 54위를 반환합니다.'''\n",
    "    RANK = 54\n",
    "    rank_list = []\n",
    "    header =  { 'User-Agent' : ('Mozilla/5.0 (Windows NT 10.0;Win64; x64)\\\n",
    "AppleWebKit/537.36 (KHTML, like Gecko) Chrome/71.0.3578.98\\\n",
    "Safari/537.36'), } \n",
    "    req = requests.get('https://www.melon.com/chart/index.htm', headers = header)\n",
    "    html = req.text\n",
    "    parse = BeautifulSoup(html, 'html.parser')\n",
    "\n",
    "    titles = parse.find_all(\"div\", {\"class\": \"ellipsis rank01\"})\n",
    "    songs = parse.find_all(\"div\", {\"class\": \"ellipsis rank02\"})\n",
    "\n",
    "    title = []\n",
    "    song = []\n",
    "\n",
    "    for t in titles:\n",
    "        title.append(t.find('a').text)\n",
    "\n",
    "    for s in songs:\n",
    "        song.append(s.find('span', {\"class\": \"checkEllipsis\"}).text)\n",
    "\n",
    "    for i in range(RANK):\n",
    "        rank_list.append('%3d위: %s - %s'%(i+1, title[i], song[i]))\n",
    "    return rank_list"
   ]
  },
  {
   "cell_type": "markdown",
   "metadata": {},
   "source": [
    "# 과제: 위 컨텐츠  중 하나를 활용해,\n",
    "# 1) 네이버 실시간 검색어 순위 2) 멜론 차트 중 하나를 골라\n",
    "\n",
    "# mroboedu@gmail.com으로 5분마다 메일을 보내도록 해주세요!\n",
    "\n",
    "# 번외 : 만약이 위가 너무 쉽다면, 본인이 할 수 있는 분석 (자연어 분석, 웹크롤링) 등의 결과물을 실시간으로 메일링 하는 서비스를 만들어보아요!\n",
    "\n",
    "# 시간 : 1시간\n",
    "\n"
   ]
  },
  {
   "cell_type": "code",
   "execution_count": 7,
   "metadata": {},
   "outputs": [],
   "source": [
    "import requests\n",
    "from bs4 import BeautifulSoup\n",
    "\n",
    "def get_movie_list():\n",
    "    '''영화 10위를 반환합니다.'''\n",
    "    RANK = 10\n",
    "    rank_list = []\n",
    "    header =  { 'User-Agent' : ('Mozilla/5.0 (Windows NT 10.0;Win64; x64)\\\n",
    "AppleWebKit/537.36 (KHTML, like Gecko) Chrome/71.0.3578.98\\\n",
    "Safari/537.36'), } \n",
    "    req = requests.get('https://movie.naver.com/movie/sdb/rank/rmovie.nhn', headers = header)\n",
    "    html = req.text\n",
    "    parse = BeautifulSoup(html, 'html.parser')\n",
    "\n",
    "    titles = parse.find_all(\"div\", {\"class\": \"tit3\"})\n",
    "\n",
    "    title = []\n",
    "    song = []\n",
    "\n",
    "    for t in titles:\n",
    "        title.append(t.find('a').text)\n",
    "\n",
    "    for i in range(RANK):\n",
    "        rank_list.append('%3d위: %s'%(i+1, title[i]))\n",
    "    return rank_list"
   ]
  },
  {
   "cell_type": "code",
   "execution_count": 8,
   "metadata": {},
   "outputs": [],
   "source": [
    "movie_list = get_movie_list()"
   ]
  },
  {
   "cell_type": "code",
   "execution_count": 9,
   "metadata": {},
   "outputs": [],
   "source": [
    "movie_list = str(movie_list)"
   ]
  },
  {
   "cell_type": "code",
   "execution_count": 10,
   "metadata": {},
   "outputs": [
    {
     "data": {
      "text/plain": [
       "\"['  1위: 다만 악에서 구하소서', '  2위: 오케이 마담', '  3위: 강철비2: 정상회담', '  4위: 반도', '  5위: 반교: 디텐션', '  6위: 인셉션', '  7위: 테넷', '  8위: 국제수사', '  9위: 더 프린세스 : 도둑맞은 공주', ' 10위: 워터 릴리스']\""
      ]
     },
     "execution_count": 10,
     "metadata": {},
     "output_type": "execute_result"
    }
   ],
   "source": [
    "movie_list"
   ]
  },
  {
   "cell_type": "code",
   "execution_count": 11,
   "metadata": {},
   "outputs": [],
   "source": [
    "def job():\n",
    "    sendMail('schw240@gmail.com', 'mroboedu@gmail.com', movie_list)\n",
    "    sendMail('schw240@gmail.com', 'schw240@naver.com', movie_list)\n",
    "    print(\"Sending Email\")"
   ]
  },
  {
   "cell_type": "code",
   "execution_count": 12,
   "metadata": {},
   "outputs": [
    {
     "name": "stdout",
     "output_type": "stream",
     "text": [
      "Sending Email\n",
      "Sending Email\n",
      "Sending Email\n",
      "Sending Email\n",
      "Sending Email\n",
      "Sending Email\n",
      "Sending Email\n",
      "Sending Email\n",
      "Sending Email\n",
      "Sending Email\n",
      "Sending Email\n",
      "Sending Email\n",
      "Sending Email\n",
      "Sending Email\n"
     ]
    },
    {
     "ename": "KeyboardInterrupt",
     "evalue": "",
     "output_type": "error",
     "traceback": [
      "\u001b[0;31m---------------------------------------------------------------------------\u001b[0m",
      "\u001b[0;31mKeyboardInterrupt\u001b[0m                         Traceback (most recent call last)",
      "\u001b[0;32m<ipython-input-12-64e76b0e866b>\u001b[0m in \u001b[0;36m<module>\u001b[0;34m()\u001b[0m\n\u001b[1;32m      3\u001b[0m \u001b[0;32mwhile\u001b[0m \u001b[0;32mTrue\u001b[0m\u001b[0;34m:\u001b[0m\u001b[0;34m\u001b[0m\u001b[0m\n\u001b[1;32m      4\u001b[0m     \u001b[0mschedule\u001b[0m\u001b[0;34m.\u001b[0m\u001b[0mrun_pending\u001b[0m\u001b[0;34m(\u001b[0m\u001b[0;34m)\u001b[0m\u001b[0;34m\u001b[0m\u001b[0m\n\u001b[0;32m----> 5\u001b[0;31m     \u001b[0mtime\u001b[0m\u001b[0;34m.\u001b[0m\u001b[0msleep\u001b[0m\u001b[0;34m(\u001b[0m\u001b[0;36m1\u001b[0m\u001b[0;34m)\u001b[0m\u001b[0;34m\u001b[0m\u001b[0m\n\u001b[0m",
      "\u001b[0;31mKeyboardInterrupt\u001b[0m: "
     ]
    }
   ],
   "source": [
    "schedule.every(5).minutes.do(job)\n",
    "\n",
    "while True: \n",
    "    schedule.run_pending() \n",
    "    time.sleep(1)"
   ]
  },
  {
   "cell_type": "code",
   "execution_count": null,
   "metadata": {},
   "outputs": [],
   "source": []
  }
 ],
 "metadata": {
  "kernelspec": {
   "display_name": "Python 3",
   "language": "python",
   "name": "python3"
  },
  "language_info": {
   "codemirror_mode": {
    "name": "ipython",
    "version": 3
   },
   "file_extension": ".py",
   "mimetype": "text/x-python",
   "name": "python",
   "nbconvert_exporter": "python",
   "pygments_lexer": "ipython3",
   "version": "3.7.0"
  }
 },
 "nbformat": 4,
 "nbformat_minor": 2
}
