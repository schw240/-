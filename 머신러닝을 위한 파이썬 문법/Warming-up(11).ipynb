{
 "cells": [
  {
   "cell_type": "code",
   "execution_count": 47,
   "metadata": {},
   "outputs": [],
   "source": [
    "def is_goodpw(data):\n",
    "    if len(data) < 10:\n",
    "        return False\n",
    "    if not any(xx.isdigit() for xx in data):\n",
    "        return False\n",
    "    if data.isupper == data:\n",
    "        return False\n",
    "    if data.islower == data:\n",
    "        return False\n",
    "    if not any(d in data for d in '!@#$%^&*()'):\n",
    "        return False\n",
    "    else:\n",
    "        return True"
   ]
  },
  {
   "cell_type": "code",
   "execution_count": 48,
   "metadata": {},
   "outputs": [
    {
     "name": "stdout",
     "output_type": "stream",
     "text": [
      "True\n"
     ]
    }
   ],
   "source": [
    "print(is_goodpw('124asdhHH##((())))))(())'))"
   ]
  },
  {
   "cell_type": "code",
   "execution_count": null,
   "metadata": {},
   "outputs": [],
   "source": [
    "def is_goodpw(data):\n",
    "    if len(data) < 10:\n",
    "        return False\n",
    "    #data를 하나씩 가져와서 isdigit()를 통해 숫자인지 확인해보고 하나라도 없을때\n",
    "    if not any(xx.isdigit() for xx in data):\n",
    "         return False\n",
    "    #data를 대문자화시킨것이 data와 같다면 소문자가 없다는뜻\n",
    "    if data.isupper == data:\n",
    "        return False\n",
    "    #대문자가 없다는 뜻\n",
    "    if data.islower == data:\n",
    "        return False\n",
    "    if not any(xx in data for xx in )"
   ]
  }
 ],
 "metadata": {
  "kernelspec": {
   "display_name": "Python 3",
   "language": "python",
   "name": "python3"
  },
  "language_info": {
   "codemirror_mode": {
    "name": "ipython",
    "version": 3
   },
   "file_extension": ".py",
   "mimetype": "text/x-python",
   "name": "python",
   "nbconvert_exporter": "python",
   "pygments_lexer": "ipython3",
   "version": "3.8.3"
  }
 },
 "nbformat": 4,
 "nbformat_minor": 4
}
