{
 "cells": [
  {
   "cell_type": "code",
   "execution_count": 15,
   "metadata": {},
   "outputs": [],
   "source": [
    "from collections import deque\n",
    "\n",
    "def solution(prices):\n",
    "    answer = []\n",
    "    \n",
    "    que_prices = deque(prices)\n",
    "    while que_prices:\n",
    "        #큐의 제일 앞 값과 나머지 비교\n",
    "        price = que_prices.popleft()\n",
    "        #inc 초기화\n",
    "        inc = 0\n",
    "        \n",
    "        for n in que_prices:\n",
    "            #맨 앞의 값인 1이 빠진 나머지 2,3,2,3과 크기 비교\n",
    "            #그다음 2와 3,2,3 비교\n",
    "            # 3과 2,3 비교\n",
    "            # 2와 3 비교\n",
    "            #마지막 3 비교할게 없음\n",
    "            inc += 1\n",
    "            #다음값이 만약 n보다 크면 멈춤\n",
    "            if price > n:\n",
    "                break\n",
    "        #4, 3, 1, 1, \n",
    "        answer.append(inc)\n",
    "            \n",
    "    return answer"
   ]
  },
  {
   "cell_type": "code",
   "execution_count": 20,
   "metadata": {},
   "outputs": [],
   "source": [
    "from collections import deque\n",
    "\n",
    "def solution(prices):\n",
    "    answer = []\n",
    "    que_prices = deque(prices)\n",
    "    \n",
    "    while que_prices:\n",
    "        price = que_prices.popleft()\n",
    "        inc = 0\n",
    "        \n",
    "        for n in que_prices:\n",
    "            #price와 나머지 큐안의 n값과 비교해서 조건에 안걸리면 inc증가\n",
    "            inc += 1\n",
    "            #만약 price가 n보다 커지면 멈춤\n",
    "            if price > n:\n",
    "                break\n",
    "        answer.append(inc)\n",
    "    return answer"
   ]
  },
  {
   "cell_type": "code",
   "execution_count": 21,
   "metadata": {},
   "outputs": [
    {
     "data": {
      "text/plain": [
       "[4, 3, 1, 1, 0]"
      ]
     },
     "execution_count": 21,
     "metadata": {},
     "output_type": "execute_result"
    }
   ],
   "source": [
    "solution([1,2,3,2,3])"
   ]
  },
  {
   "cell_type": "code",
   "execution_count": 17,
   "metadata": {},
   "outputs": [
    {
     "data": {
      "text/plain": [
       "[4, 3, 1, 1, 0]"
      ]
     },
     "execution_count": 17,
     "metadata": {},
     "output_type": "execute_result"
    }
   ],
   "source": [
    "#다른 풀이\n",
    "def solution(prices):\n",
    "    answer = [0]*len(prices)\n",
    "    for i in range(len(prices)):\n",
    "        for j in range(i+1,len(prices)):\n",
    "            if prices[i] <= prices[j]:\n",
    "                answer[i] += 1\n",
    "            else:\n",
    "                answer[i] += 1\n",
    "                break\n",
    "    \n",
    "    return answer\n",
    "\n",
    "solution([1,2,3,2,3])"
   ]
  },
  {
   "cell_type": "code",
   "execution_count": null,
   "metadata": {},
   "outputs": [],
   "source": []
  }
 ],
 "metadata": {
  "kernelspec": {
   "display_name": "Python 3",
   "language": "python",
   "name": "python3"
  },
  "language_info": {
   "codemirror_mode": {
    "name": "ipython",
    "version": 3
   },
   "file_extension": ".py",
   "mimetype": "text/x-python",
   "name": "python",
   "nbconvert_exporter": "python",
   "pygments_lexer": "ipython3",
   "version": "3.7.9"
  }
 },
 "nbformat": 4,
 "nbformat_minor": 4
}
