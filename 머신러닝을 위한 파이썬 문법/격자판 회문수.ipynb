{
 "cells": [
  {
   "cell_type": "code",
   "execution_count": 29,
   "metadata": {},
   "outputs": [],
   "source": [
    "with open('./실습데이터/격자판회문수1.txt', 'r') as f:\n",
    "    x = f.readlines()\n",
    "x = [line.rstrip('\\n') for line in x]"
   ]
  },
  {
   "cell_type": "code",
   "execution_count": 33,
   "metadata": {},
   "outputs": [
    {
     "data": {
      "text/plain": [
       "['2 4 1 5 3 2 6',\n",
       " '3 5 1 8 7 1 7',\n",
       " '8 3 2 7 1 3 8',\n",
       " '6 1 2 3 2 1 1 ',\n",
       " '1 3 1 3 5 3 2',\n",
       " '1 1 2 5 6 5 2',\n",
       " '1 2 2 2 2 1 5']"
      ]
     },
     "execution_count": 33,
     "metadata": {},
     "output_type": "execute_result"
    }
   ],
   "source": [
    "x"
   ]
  },
  {
   "cell_type": "code",
   "execution_count": 41,
   "metadata": {},
   "outputs": [
    {
     "name": "stdout",
     "output_type": "stream",
     "text": [
      "4 0\n",
      "첫째? 1 둘째? 1 셋째?   넷째?  \n",
      "4 2\n",
      "첫째? 3 둘째? 3 셋째?   넷째?  \n",
      "6 1\n",
      "첫째?   둘째?   셋째? 2 넷째? 2\n",
      "6 2\n",
      "첫째? 2 둘째? 2 셋째?   넷째?  \n"
     ]
    }
   ],
   "source": [
    "cnt = 0\n",
    "for i in range(7):\n",
    "    for j in range(3):\n",
    "        if x[i][j]==x[i][j+4] and x[i][j+1]==x[i][j+3]:\n",
    "            print(i,j)\n",
    "            print('첫째?',x[i][j],'둘째?',x[i][j+4],'셋째?', x[i][j+1],'넷째?',x[i][j+3])\n",
    "            cnt+=1\n",
    "        #if x[j][i]==x[j+4][i] and x[j+1][i]==x[j+3][i]:\n",
    "            #print(i,j)\n",
    "            #print(x[j][i],x[j+4][i], x[j+1][i],x[j+3][i])\n",
    "            #cnt+=1\n"
   ]
  },
  {
   "cell_type": "code",
   "execution_count": null,
   "metadata": {},
   "outputs": [],
   "source": []
  },
  {
   "cell_type": "code",
   "execution_count": null,
   "metadata": {},
   "outputs": [],
   "source": []
  },
  {
   "cell_type": "code",
   "execution_count": 45,
   "metadata": {},
   "outputs": [
    {
     "name": "stdout",
     "output_type": "stream",
     "text": [
      "3\n"
     ]
    }
   ],
   "source": [
    "with open('./실습데이터/격자판회문수1.txt', 'r') as f:\n",
    "    board = [list(map(int, f.readline().split())) for _ in range(7)]\n",
    "\n",
    "cnt = 0\n",
    "for i in range(3):\n",
    "    for j in range(7):\n",
    "        temp = board[j][i:i+5]\n",
    "        if temp == temp[::-1]: #행의 회문수 찾기\n",
    "            cnt += 1\n",
    "        for k in range(2): #열의 회문수 찾기\n",
    "            if board[i+k][j] != board[i+5-k-1][j]:\n",
    "                break\n",
    "        else:\n",
    "            cnt += 1\n",
    "            \n",
    "print(cnt)"
   ]
  },
  {
   "cell_type": "code",
   "execution_count": null,
   "metadata": {},
   "outputs": [],
   "source": []
  },
  {
   "cell_type": "code",
   "execution_count": null,
   "metadata": {},
   "outputs": [],
   "source": []
  },
  {
   "cell_type": "code",
   "execution_count": 48,
   "metadata": {},
   "outputs": [
    {
     "name": "stdout",
     "output_type": "stream",
     "text": [
      "3\n"
     ]
    }
   ],
   "source": [
    "#다른코드\n",
    "f = open('./실습데이터/격자판회문수1.txt', 'r')\n",
    "a = [list(map(int, f.readline().split())) for _ in range(7)]\n",
    "cnt = 0\n",
    "\n",
    "for i in range(7):\n",
    "    for j in range(7):\n",
    "        try:\n",
    "            if a[i][j] == a[i][j+4] and a[i][j+1] == a[i][j+3]:\n",
    "                cnt+=1\n",
    "        except:\n",
    "            pass\n",
    "        \n",
    "for i in range(7):\n",
    "    for j in range(7):\n",
    "        try:\n",
    "            if a[j][i] == a[j+4][i] and a[j+1][i] == a[i+3][i]:\n",
    "                cnt+=1\n",
    "        except:\n",
    "            pass\n",
    "        \n",
    "        \n",
    "print(cnt)"
   ]
  },
  {
   "cell_type": "code",
   "execution_count": null,
   "metadata": {},
   "outputs": [],
   "source": []
  }
 ],
 "metadata": {
  "kernelspec": {
   "display_name": "Python 3",
   "language": "python",
   "name": "python3"
  },
  "language_info": {
   "codemirror_mode": {
    "name": "ipython",
    "version": 3
   },
   "file_extension": ".py",
   "mimetype": "text/x-python",
   "name": "python",
   "nbconvert_exporter": "python",
   "pygments_lexer": "ipython3",
   "version": "3.7.9"
  }
 },
 "nbformat": 4,
 "nbformat_minor": 4
}
