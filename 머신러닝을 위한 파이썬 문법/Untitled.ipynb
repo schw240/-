{
 "cells": [
  {
   "cell_type": "code",
   "execution_count": 56,
   "metadata": {},
   "outputs": [
    {
     "data": {
      "text/plain": [
       "str"
      ]
     },
     "execution_count": 56,
     "metadata": {},
     "output_type": "execute_result"
    }
   ],
   "source": [
    "data = '-5439-59639921-'\n",
    "type(data)"
   ]
  },
  {
   "cell_type": "code",
   "execution_count": 54,
   "metadata": {},
   "outputs": [],
   "source": [
    "#- 없어짐 공백\n",
    "if all([xx.strip('-') for xx in data]):\n",
    "    print()"
   ]
  },
  {
   "cell_type": "code",
   "execution_count": 57,
   "metadata": {},
   "outputs": [
    {
     "data": {
      "text/plain": [
       "['', '5', '4', '3', '9', '', '5', '9', '6', '3', '9', '9', '2', '1', '']"
      ]
     },
     "execution_count": 57,
     "metadata": {},
     "output_type": "execute_result"
    }
   ],
   "source": [
    "[xx.strip('-') for xx in data]"
   ]
  },
  {
   "cell_type": "code",
   "execution_count": 58,
   "metadata": {},
   "outputs": [
    {
     "data": {
      "text/plain": [
       "'5439-59639921'"
      ]
     },
     "execution_count": 58,
     "metadata": {},
     "output_type": "execute_result"
    }
   ],
   "source": [
    "if data.strip('-') == data:\n",
    "    #이게 만약 동일하면\n",
    "    #4번조건 걸러낼수있겠다\n",
    "    \n",
    "tmp = '!@#$%^&**()_+=|'"
   ]
  },
  {
   "cell_type": "code",
   "execution_count": 59,
   "metadata": {},
   "outputs": [],
   "source": [
    "nums = [\"4514--234495-1\",\"305-44-291501\",\"1-2-34-495-8623\",\"492134545151\",\"623-421523-67-341\",\"-5439-59639921\",\"6235-7X3+47-7456\",\"98-76-543-210\",\"512-73-634901\",\"000-999999-22-555\",\"064-82-792561\"]"
   ]
  },
  {
   "cell_type": "code",
   "execution_count": 68,
   "metadata": {},
   "outputs": [
    {
     "name": "stdout",
     "output_type": "stream",
     "text": [
      "4514--234495-1 <class 'str'>\n",
      "4514--234495-1 <class 'str'>\n",
      "305-44-291501 <class 'str'>\n",
      "305-44-291501 <class 'str'>\n",
      "1-2-34-495-8623 <class 'str'>\n",
      "1-2-34-495-8623 <class 'str'>\n",
      "492134545151 <class 'str'>\n",
      "492134545151 <class 'str'>\n",
      "623-421523-67-341 <class 'str'>\n",
      "623-421523-67-341 <class 'str'>\n",
      "-5439-59639921 <class 'str'>\n",
      "-5439-59639921 <class 'str'>\n",
      "6235-7X3+47-7456 <class 'str'>\n",
      "6235-7X3+47-7456 <class 'str'>\n",
      "98-76-543-210 <class 'str'>\n",
      "98-76-543-210 <class 'str'>\n",
      "512-73-634901 <class 'str'>\n",
      "512-73-634901 <class 'str'>\n",
      "000-999999-22-555 <class 'str'>\n",
      "000-999999-22-555 <class 'str'>\n",
      "064-82-792561 <class 'str'>\n",
      "064-82-792561 <class 'str'>\n"
     ]
    }
   ],
   "source": []
  },
  {
   "cell_type": "code",
   "execution_count": null,
   "metadata": {},
   "outputs": [],
   "source": []
  }
 ],
 "metadata": {
  "kernelspec": {
   "display_name": "Python 3",
   "language": "python",
   "name": "python3"
  },
  "language_info": {
   "codemirror_mode": {
    "name": "ipython",
    "version": 3
   },
   "file_extension": ".py",
   "mimetype": "text/x-python",
   "name": "python",
   "nbconvert_exporter": "python",
   "pygments_lexer": "ipython3",
   "version": "3.7.9"
  }
 },
 "nbformat": 4,
 "nbformat_minor": 4
}
