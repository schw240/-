{
 "cells": [
  {
   "cell_type": "code",
   "execution_count": 15,
   "metadata": {},
   "outputs": [],
   "source": [
    "def testing_anagram(fword, sword):\n",
    "    fword = sorted(fword.replace(' ', '').lower())\n",
    "    sword = sorted(sword.replace(' ', '').lower())\n",
    "    return fword == sword"
   ]
  },
  {
   "cell_type": "code",
   "execution_count": 17,
   "metadata": {},
   "outputs": [
    {
     "name": "stdout",
     "output_type": "stream",
     "text": [
      "True\n",
      "True\n",
      "True\n",
      "False\n"
     ]
    }
   ],
   "source": [
    "print(testing_anagram('listen', 'silent'))\n",
    "print(testing_anagram('Programming', 'Gram Ring Mop'))\n",
    "print(testing_anagram('Dirty room', 'Dormitory'))\n",
    "print(testing_anagram('toy', 'yoi'))"
   ]
  },
  {
   "cell_type": "code",
   "execution_count": null,
   "metadata": {},
   "outputs": [],
   "source": []
  },
  {
   "cell_type": "code",
   "execution_count": null,
   "metadata": {},
   "outputs": [],
   "source": []
  },
  {
   "cell_type": "code",
   "execution_count": 26,
   "metadata": {},
   "outputs": [],
   "source": [
    "def monkey_typing(data, words):\n",
    "    cnt = 0\n",
    "    for word in words:\n",
    "        if word in data:\n",
    "            print(word)\n",
    "            cnt += 1\n",
    "    return cnt"
   ]
  },
  {
   "cell_type": "code",
   "execution_count": 27,
   "metadata": {},
   "outputs": [
    {
     "name": "stdout",
     "output_type": "stream",
     "text": [
      "how\n",
      "you\n",
      "are\n",
      "3\n",
      "idol\n",
      "boy\n",
      "orange\n",
      "apple\n",
      "4\n",
      "golf\n",
      "baseball\n",
      "bat\n",
      "3\n"
     ]
    }
   ],
   "source": [
    "print(monkey_typing('how aregojodoigodjosjgd you idjfojs idol', {'how', 'are', 'you', 'hello'}))\n",
    "print(monkey_typing('gojiojgappleorangeojiogjouyoujiidolfdboyol', {'boy', 'idol', 'orange', 'apple'}))\n",
    "print(monkey_typing('dgjajosjhgolfnnlkbaseballanngmsgoodbat', {'baseball', 'golf', 'orange', 'bat'}))"
   ]
  },
  {
   "cell_type": "code",
   "execution_count": 32,
   "metadata": {},
   "outputs": [],
   "source": [
    "def monkey_typing2(data, words):\n",
    "    return len([xx for xx in words if xx in data])"
   ]
  },
  {
   "cell_type": "code",
   "execution_count": 33,
   "metadata": {},
   "outputs": [
    {
     "data": {
      "text/plain": [
       "3"
      ]
     },
     "execution_count": 33,
     "metadata": {},
     "output_type": "execute_result"
    }
   ],
   "source": [
    "monkey_typing2('how aregojodoigodjosjgd you idjfojs idol', {'how', 'are', 'you', 'hello'})"
   ]
  },
  {
   "cell_type": "code",
   "execution_count": 35,
   "metadata": {},
   "outputs": [],
   "source": [
    "def monkey_typing3(data, words):\n",
    "    return [xx for xx in words if xx in data]"
   ]
  },
  {
   "cell_type": "code",
   "execution_count": 36,
   "metadata": {},
   "outputs": [
    {
     "data": {
      "text/plain": [
       "['how', 'you', 'are']"
      ]
     },
     "execution_count": 36,
     "metadata": {},
     "output_type": "execute_result"
    }
   ],
   "source": [
    "monkey_typing3('how aregojodoigodjosjgd you idjfojs idol', {'how', 'are', 'you', 'hello'})"
   ]
  },
  {
   "cell_type": "code",
   "execution_count": null,
   "metadata": {},
   "outputs": [],
   "source": []
  }
 ],
 "metadata": {
  "kernelspec": {
   "display_name": "Python 3",
   "language": "python",
   "name": "python3"
  },
  "language_info": {
   "codemirror_mode": {
    "name": "ipython",
    "version": 3
   },
   "file_extension": ".py",
   "mimetype": "text/x-python",
   "name": "python",
   "nbconvert_exporter": "python",
   "pygments_lexer": "ipython3",
   "version": "3.8.3"
  }
 },
 "nbformat": 4,
 "nbformat_minor": 4
}
