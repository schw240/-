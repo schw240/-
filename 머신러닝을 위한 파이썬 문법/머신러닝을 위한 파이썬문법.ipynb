{
 "cells": [
  {
   "cell_type": "markdown",
   "metadata": {},
   "source": [
    "### magic command란 IPython시스템에서 제공하는 add-on function\n",
    "#### 접두사로 % 또는 %%를 사용하는 키워드들로 사용된다.\n",
    "###### % 의 경우 한 줄의 코드에서만 실행되며\n",
    "###### %% 의 경우 여러 줄, 즉 한 셀의 내용 전체에서 실행된다"
   ]
  },
  {
   "cell_type": "code",
   "execution_count": 1,
   "metadata": {},
   "outputs": [
    {
     "name": "stdout",
     "output_type": "stream",
     "text": [
      "8.48 ms ± 213 µs per loop (mean ± std. dev. of 7 runs, 100 loops each)\n"
     ]
    }
   ],
   "source": [
    "%%timeit # magic command라고 함\n",
    "temp = []\n",
    "for i in range(100000):\n",
    "    temp.append(i+1)"
   ]
  },
  {
   "cell_type": "code",
   "execution_count": 5,
   "metadata": {},
   "outputs": [
    {
     "name": "stdout",
     "output_type": "stream",
     "text": [
      "6.01 ms ± 133 µs per loop (mean ± std. dev. of 7 runs, 100 loops each)\n"
     ]
    }
   ],
   "source": [
    "%%timeit\n",
    "[i+1 for i in range(100000)]"
   ]
  },
  {
   "cell_type": "markdown",
   "metadata": {},
   "source": [
    "같은 기법을 사용하더라도 실행시간이 많이 차이가 나게 된다.\n",
    "comprehension기법이 더 빠름"
   ]
  },
  {
   "cell_type": "code",
   "execution_count": 7,
   "metadata": {},
   "outputs": [
    {
     "name": "stdout",
     "output_type": "stream",
     "text": [
      "376 ns ± 4.67 ns per loop (mean ± std. dev. of 7 runs, 1000000 loops each)\n"
     ]
    }
   ],
   "source": [
    "%%timeit\n",
    "map(lambda x:x+1, range(100000))\n",
    "#lambda를 사용하면 실행시간이 ns단위로 작아지는것을 볼 수 있다."
   ]
  },
  {
   "cell_type": "code",
   "execution_count": 2,
   "metadata": {},
   "outputs": [
    {
     "name": "stdout",
     "output_type": "stream",
     "text": [
      "Interactive namespace is empty.\n"
     ]
    }
   ],
   "source": [
    "whos"
   ]
  },
  {
   "cell_type": "code",
   "execution_count": 3,
   "metadata": {},
   "outputs": [],
   "source": [
    "a = 1234"
   ]
  },
  {
   "cell_type": "code",
   "execution_count": 4,
   "metadata": {},
   "outputs": [
    {
     "name": "stdout",
     "output_type": "stream",
     "text": [
      "Variable   Type    Data/Info\n",
      "----------------------------\n",
      "a          int     1234\n"
     ]
    }
   ],
   "source": [
    "whos"
   ]
  },
  {
   "cell_type": "code",
   "execution_count": 11,
   "metadata": {},
   "outputs": [
    {
     "name": "stdout",
     "output_type": "stream",
     "text": [
      "{1: 0, 2: 1, 3: 2, 4: 3, 5: 4, 6: 5, 7: 6, 8: 7, 9: 8, 10: 9, 11: 10, 12: 11, 13: 12, 14: 13, 15: 14, 16: 15, 17: 16, 18: 17, 19: 18, 20: 19, 21: 20, 22: 21, 23: 22, 24: 23, 25: 24, 26: 25, 27: 26, 28: 27, 29: 28, 30: 29, 31: 30, 32: 31, 33: 32, 34: 33, 35: 34, 36: 35, 37: 36, 38: 37, 39: 38, 40: 39, 41: 40, 42: 41, 43: 42, 44: 43, 45: 44, 46: 45, 47: 46, 48: 47, 49: 48, 50: 49, 51: 50, 52: 51, 53: 52, 54: 53, 55: 54, 56: 55, 57: 56, 58: 57, 59: 58, 60: 59, 61: 60, 62: 61, 63: 62, 64: 63, 65: 64, 66: 65, 67: 66, 68: 67, 69: 68, 70: 69, 71: 70, 72: 71, 73: 72, 74: 73, 75: 74, 76: 75, 77: 76, 78: 77, 79: 78, 80: 79, 81: 80, 82: 81, 83: 82, 84: 83, 85: 84, 86: 85, 87: 86, 88: 87, 89: 88, 90: 89, 91: 90, 92: 91, 93: 92, 94: 93, 95: 94, 96: 95, 97: 96, 98: 97, 99: 98, 100: 99, 101: 100, 102: 101, 103: 102, 104: 103, 105: 104, 106: 105, 107: 106, 108: 107, 109: 108, 110: 109, 111: 110, 112: 111, 113: 112, 114: 113, 115: 114, 116: 115, 117: 116, 118: 117, 119: 118, 120: 119, 121: 120, 122: 121, 123: 122, 124: 123, 125: 124, 126: 125, 127: 126, 128: 127, 129: 128, 130: 129, 131: 130, 132: 131, 133: 132, 134: 133, 135: 134, 136: 135, 137: 136, 138: 137, 139: 138, 140: 139, 141: 140, 142: 141, 143: 142, 144: 143, 145: 144, 146: 145, 147: 146, 148: 147, 149: 148, 150: 149, 151: 150, 152: 151, 153: 152, 154: 153, 155: 154, 156: 155, 157: 156, 158: 157, 159: 158, 160: 159, 161: 160, 162: 161, 163: 162, 164: 163, 165: 164, 166: 165, 167: 166, 168: 167, 169: 168, 170: 169, 171: 170, 172: 171, 173: 172, 174: 173, 175: 174, 176: 175, 177: 176, 178: 177, 179: 178, 180: 179, 181: 180, 182: 181, 183: 182, 184: 183, 185: 184, 186: 185, 187: 186, 188: 187, 189: 188, 190: 189, 191: 190, 192: 191, 193: 192, 194: 193, 195: 194, 196: 195, 197: 196, 198: 197, 199: 198, 200: 199, 201: 200, 202: 201, 203: 202, 204: 203, 205: 204, 206: 205, 207: 206, 208: 207, 209: 208, 210: 209, 211: 210, 212: 211, 213: 212, 214: 213, 215: 214, 216: 215, 217: 216, 218: 217, 219: 218, 220: 219, 221: 220, 222: 221, 223: 222, 224: 223, 225: 224, 226: 225, 227: 226, 228: 227, 229: 228, 230: 229, 231: 230, 232: 231, 233: 232, 234: 233, 235: 234, 236: 235, 237: 236, 238: 237, 239: 238, 240: 239, 241: 240, 242: 241, 243: 242, 244: 243, 245: 244, 246: 245, 247: 246, 248: 247, 249: 248, 250: 249, 251: 250, 252: 251, 253: 252, 254: 253, 255: 254, 256: 255, 257: 256, 258: 257, 259: 258, 260: 259, 261: 260, 262: 261, 263: 262, 264: 263, 265: 264, 266: 265, 267: 266, 268: 267, 269: 268, 270: 269, 271: 270, 272: 271, 273: 272, 274: 273, 275: 274, 276: 275, 277: 276, 278: 277, 279: 278, 280: 279, 281: 280, 282: 281, 283: 282, 284: 283, 285: 284, 286: 285, 287: 286, 288: 287, 289: 288, 290: 289, 291: 290, 292: 291, 293: 292, 294: 293, 295: 294, 296: 295, 297: 296, 298: 297, 299: 298, 300: 299, 301: 300, 302: 301, 303: 302, 304: 303, 305: 304, 306: 305, 307: 306, 308: 307, 309: 308, 310: 309, 311: 310, 312: 311, 313: 312, 314: 313, 315: 314, 316: 315, 317: 316, 318: 317, 319: 318, 320: 319, 321: 320, 322: 321, 323: 322, 324: 323, 325: 324, 326: 325, 327: 326, 328: 327, 329: 328, 330: 329, 331: 330, 332: 331, 333: 332, 334: 333, 335: 334, 336: 335, 337: 336, 338: 337, 339: 338, 340: 339, 341: 340, 342: 341, 343: 342, 344: 343, 345: 344, 346: 345, 347: 346, 348: 347, 349: 348, 350: 349, 351: 350, 352: 351, 353: 352, 354: 353, 355: 354, 356: 355, 357: 356, 358: 357, 359: 358, 360: 359, 361: 360, 362: 361, 363: 362, 364: 363, 365: 364, 366: 365, 367: 366, 368: 367, 369: 368, 370: 369, 371: 370, 372: 371, 373: 372, 374: 373, 375: 374, 376: 375, 377: 376, 378: 377, 379: 378, 380: 379, 381: 380, 382: 381, 383: 382, 384: 383, 385: 384, 386: 385, 387: 386, 388: 387, 389: 388, 390: 389, 391: 390, 392: 391, 393: 392, 394: 393, 395: 394, 396: 395, 397: 396, 398: 397, 399: 398, 400: 399, 401: 400, 402: 401, 403: 402, 404: 403, 405: 404, 406: 405, 407: 406, 408: 407, 409: 408, 410: 409, 411: 410, 412: 411, 413: 412, 414: 413, 415: 414, 416: 415, 417: 416, 418: 417, 419: 418, 420: 419, 421: 420, 422: 421, 423: 422, 424: 423, 425: 424, 426: 425, 427: 426, 428: 427, 429: 428, 430: 429, 431: 430, 432: 431, 433: 432, 434: 433, 435: 434, 436: 435, 437: 436, 438: 437, 439: 438, 440: 439, 441: 440, 442: 441, 443: 442, 444: 443, 445: 444, 446: 445, 447: 446, 448: 447, 449: 448, 450: 449, 451: 450, 452: 451, 453: 452, 454: 453, 455: 454, 456: 455, 457: 456, 458: 457, 459: 458, 460: 459, 461: 460, 462: 461, 463: 462, 464: 463, 465: 464, 466: 465, 467: 466, 468: 467, 469: 468, 470: 469, 471: 470, 472: 471, 473: 472, 474: 473, 475: 474, 476: 475, 477: 476, 478: 477, 479: 478, 480: 479, 481: 480, 482: 481, 483: 482, 484: 483, 485: 484, 486: 485, 487: 486, 488: 487, 489: 488, 490: 489, 491: 490, 492: 491, 493: 492, 494: 493, 495: 494, 496: 495, 497: 496, 498: 497, 499: 498, 500: 499, 501: 500, 502: 501, 503: 502, 504: 503, 505: 504, 506: 505, 507: 506, 508: 507, 509: 508, 510: 509, 511: 510, 512: 511, 513: 512, 514: 513, 515: 514, 516: 515, 517: 516, 518: 517, 519: 518, 520: 519, 521: 520, 522: 521, 523: 522, 524: 523, 525: 524, 526: 525, 527: 526, 528: 527, 529: 528, 530: 529, 531: 530, 532: 531, 533: 532, 534: 533, 535: 534, 536: 535, 537: 536, 538: 537, 539: 538, 540: 539, 541: 540, 542: 541, 543: 542, 544: 543, 545: 544, 546: 545, 547: 546, 548: 547, 549: 548, 550: 549, 551: 550, 552: 551, 553: 552, 554: 553, 555: 554, 556: 555, 557: 556, 558: 557, 559: 558, 560: 559, 561: 560, 562: 561, 563: 562, 564: 563, 565: 564, 566: 565, 567: 566, 568: 567, 569: 568, 570: 569, 571: 570, 572: 571, 573: 572, 574: 573, 575: 574, 576: 575, 577: 576, 578: 577, 579: 578, 580: 579, 581: 580, 582: 581, 583: 582, 584: 583, 585: 584, 586: 585, 587: 586, 588: 587, 589: 588, 590: 589, 591: 590, 592: 591, 593: 592, 594: 593, 595: 594, 596: 595, 597: 596, 598: 597, 599: 598, 600: 599, 601: 600, 602: 601, 603: 602, 604: 603, 605: 604, 606: 605, 607: 606, 608: 607, 609: 608, 610: 609, 611: 610, 612: 611, 613: 612, 614: 613, 615: 614, 616: 615, 617: 616, 618: 617, 619: 618, 620: 619, 621: 620, 622: 621, 623: 622, 624: 623, 625: 624, 626: 625, 627: 626, 628: 627, 629: 628, 630: 629, 631: 630, 632: 631, 633: 632, 634: 633, 635: 634, 636: 635, 637: 636, 638: 637, 639: 638, 640: 639, 641: 640, 642: 641, 643: 642, 644: 643, 645: 644, 646: 645, 647: 646, 648: 647, 649: 648, 650: 649, 651: 650, 652: 651, 653: 652, 654: 653, 655: 654, 656: 655, 657: 656, 658: 657, 659: 658, 660: 659, 661: 660, 662: 661, 663: 662, 664: 663, 665: 664, 666: 665, 667: 666, 668: 667, 669: 668, 670: 669, 671: 670, 672: 671, 673: 672, 674: 673, 675: 674, 676: 675, 677: 676, 678: 677, 679: 678, 680: 679, 681: 680, 682: 681, 683: 682, 684: 683, 685: 684, 686: 685, 687: 686, 688: 687, 689: 688, 690: 689, 691: 690, 692: 691, 693: 692, 694: 693, 695: 694, 696: 695, 697: 696, 698: 697, 699: 698, 700: 699, 701: 700, 702: 701, 703: 702, 704: 703, 705: 704, 706: 705, 707: 706, 708: 707, 709: 708, 710: 709, 711: 710, 712: 711, 713: 712, 714: 713, 715: 714, 716: 715, 717: 716, 718: 717, 719: 718, 720: 719, 721: 720, 722: 721, 723: 722, 724: 723, 725: 724, 726: 725, 727: 726, 728: 727, 729: 728, 730: 729, 731: 730, 732: 731, 733: 732, 734: 733, 735: 734, 736: 735, 737: 736, 738: 737, 739: 738, 740: 739, 741: 740, 742: 741, 743: 742, 744: 743, 745: 744, 746: 745, 747: 746, 748: 747, 749: 748, 750: 749, 751: 750, 752: 751, 753: 752, 754: 753, 755: 754, 756: 755, 757: 756, 758: 757, 759: 758, 760: 759, 761: 760, 762: 761, 763: 762, 764: 763, 765: 764, 766: 765, 767: 766, 768: 767, 769: 768, 770: 769, 771: 770, 772: 771, 773: 772, 774: 773, 775: 774, 776: 775, 777: 776, 778: 777, 779: 778, 780: 779, 781: 780, 782: 781, 783: 782, 784: 783, 785: 784, 786: 785, 787: 786, 788: 787, 789: 788, 790: 789, 791: 790, 792: 791, 793: 792, 794: 793, 795: 794, 796: 795, 797: 796, 798: 797, 799: 798, 800: 799, 801: 800, 802: 801, 803: 802, 804: 803, 805: 804, 806: 805, 807: 806, 808: 807, 809: 808, 810: 809, 811: 810, 812: 811, 813: 812, 814: 813, 815: 814, 816: 815, 817: 816, 818: 817, 819: 818, 820: 819, 821: 820, 822: 821, 823: 822, 824: 823, 825: 824, 826: 825, 827: 826, 828: 827, 829: 828, 830: 829, 831: 830, 832: 831, 833: 832, 834: 833, 835: 834, 836: 835, 837: 836, 838: 837, 839: 838, 840: 839, 841: 840, 842: 841, 843: 842, 844: 843, 845: 844, 846: 845, 847: 846, 848: 847, 849: 848, 850: 849, 851: 850, 852: 851, 853: 852, 854: 853, 855: 854, 856: 855, 857: 856, 858: 857, 859: 858, 860: 859, 861: 860, 862: 861, 863: 862, 864: 863, 865: 864, 866: 865, 867: 866, 868: 867, 869: 868, 870: 869, 871: 870, 872: 871, 873: 872, 874: 873, 875: 874, 876: 875, 877: 876, 878: 877, 879: 878, 880: 879, 881: 880, 882: 881, 883: 882, 884: 883, 885: 884, 886: 885, 887: 886, 888: 887, 889: 888, 890: 889, 891: 890, 892: 891, 893: 892, 894: 893, 895: 894, 896: 895, 897: 896, 898: 897, 899: 898, 900: 899, 901: 900, 902: 901, 903: 902, 904: 903, 905: 904, 906: 905, 907: 906, 908: 907, 909: 908, 910: 909, 911: 910, 912: 911, 913: 912, 914: 913, 915: 914, 916: 915, 917: 916, 918: 917, 919: 918, 920: 919, 921: 920, 922: 921, 923: 922, 924: 923, 925: 924, 926: 925, 927: 926, 928: 927, 929: 928, 930: 929, 931: 930, 932: 931, 933: 932, 934: 933, 935: 934, 936: 935, 937: 936, 938: 937, 939: 938, 940: 939, 941: 940, 942: 941, 943: 942, 944: 943, 945: 944, 946: 945, 947: 946, 948: 947, 949: 948, 950: 949, 951: 950, 952: 951, 953: 952, 954: 953, 955: 954, 956: 955, 957: 956, 958: 957, 959: 958, 960: 959, 961: 960, 962: 961, 963: 962, 964: 963, 965: 964, 966: 965, 967: 966, 968: 967, 969: 968, 970: 969, 971: 970, 972: 971, 973: 972, 974: 973, 975: 974, 976: 975, 977: 976, 978: 977, 979: 978, 980: 979, 981: 980, 982: 981, 983: 982, 984: 983, 985: 984, 986: 985, 987: 986, 988: 987, 989: 988, 990: 989, 991: 990, 992: 991, 993: 992, 994: 993, 995: 994, 996: 995, 997: 996, 998: 997, 999: 998, 1000: 999}\n"
     ]
    }
   ],
   "source": [
    "print({i+1:i for i in range(1000)})\n",
    "# comprehension기법은 dictionary와 set도 사용 가능"
   ]
  },
  {
   "cell_type": "code",
   "execution_count": 12,
   "metadata": {},
   "outputs": [
    {
     "data": {
      "text/plain": [
       "['0',\n",
       " '2',\n",
       " '4',\n",
       " '6',\n",
       " '8',\n",
       " '10',\n",
       " '12',\n",
       " '14',\n",
       " '16',\n",
       " '18',\n",
       " '20',\n",
       " '22',\n",
       " '24',\n",
       " '26',\n",
       " '28',\n",
       " '30',\n",
       " '32',\n",
       " '34',\n",
       " '36',\n",
       " '38',\n",
       " '40',\n",
       " '42',\n",
       " '44',\n",
       " '46',\n",
       " '48',\n",
       " '50',\n",
       " '52',\n",
       " '54',\n",
       " '56',\n",
       " '58',\n",
       " '60',\n",
       " '62',\n",
       " '64',\n",
       " '66',\n",
       " '68',\n",
       " '70',\n",
       " '72',\n",
       " '74',\n",
       " '76',\n",
       " '78',\n",
       " '80',\n",
       " '82',\n",
       " '84',\n",
       " '86',\n",
       " '88',\n",
       " '90',\n",
       " '92',\n",
       " '94',\n",
       " '96',\n",
       " '98']"
      ]
     },
     "execution_count": 12,
     "metadata": {},
     "output_type": "execute_result"
    }
   ],
   "source": [
    "[str(i) for i in range(100) if i%2 == 0]"
   ]
  },
  {
   "cell_type": "markdown",
   "metadata": {},
   "source": [
    "제너레이터는 이터레이터를 생성해주는 함수입니다. 이터레이터는 클래스에 __iter__, __next__ 또는 __getitem__ 메서드를 구현해야 하지만 제너레이터는 함수 안에서 yield라는 키워드만 사용하면 끝입니다. 그래서 제너레이터는 이터레이터보다 훨씬 간단하게 작성할 수 있습니다.\n",
    "\n",
    "함수 안에서 yield를 사용하면 함수는 제너레이터가 되며 yield에는 값(변수)을 지정합니다."
   ]
  },
  {
   "cell_type": "code",
   "execution_count": 13,
   "metadata": {},
   "outputs": [],
   "source": [
    "def t():\n",
    "    yield 1\n",
    "    yield 2\n",
    "    yield 3"
   ]
  },
  {
   "cell_type": "code",
   "execution_count": 14,
   "metadata": {},
   "outputs": [
    {
     "data": {
      "text/plain": [
       "function"
      ]
     },
     "execution_count": 14,
     "metadata": {},
     "output_type": "execute_result"
    }
   ],
   "source": [
    "type(t)"
   ]
  },
  {
   "cell_type": "code",
   "execution_count": 18,
   "metadata": {},
   "outputs": [],
   "source": [
    "a = t()"
   ]
  },
  {
   "cell_type": "code",
   "execution_count": 19,
   "metadata": {},
   "outputs": [
    {
     "data": {
      "text/plain": [
       "1"
      ]
     },
     "execution_count": 19,
     "metadata": {},
     "output_type": "execute_result"
    }
   ],
   "source": [
    "next(a)"
   ]
  },
  {
   "cell_type": "code",
   "execution_count": 20,
   "metadata": {},
   "outputs": [
    {
     "data": {
      "text/plain": [
       "2"
      ]
     },
     "execution_count": 20,
     "metadata": {},
     "output_type": "execute_result"
    }
   ],
   "source": [
    "next(a)"
   ]
  },
  {
   "cell_type": "code",
   "execution_count": 21,
   "metadata": {},
   "outputs": [
    {
     "data": {
      "text/plain": [
       "3"
      ]
     },
     "execution_count": 21,
     "metadata": {},
     "output_type": "execute_result"
    }
   ],
   "source": [
    "next(a)"
   ]
  },
  {
   "cell_type": "code",
   "execution_count": 22,
   "metadata": {},
   "outputs": [
    {
     "ename": "StopIteration",
     "evalue": "",
     "output_type": "error",
     "traceback": [
      "\u001b[1;31m---------------------------------------------------------------------------\u001b[0m",
      "\u001b[1;31mStopIteration\u001b[0m                             Traceback (most recent call last)",
      "\u001b[1;32m<ipython-input-22-15841f3f11d4>\u001b[0m in \u001b[0;36m<module>\u001b[1;34m\u001b[0m\n\u001b[1;32m----> 1\u001b[1;33m \u001b[0mnext\u001b[0m\u001b[1;33m(\u001b[0m\u001b[0ma\u001b[0m\u001b[1;33m)\u001b[0m\u001b[1;33m\u001b[0m\u001b[1;33m\u001b[0m\u001b[0m\n\u001b[0m",
      "\u001b[1;31mStopIteration\u001b[0m: "
     ]
    }
   ],
   "source": [
    "next(a)"
   ]
  },
  {
   "cell_type": "code",
   "execution_count": 23,
   "metadata": {},
   "outputs": [],
   "source": [
    "#closure 패턴\n",
    "def mn(x):\n",
    "    def n(y):\n",
    "        return x+y\n",
    "    return n"
   ]
  },
  {
   "cell_type": "code",
   "execution_count": 25,
   "metadata": {},
   "outputs": [
    {
     "data": {
      "text/plain": [
       "10"
      ]
     },
     "execution_count": 25,
     "metadata": {},
     "output_type": "execute_result"
    }
   ],
   "source": [
    "#이전값은 유지시키고 다음값은 숨기고싶을때\n",
    "#이전값이 살아있음\n",
    "mn(3)(7)"
   ]
  },
  {
   "cell_type": "code",
   "execution_count": 28,
   "metadata": {},
   "outputs": [],
   "source": [
    "def x(func):\n",
    "    def y(z):\n",
    "        print('-------')\n",
    "        func(z)\n",
    "        print('-------')\n",
    "    return y"
   ]
  },
  {
   "cell_type": "code",
   "execution_count": 29,
   "metadata": {},
   "outputs": [
    {
     "name": "stdout",
     "output_type": "stream",
     "text": [
      "-------\n",
      "7\n",
      "-------\n"
     ]
    }
   ],
   "source": [
    "x(print)(7)"
   ]
  },
  {
   "cell_type": "code",
   "execution_count": 32,
   "metadata": {},
   "outputs": [],
   "source": [
    "@x    #decorator\n",
    "def t(a):\n",
    "    print(a)"
   ]
  },
  {
   "cell_type": "code",
   "execution_count": 33,
   "metadata": {},
   "outputs": [
    {
     "name": "stdout",
     "output_type": "stream",
     "text": [
      "-------\n",
      "100\n",
      "-------\n"
     ]
    }
   ],
   "source": [
    "t(100)"
   ]
  },
  {
   "cell_type": "code",
   "execution_count": 34,
   "metadata": {},
   "outputs": [],
   "source": [
    "def abc(a,b, c=2):\n",
    "    print((a+b)*c)"
   ]
  },
  {
   "cell_type": "code",
   "execution_count": 35,
   "metadata": {},
   "outputs": [
    {
     "name": "stdout",
     "output_type": "stream",
     "text": [
      "9\n"
     ]
    }
   ],
   "source": [
    "abc(1,2,3)"
   ]
  },
  {
   "cell_type": "markdown",
   "metadata": {},
   "source": [
    "1. positional 방식\n",
    "2. keyword방식\n",
    "인자(argument)\n",
    "파라메타(parameter)\n",
    "\n",
    "통계학에서 parameter(모집단)\n",
    "인공지능에서의 parameter(알고리즘처리를 위한 세부적 내부변수의 값)\n",
    "\n",
    "ex) KNN(k near neighbors)"
   ]
  },
  {
   "cell_type": "code",
   "execution_count": 36,
   "metadata": {},
   "outputs": [
    {
     "name": "stdout",
     "output_type": "stream",
     "text": [
      "10\n"
     ]
    }
   ],
   "source": [
    "abc(2,3)"
   ]
  },
  {
   "cell_type": "code",
   "execution_count": 37,
   "metadata": {},
   "outputs": [
    {
     "name": "stdout",
     "output_type": "stream",
     "text": [
      "40\n"
     ]
    }
   ],
   "source": [
    "abc(c=8, a=2, b=3)"
   ]
  },
  {
   "cell_type": "code",
   "execution_count": 40,
   "metadata": {},
   "outputs": [
    {
     "ename": "SyntaxError",
     "evalue": "non-default argument follows default argument (<ipython-input-40-2f63c9d9b017>, line 1)",
     "output_type": "error",
     "traceback": [
      "\u001b[1;36m  File \u001b[1;32m\"<ipython-input-40-2f63c9d9b017>\"\u001b[1;36m, line \u001b[1;32m1\u001b[0m\n\u001b[1;33m    def abc(a=2,b, c):\u001b[0m\n\u001b[1;37m           ^\u001b[0m\n\u001b[1;31mSyntaxError\u001b[0m\u001b[1;31m:\u001b[0m non-default argument follows default argument\n"
     ]
    }
   ],
   "source": [
    "def abc(a=2,b, c):\n",
    "    print((a+b)*c)\n",
    "#default 값은 맨 앞에 오는 값으로 사용할 수 없음\n",
    "#default 값을 사용할 때는 값을 뒤로 보내어 사용\n",
    "#ex) c에 default값 할당"
   ]
  },
  {
   "cell_type": "code",
   "execution_count": 41,
   "metadata": {},
   "outputs": [],
   "source": [
    "from sklearn.model_selection import train_test_split"
   ]
  },
  {
   "cell_type": "code",
   "execution_count": 63,
   "metadata": {},
   "outputs": [
    {
     "data": {
      "text/plain": [
       "<function sklearn.model_selection._split.train_test_split(*arrays, **options)>"
      ]
     },
     "execution_count": 63,
     "metadata": {},
     "output_type": "execute_result"
    }
   ],
   "source": [
    "train_test_split #*하나는 literable객체 list나 tuple , **2개는 딕셔너리"
   ]
  },
  {
   "cell_type": "code",
   "execution_count": 46,
   "metadata": {},
   "outputs": [],
   "source": [
    "def lastname_and_first(*Names):\n",
    "    for name in Names:\n",
    "        print('%s    %s' %(name[0], name[1:3]), end=' ')\n",
    "    print('\\n')"
   ]
  },
  {
   "cell_type": "code",
   "execution_count": 48,
   "metadata": {},
   "outputs": [
    {
     "name": "stdout",
     "output_type": "stream",
     "text": [
      "이    선희 이    승기 나    대위 이    수근 \n",
      "\n"
     ]
    }
   ],
   "source": [
    "lastname_and_first('이선희', '이승기', '나대위', '이수근')"
   ]
  },
  {
   "cell_type": "code",
   "execution_count": 44,
   "metadata": {},
   "outputs": [
    {
     "data": {
      "text/plain": [
       "list"
      ]
     },
     "execution_count": 44,
     "metadata": {},
     "output_type": "execute_result"
    }
   ],
   "source": [
    "*a, = 1,2,3,4,5\n",
    "type(a)"
   ]
  },
  {
   "cell_type": "code",
   "execution_count": 45,
   "metadata": {},
   "outputs": [
    {
     "data": {
      "text/plain": [
       "[1, 2, 3, 4, 5]"
      ]
     },
     "execution_count": 45,
     "metadata": {},
     "output_type": "execute_result"
    }
   ],
   "source": [
    "a"
   ]
  },
  {
   "cell_type": "code",
   "execution_count": 49,
   "metadata": {},
   "outputs": [],
   "source": [
    "def lastname_and_first(*Commands):\n",
    "    print(type(Commands))\n",
    "    for command in Commands:\n",
    "        print(command, end=' ')\n",
    "    print('\\n')"
   ]
  },
  {
   "cell_type": "code",
   "execution_count": 50,
   "metadata": {},
   "outputs": [
    {
     "name": "stdout",
     "output_type": "stream",
     "text": [
      "<class 'tuple'>\n",
      "print add minus plus \n",
      "\n"
     ]
    }
   ],
   "source": [
    "lastname_and_first('print', 'add', 'minus', 'plus')"
   ]
  },
  {
   "cell_type": "code",
   "execution_count": 59,
   "metadata": {},
   "outputs": [],
   "source": [
    "def voca_list(**Words):\n",
    "    for key, value in Words.items():\n",
    "        print('{0} is {1}'.format(key, value))\n",
    "    print(type(Words), Words)"
   ]
  },
  {
   "cell_type": "code",
   "execution_count": 60,
   "metadata": {},
   "outputs": [
    {
     "name": "stdout",
     "output_type": "stream",
     "text": [
      "apple is 사과\n",
      "pear is 배\n",
      "<class 'dict'> {'apple': '사과', 'pear': '배'}\n"
     ]
    }
   ],
   "source": [
    "voca_list(apple = '사과', pear = '배')"
   ]
  },
  {
   "cell_type": "code",
   "execution_count": 61,
   "metadata": {},
   "outputs": [],
   "source": [
    "def fruit_store_board(Store_name, *Message,  **fruit_tag):\n",
    "    '''\n",
    "    Store_Name: 가게이름 입력\n",
    "    Messages: 오늘 사인보드에 고객에게 알림상황\n",
    "    fruit_tag: 과일별 가격 리스트\n",
    "    '''\n",
    "    print('*****', Store_name, '*****\\n')\n",
    "    for message in Message:\n",
    "        print(message)\n",
    "    print('\\n')\n",
    "    for fruit, tag in fruit_tag.items():\n",
    "        print(fruit,'의 가격은', tag, '입니다.')"
   ]
  },
  {
   "cell_type": "code",
   "execution_count": 62,
   "metadata": {},
   "outputs": [
    {
     "name": "stdout",
     "output_type": "stream",
     "text": [
      "***** 제임스본드 과일상회 *****\n",
      "\n",
      "오늘은\n",
      "청과들이\n",
      "신선합니다.\n",
      "\n",
      "\n",
      "apple 의 가격은 30 입니다.\n",
      "banana 의 가격은 100 입니다.\n"
     ]
    }
   ],
   "source": [
    "fruit_store_board('제임스본드 과일상회', '오늘은', '청과들이', '신선합니다.', apple = 30, banana = 100)"
   ]
  },
  {
   "cell_type": "code",
   "execution_count": 65,
   "metadata": {},
   "outputs": [],
   "source": [
    "#실습 카페 만들기 *args, **kwargs 공부하기"
   ]
  },
  {
   "cell_type": "code",
   "execution_count": 132,
   "metadata": {},
   "outputs": [],
   "source": [
    "def hanju_cafe(Store_name, *Message, **menu_tag):\n",
    "    print('*****', Store_name, '*****')\n",
    "    print('\\n')\n",
    "    for message in Message:\n",
    "        print(message)\n",
    "    print('\\n')\n",
    "    for menu, tag in menu_tag.items():\n",
    "        calib = 40-len(menu)*2-len(str(tag))\n",
    "        print('{}'.format(menu), '.'*calib, '{}'.format(tag))"
   ]
  },
  {
   "cell_type": "code",
   "execution_count": 134,
   "metadata": {},
   "outputs": [
    {
     "name": "stdout",
     "output_type": "stream",
     "text": [
      "***** 한주네 카페 *****\n",
      "\n",
      "\n",
      "저희 카페에 방문해주셔서 감사합니다.\n",
      "오늘 자몽, 바나나, 사과가 새로 들어왔습니다.\n",
      "항상 감사합니다.\n",
      "\n",
      "\n",
      "아메리카노 .......................... 3000\n",
      "자몽주스 ............................ 3000\n",
      "바나나주스 .......................... 3000\n",
      "사과주스 ............................ 2000\n"
     ]
    }
   ],
   "source": [
    "Store_name = '한주네 카페'\n",
    "Message_head = '저희 카페에 방문해주셔서 감사합니다.'\n",
    "today_message = '오늘 자몽, 바나나, 사과가 새로 들어왔습니다.'\n",
    "Message_end = '항상 감사합니다.'\n",
    "\n",
    "hanju_cafe(Store_name, Message_head, today_message, Message_end,\n",
    "          아메리카노 = 3000,\n",
    "          자몽주스 = 3000,\n",
    "          바나나주스 = 3000,\n",
    "          사과주스 = 2000)"
   ]
  },
  {
   "cell_type": "markdown",
   "metadata": {},
   "source": []
  },
  {
   "cell_type": "code",
   "execution_count": null,
   "metadata": {},
   "outputs": [],
   "source": []
  },
  {
   "cell_type": "code",
   "execution_count": 135,
   "metadata": {},
   "outputs": [],
   "source": [
    "a = [ i for i in range(10)]"
   ]
  },
  {
   "cell_type": "code",
   "execution_count": 136,
   "metadata": {},
   "outputs": [
    {
     "data": {
      "text/plain": [
       "[0, 1, 2, 3, 4, 5, 6, 7, 8, 9]"
      ]
     },
     "execution_count": 136,
     "metadata": {},
     "output_type": "execute_result"
    }
   ],
   "source": [
    "a"
   ]
  },
  {
   "cell_type": "code",
   "execution_count": 138,
   "metadata": {},
   "outputs": [
    {
     "data": {
      "text/plain": [
       "[1, 2, 3, 4, 5, 6, 7, 8, 9, 10]"
      ]
     },
     "execution_count": 138,
     "metadata": {},
     "output_type": "execute_result"
    }
   ],
   "source": [
    "list(map(lambda x:x+1, a))"
   ]
  },
  {
   "cell_type": "code",
   "execution_count": 144,
   "metadata": {},
   "outputs": [
    {
     "data": {
      "text/plain": [
       "[4, 5, 6, 7]"
      ]
     },
     "execution_count": 144,
     "metadata": {},
     "output_type": "execute_result"
    }
   ],
   "source": [
    "list(filter(lambda x : x>3 and x < 8, a))"
   ]
  },
  {
   "cell_type": "code",
   "execution_count": 145,
   "metadata": {},
   "outputs": [
    {
     "name": "stdout",
     "output_type": "stream",
     "text": [
      "False\n",
      "False\n",
      "False\n",
      "False\n",
      "True\n",
      "True\n",
      "True\n",
      "True\n",
      "False\n",
      "False\n"
     ]
    }
   ],
   "source": [
    "for x in a:\n",
    "    if (x > 3 and x < 8):\n",
    "        print('True')\n",
    "    else:\n",
    "        print('False')"
   ]
  },
  {
   "cell_type": "code",
   "execution_count": 147,
   "metadata": {},
   "outputs": [
    {
     "name": "stdout",
     "output_type": "stream",
     "text": [
      "45\n"
     ]
    }
   ],
   "source": [
    "sum = 0\n",
    "for i in a:\n",
    "    sum = sum + i\n",
    "print(sum)"
   ]
  },
  {
   "cell_type": "code",
   "execution_count": 148,
   "metadata": {},
   "outputs": [],
   "source": [
    "from functools import reduce"
   ]
  },
  {
   "cell_type": "code",
   "execution_count": 150,
   "metadata": {},
   "outputs": [
    {
     "data": {
      "text/plain": [
       "45"
      ]
     },
     "execution_count": 150,
     "metadata": {},
     "output_type": "execute_result"
    }
   ],
   "source": [
    "reduce(lambda x, y : x+y, a)"
   ]
  },
  {
   "cell_type": "code",
   "execution_count": 151,
   "metadata": {},
   "outputs": [
    {
     "data": {
      "text/plain": [
       "7"
      ]
     },
     "execution_count": 151,
     "metadata": {},
     "output_type": "execute_result"
    }
   ],
   "source": [
    "(lambda x, y: x+y)(3,4)"
   ]
  },
  {
   "cell_type": "code",
   "execution_count": 153,
   "metadata": {},
   "outputs": [],
   "source": [
    "a = [1]\n",
    "b = 1"
   ]
  },
  {
   "cell_type": "code",
   "execution_count": 154,
   "metadata": {},
   "outputs": [
    {
     "data": {
      "text/plain": [
       "[1]"
      ]
     },
     "execution_count": 154,
     "metadata": {},
     "output_type": "execute_result"
    }
   ],
   "source": [
    "a"
   ]
  },
  {
   "cell_type": "code",
   "execution_count": 155,
   "metadata": {},
   "outputs": [
    {
     "data": {
      "text/plain": [
       "1"
      ]
     },
     "execution_count": 155,
     "metadata": {},
     "output_type": "execute_result"
    }
   ],
   "source": [
    "b"
   ]
  },
  {
   "cell_type": "code",
   "execution_count": 156,
   "metadata": {},
   "outputs": [
    {
     "name": "stdout",
     "output_type": "stream",
     "text": [
      "[1] 1\n"
     ]
    }
   ],
   "source": [
    "print(a, b)"
   ]
  },
  {
   "cell_type": "code",
   "execution_count": 158,
   "metadata": {},
   "outputs": [
    {
     "data": {
      "text/plain": [
       "{'__contains__',\n",
       " '__delitem__',\n",
       " '__getitem__',\n",
       " '__iadd__',\n",
       " '__imul__',\n",
       " '__iter__',\n",
       " '__len__',\n",
       " '__reversed__',\n",
       " '__setitem__',\n",
       " 'append',\n",
       " 'clear',\n",
       " 'copy',\n",
       " 'count',\n",
       " 'extend',\n",
       " 'index',\n",
       " 'insert',\n",
       " 'pop',\n",
       " 'remove',\n",
       " 'reverse',\n",
       " 'sort'}"
      ]
     },
     "execution_count": 158,
     "metadata": {},
     "output_type": "execute_result"
    }
   ],
   "source": [
    "set(dir(a))-set(dir(b))"
   ]
  },
  {
   "cell_type": "code",
   "execution_count": 170,
   "metadata": {},
   "outputs": [],
   "source": [
    "a = [i*j for i in range(2,10) for j in range(1,10)]"
   ]
  },
  {
   "cell_type": "code",
   "execution_count": 171,
   "metadata": {},
   "outputs": [
    {
     "name": "stdout",
     "output_type": "stream",
     "text": [
      "[2, 4, 6, 8, 10, 12, 14, 16, 18, 3, 6, 9, 12, 15, 18, 21, 24, 27, 4, 8, 12, 16, 20, 24, 28, 32, 36, 5, 10, 15, 20, 25, 30, 35, 40, 45, 6, 12, 18, 24, 30, 36, 42, 48, 54, 7, 14, 21, 28, 35, 42, 49, 56, 63, 8, 16, 24, 32, 40, 48, 56, 64, 72, 9, 18, 27, 36, 45, 54, 63, 72, 81]\n"
     ]
    }
   ],
   "source": [
    "print(a)"
   ]
  },
  {
   "cell_type": "code",
   "execution_count": 187,
   "metadata": {},
   "outputs": [
    {
     "ename": "SyntaxError",
     "evalue": "Generator expression must be parenthesized (<ipython-input-187-05be84fa49e4>, line 2)",
     "output_type": "error",
     "traceback": [
      "\u001b[1;36m  File \u001b[1;32m\"<ipython-input-187-05be84fa49e4>\"\u001b[1;36m, line \u001b[1;32m2\u001b[0m\n\u001b[1;33m    b = list(map(lambda x,y : x*y),(x, y) for x in range(2,10) for y in range(1,10))\u001b[0m\n\u001b[1;37m                                  ^\u001b[0m\n\u001b[1;31mSyntaxError\u001b[0m\u001b[1;31m:\u001b[0m Generator expression must be parenthesized\n"
     ]
    }
   ],
   "source": [
    "list(map(lambda x:x+1, a))\n",
    "list(map(lambda x,y : x*y) , (x, y) for x in range(2,10) for y in range(1,10)) "
   ]
  },
  {
   "cell_type": "code",
   "execution_count": 189,
   "metadata": {},
   "outputs": [
    {
     "name": "stdout",
     "output_type": "stream",
     "text": [
      "[2, 4, 6, 8, 10, 12, 14, 16, 18, 3, 6, 9, 12, 15, 18, 21, 24, 27, 4, 8, 12, 16, 20, 24, 28, 32, 36, 5, 10, 15, 20, 25, 30, 35, 40, 45, 6, 12, 18, 24, 30, 36, 42, 48, 54, 7, 14, 21, 28, 35, 42, 49, 56, 63, 8, 16, 24, 32, 40, 48, 56, 64, 72, 9, 18, 27, 36, 45, 54, 63, 72, 81]\n"
     ]
    }
   ],
   "source": [
    "print(b)\n",
    "#하스겔의 문법 공부\n",
    "#comprehension기법을 사용하여 한줄로 짝수만 출력 , 홀수만 출력 , 소수찾기 등등"
   ]
  },
  {
   "cell_type": "code",
   "execution_count": 193,
   "metadata": {},
   "outputs": [],
   "source": [
    "news_article = '''\n",
    "People will be required to wear face masks on mass transportation and in public places starting Tuesday to help better combat the coronavirus outbreak.\n",
    "\n",
    "The requirement is in line with the implementation of the country's infectious disease control and prevention act aimed at stemming the spread of the flu-like virus, officials said.\n",
    "\n",
    "If people do not wear masks on public transportation and at demonstrations, as well as medical and care facilities, they will face a fine of up to 100,000 won ($87).\n",
    "\n",
    "Operators of those facilities and rally organizers will be fined up to 3 million won for failing to ensure that users or participants comply with the requirement.\n",
    "\n",
    "However, people aged under 14 and those who are unable to wear masks due to medical conditions will be exempted from the requirement. People will also be allowed to skip masks in special cases, such as when they are washing their faces, eating or swimming.\n",
    "\n",
    "The fine could also be imposed on people who wear masks under their noses in such spaces. Scarves or certain types of masks that cannot protect others from the virus will not be allowed under the obligation.\n",
    "\n",
    "Public places subject to the obligation will depend on levels under South Korea's three-tier social distancing scale.\n",
    "'''"
   ]
  },
  {
   "cell_type": "code",
   "execution_count": 194,
   "metadata": {},
   "outputs": [],
   "source": [
    "word_list = news_article.split(' ')"
   ]
  },
  {
   "cell_type": "code",
   "execution_count": 195,
   "metadata": {},
   "outputs": [
    {
     "data": {
      "text/plain": [
       "{'\\nPeople',\n",
       " '($87).\\n\\nOperators',\n",
       " '100,000',\n",
       " '14',\n",
       " '3',\n",
       " \"Korea's\",\n",
       " 'People',\n",
       " 'Scarves',\n",
       " 'South',\n",
       " 'Tuesday',\n",
       " 'a',\n",
       " 'act',\n",
       " 'aged',\n",
       " 'aimed',\n",
       " 'allowed',\n",
       " 'also',\n",
       " 'and',\n",
       " 'are',\n",
       " 'as',\n",
       " 'at',\n",
       " 'be',\n",
       " 'better',\n",
       " 'cannot',\n",
       " 'care',\n",
       " 'cases,',\n",
       " 'certain',\n",
       " 'combat',\n",
       " 'comply',\n",
       " 'conditions',\n",
       " 'control',\n",
       " 'coronavirus',\n",
       " 'could',\n",
       " \"country's\",\n",
       " 'demonstrations,',\n",
       " 'depend',\n",
       " 'disease',\n",
       " 'distancing',\n",
       " 'do',\n",
       " 'due',\n",
       " 'eating',\n",
       " 'ensure',\n",
       " 'exempted',\n",
       " 'face',\n",
       " 'faces,',\n",
       " 'facilities',\n",
       " 'facilities,',\n",
       " 'failing',\n",
       " 'fine',\n",
       " 'fined',\n",
       " 'flu-like',\n",
       " 'for',\n",
       " 'from',\n",
       " 'help',\n",
       " 'implementation',\n",
       " 'imposed',\n",
       " 'in',\n",
       " 'infectious',\n",
       " 'is',\n",
       " 'levels',\n",
       " 'line',\n",
       " 'masks',\n",
       " 'mass',\n",
       " 'medical',\n",
       " 'million',\n",
       " 'noses',\n",
       " 'not',\n",
       " 'obligation',\n",
       " 'obligation.\\n\\nPublic',\n",
       " 'of',\n",
       " 'officials',\n",
       " 'on',\n",
       " 'or',\n",
       " 'organizers',\n",
       " 'others',\n",
       " 'outbreak.\\n\\nThe',\n",
       " 'participants',\n",
       " 'people',\n",
       " 'places',\n",
       " 'prevention',\n",
       " 'protect',\n",
       " 'public',\n",
       " 'rally',\n",
       " 'required',\n",
       " 'requirement',\n",
       " 'requirement.',\n",
       " 'requirement.\\n\\nHowever,',\n",
       " 'said.\\n\\nIf',\n",
       " 'scale.\\n',\n",
       " 'skip',\n",
       " 'social',\n",
       " 'spaces.',\n",
       " 'special',\n",
       " 'spread',\n",
       " 'starting',\n",
       " 'stemming',\n",
       " 'subject',\n",
       " 'such',\n",
       " 'swimming.\\n\\nThe',\n",
       " 'that',\n",
       " 'the',\n",
       " 'their',\n",
       " 'they',\n",
       " 'those',\n",
       " 'three-tier',\n",
       " 'to',\n",
       " 'transportation',\n",
       " 'types',\n",
       " 'unable',\n",
       " 'under',\n",
       " 'up',\n",
       " 'users',\n",
       " 'virus',\n",
       " 'virus,',\n",
       " 'washing',\n",
       " 'wear',\n",
       " 'well',\n",
       " 'when',\n",
       " 'who',\n",
       " 'will',\n",
       " 'with',\n",
       " 'won'}"
      ]
     },
     "execution_count": 195,
     "metadata": {},
     "output_type": "execute_result"
    }
   ],
   "source": [
    "set(word_list) #중복 단어 제거"
   ]
  },
  {
   "cell_type": "code",
   "execution_count": 203,
   "metadata": {},
   "outputs": [
    {
     "name": "stdout",
     "output_type": "stream",
     "text": [
      "\n",
      "People ====> 1 개\n",
      "will ====> 7 개\n",
      "be ====> 7 개\n",
      "required ====> 1 개\n",
      "to ====> 10 개\n",
      "wear ====> 4 개\n",
      "face ====> 3 개\n",
      "masks ====> 6 개\n",
      "on ====> 19 개\n",
      "mass ====> 1 개\n",
      "transportation ====> 2 개\n",
      "and ====> 6 개\n",
      "in ====> 17 개\n",
      "public ====> 2 개\n",
      "places ====> 2 개\n",
      "starting ====> 1 개\n",
      "Tuesday ====> 1 개\n",
      "to ====> 10 개\n",
      "help ====> 1 개\n",
      "better ====> 1 개\n",
      "combat ====> 1 개\n",
      "the ====> 15 개\n",
      "coronavirus ====> 1 개\n",
      "outbreak.\n",
      "\n",
      "The ====> 1 개\n",
      "requirement ====> 3 개\n",
      "is ====> 3 개\n",
      "in ====> 17 개\n",
      "line ====> 1 개\n",
      "with ====> 2 개\n",
      "the ====> 15 개\n",
      "implementation ====> 1 개\n",
      "of ====> 6 개\n",
      "the ====> 15 개\n",
      "country's ====> 1 개\n",
      "infectious ====> 1 개\n",
      "disease ====> 1 개\n",
      "control ====> 1 개\n",
      "and ====> 6 개\n",
      "prevention ====> 1 개\n",
      "act ====> 1 개\n",
      "aimed ====> 1 개\n",
      "at ====> 13 개\n",
      "stemming ====> 1 개\n",
      "the ====> 15 개\n",
      "spread ====> 1 개\n",
      "of ====> 6 개\n",
      "the ====> 15 개\n",
      "flu-like ====> 1 개\n",
      "virus, ====> 1 개\n",
      "officials ====> 1 개\n",
      "said.\n",
      "\n",
      "If ====> 1 개\n",
      "people ====> 3 개\n",
      "do ====> 1 개\n",
      "not ====> 3 개\n",
      "wear ====> 4 개\n",
      "masks ====> 6 개\n",
      "on ====> 19 개\n",
      "public ====> 2 개\n",
      "transportation ====> 2 개\n",
      "and ====> 6 개\n",
      "at ====> 13 개\n",
      "demonstrations, ====> 1 개\n",
      "as ====> 13 개\n",
      "well ====> 1 개\n",
      "as ====> 13 개\n",
      "medical ====> 2 개\n",
      "and ====> 6 개\n",
      "care ====> 1 개\n",
      "facilities, ====> 1 개\n",
      "they ====> 2 개\n",
      "will ====> 7 개\n",
      "face ====> 3 개\n",
      "a ====> 80 개\n",
      "fine ====> 3 개\n",
      "of ====> 6 개\n",
      "up ====> 2 개\n",
      "to ====> 10 개\n",
      "100,000 ====> 1 개\n",
      "won ====> 2 개\n",
      "($87).\n",
      "\n",
      "Operators ====> 1 개\n",
      "of ====> 6 개\n",
      "those ====> 2 개\n",
      "facilities ====> 2 개\n",
      "and ====> 6 개\n",
      "rally ====> 1 개\n",
      "organizers ====> 1 개\n",
      "will ====> 7 개\n",
      "be ====> 7 개\n",
      "fined ====> 1 개\n",
      "up ====> 2 개\n",
      "to ====> 10 개\n",
      "3 ====> 1 개\n",
      "million ====> 1 개\n",
      "won ====> 2 개\n",
      "for ====> 1 개\n",
      "failing ====> 1 개\n",
      "to ====> 10 개\n",
      "ensure ====> 1 개\n",
      "that ====> 2 개\n",
      "users ====> 1 개\n",
      "or ====> 10 개\n",
      "participants ====> 1 개\n",
      "comply ====> 1 개\n",
      "with ====> 2 개\n",
      "the ====> 15 개\n",
      "requirement.\n",
      "\n",
      "However, ====> 1 개\n",
      "people ====> 3 개\n",
      "aged ====> 1 개\n",
      "under ====> 4 개\n",
      "14 ====> 1 개\n",
      "and ====> 6 개\n",
      "those ====> 2 개\n",
      "who ====> 2 개\n",
      "are ====> 3 개\n",
      "unable ====> 1 개\n",
      "to ====> 10 개\n",
      "wear ====> 4 개\n",
      "masks ====> 6 개\n",
      "due ====> 1 개\n",
      "to ====> 10 개\n",
      "medical ====> 2 개\n",
      "conditions ====> 1 개\n",
      "will ====> 7 개\n",
      "be ====> 7 개\n",
      "exempted ====> 1 개\n",
      "from ====> 2 개\n",
      "the ====> 15 개\n",
      "requirement. ====> 2 개\n",
      "People ====> 2 개\n",
      "will ====> 7 개\n",
      "also ====> 2 개\n",
      "be ====> 7 개\n",
      "allowed ====> 2 개\n",
      "to ====> 10 개\n",
      "skip ====> 1 개\n",
      "masks ====> 6 개\n",
      "in ====> 17 개\n",
      "special ====> 1 개\n",
      "cases, ====> 1 개\n",
      "such ====> 2 개\n",
      "as ====> 13 개\n",
      "when ====> 1 개\n",
      "they ====> 2 개\n",
      "are ====> 3 개\n",
      "washing ====> 1 개\n",
      "their ====> 2 개\n",
      "faces, ====> 1 개\n",
      "eating ====> 1 개\n",
      "or ====> 10 개\n",
      "swimming.\n",
      "\n",
      "The ====> 1 개\n",
      "fine ====> 3 개\n",
      "could ====> 1 개\n",
      "also ====> 2 개\n",
      "be ====> 7 개\n",
      "imposed ====> 1 개\n",
      "on ====> 19 개\n",
      "people ====> 3 개\n",
      "who ====> 2 개\n",
      "wear ====> 4 개\n",
      "masks ====> 6 개\n",
      "under ====> 4 개\n",
      "their ====> 2 개\n",
      "noses ====> 1 개\n",
      "in ====> 17 개\n",
      "such ====> 2 개\n",
      "spaces. ====> 1 개\n",
      "Scarves ====> 1 개\n",
      "or ====> 10 개\n",
      "certain ====> 1 개\n",
      "types ====> 1 개\n",
      "of ====> 6 개\n",
      "masks ====> 6 개\n",
      "that ====> 2 개\n",
      "cannot ====> 1 개\n",
      "protect ====> 1 개\n",
      "others ====> 1 개\n",
      "from ====> 2 개\n",
      "the ====> 15 개\n",
      "virus ====> 3 개\n",
      "will ====> 7 개\n",
      "not ====> 3 개\n",
      "be ====> 7 개\n",
      "allowed ====> 2 개\n",
      "under ====> 4 개\n",
      "the ====> 15 개\n",
      "obligation.\n",
      "\n",
      "Public ====> 1 개\n",
      "places ====> 2 개\n",
      "subject ====> 1 개\n",
      "to ====> 10 개\n",
      "the ====> 15 개\n",
      "obligation ====> 2 개\n",
      "will ====> 7 개\n",
      "depend ====> 1 개\n",
      "on ====> 19 개\n",
      "levels ====> 1 개\n",
      "under ====> 4 개\n",
      "South ====> 1 개\n",
      "Korea's ====> 1 개\n",
      "three-tier ====> 1 개\n",
      "social ====> 1 개\n",
      "distancing ====> 1 개\n",
      "scale.\n",
      " ====> 1 개\n"
     ]
    }
   ],
   "source": [
    "word_dic = {}\n",
    "for word in word_list:\n",
    "    print(word, '====>', news_article.count(word), '개')\n",
    "    word_dic[word] = news_article.count(word)"
   ]
  },
  {
   "cell_type": "code",
   "execution_count": 212,
   "metadata": {},
   "outputs": [
    {
     "data": {
      "text/plain": [
       "[('a', 80),\n",
       " ('on', 19),\n",
       " ('in', 17),\n",
       " ('the', 15),\n",
       " ('at', 13),\n",
       " ('as', 13),\n",
       " ('to', 10),\n",
       " ('or', 10),\n",
       " ('will', 7),\n",
       " ('be', 7),\n",
       " ('masks', 6),\n",
       " ('and', 6),\n",
       " ('of', 6),\n",
       " ('wear', 4),\n",
       " ('under', 4),\n",
       " ('face', 3),\n",
       " ('requirement', 3),\n",
       " ('is', 3),\n",
       " ('people', 3),\n",
       " ('not', 3),\n",
       " ('fine', 3),\n",
       " ('are', 3),\n",
       " ('virus', 3),\n",
       " ('transportation', 2),\n",
       " ('public', 2),\n",
       " ('places', 2),\n",
       " ('with', 2),\n",
       " ('medical', 2),\n",
       " ('they', 2),\n",
       " ('up', 2),\n",
       " ('won', 2),\n",
       " ('those', 2),\n",
       " ('facilities', 2),\n",
       " ('that', 2),\n",
       " ('who', 2),\n",
       " ('from', 2),\n",
       " ('requirement.', 2),\n",
       " ('People', 2),\n",
       " ('also', 2),\n",
       " ('allowed', 2),\n",
       " ('such', 2),\n",
       " ('their', 2),\n",
       " ('obligation', 2),\n",
       " ('\\nPeople', 1),\n",
       " ('required', 1),\n",
       " ('mass', 1),\n",
       " ('starting', 1),\n",
       " ('Tuesday', 1),\n",
       " ('help', 1),\n",
       " ('better', 1),\n",
       " ('combat', 1),\n",
       " ('coronavirus', 1),\n",
       " ('outbreak.\\n\\nThe', 1),\n",
       " ('line', 1),\n",
       " ('implementation', 1),\n",
       " (\"country's\", 1),\n",
       " ('infectious', 1),\n",
       " ('disease', 1),\n",
       " ('control', 1),\n",
       " ('prevention', 1),\n",
       " ('act', 1),\n",
       " ('aimed', 1),\n",
       " ('stemming', 1),\n",
       " ('spread', 1),\n",
       " ('flu-like', 1),\n",
       " ('virus,', 1),\n",
       " ('officials', 1),\n",
       " ('said.\\n\\nIf', 1),\n",
       " ('do', 1),\n",
       " ('demonstrations,', 1),\n",
       " ('well', 1),\n",
       " ('care', 1),\n",
       " ('facilities,', 1),\n",
       " ('100,000', 1),\n",
       " ('($87).\\n\\nOperators', 1),\n",
       " ('rally', 1),\n",
       " ('organizers', 1),\n",
       " ('fined', 1),\n",
       " ('3', 1),\n",
       " ('million', 1),\n",
       " ('for', 1),\n",
       " ('failing', 1),\n",
       " ('ensure', 1),\n",
       " ('users', 1),\n",
       " ('participants', 1),\n",
       " ('comply', 1),\n",
       " ('requirement.\\n\\nHowever,', 1),\n",
       " ('aged', 1),\n",
       " ('14', 1),\n",
       " ('unable', 1),\n",
       " ('due', 1),\n",
       " ('conditions', 1),\n",
       " ('exempted', 1),\n",
       " ('skip', 1),\n",
       " ('special', 1),\n",
       " ('cases,', 1),\n",
       " ('when', 1),\n",
       " ('washing', 1),\n",
       " ('faces,', 1),\n",
       " ('eating', 1),\n",
       " ('swimming.\\n\\nThe', 1),\n",
       " ('could', 1),\n",
       " ('imposed', 1),\n",
       " ('noses', 1),\n",
       " ('spaces.', 1),\n",
       " ('Scarves', 1),\n",
       " ('certain', 1),\n",
       " ('types', 1),\n",
       " ('cannot', 1),\n",
       " ('protect', 1),\n",
       " ('others', 1),\n",
       " ('obligation.\\n\\nPublic', 1),\n",
       " ('subject', 1),\n",
       " ('depend', 1),\n",
       " ('levels', 1),\n",
       " ('South', 1),\n",
       " (\"Korea's\", 1),\n",
       " ('three-tier', 1),\n",
       " ('social', 1),\n",
       " ('distancing', 1),\n",
       " ('scale.\\n', 1)]"
      ]
     },
     "execution_count": 212,
     "metadata": {},
     "output_type": "execute_result"
    }
   ],
   "source": [
    "sorted(word_dic.items(), reverse=True, key=lambda item : item[1])"
   ]
  },
  {
   "cell_type": "markdown",
   "metadata": {},
   "source": [
    "AI 분야 세부 분류\n",
    "1. words / sns / article\n",
    "2. NLP(음성)\n",
    "3. image 분류 / object detection / object recogniza\n",
    "-> pose estimation / object segmentation\n",
    "4. 언어(말뭉치 / 형태소) , 사투리(욕)\n",
    "5. multi-modal"
   ]
  },
  {
   "cell_type": "code",
   "execution_count": 213,
   "metadata": {},
   "outputs": [
    {
     "data": {
      "text/plain": [
       "dict_items([('\\nPeople', 1), ('will', 7), ('be', 7), ('required', 1), ('to', 10), ('wear', 4), ('face', 3), ('masks', 6), ('on', 19), ('mass', 1), ('transportation', 2), ('and', 6), ('in', 17), ('public', 2), ('places', 2), ('starting', 1), ('Tuesday', 1), ('help', 1), ('better', 1), ('combat', 1), ('the', 15), ('coronavirus', 1), ('outbreak.\\n\\nThe', 1), ('requirement', 3), ('is', 3), ('line', 1), ('with', 2), ('implementation', 1), ('of', 6), (\"country's\", 1), ('infectious', 1), ('disease', 1), ('control', 1), ('prevention', 1), ('act', 1), ('aimed', 1), ('at', 13), ('stemming', 1), ('spread', 1), ('flu-like', 1), ('virus,', 1), ('officials', 1), ('said.\\n\\nIf', 1), ('people', 3), ('do', 1), ('not', 3), ('demonstrations,', 1), ('as', 13), ('well', 1), ('medical', 2), ('care', 1), ('facilities,', 1), ('they', 2), ('a', 80), ('fine', 3), ('up', 2), ('100,000', 1), ('won', 2), ('($87).\\n\\nOperators', 1), ('those', 2), ('facilities', 2), ('rally', 1), ('organizers', 1), ('fined', 1), ('3', 1), ('million', 1), ('for', 1), ('failing', 1), ('ensure', 1), ('that', 2), ('users', 1), ('or', 10), ('participants', 1), ('comply', 1), ('requirement.\\n\\nHowever,', 1), ('aged', 1), ('under', 4), ('14', 1), ('who', 2), ('are', 3), ('unable', 1), ('due', 1), ('conditions', 1), ('exempted', 1), ('from', 2), ('requirement.', 2), ('People', 2), ('also', 2), ('allowed', 2), ('skip', 1), ('special', 1), ('cases,', 1), ('such', 2), ('when', 1), ('washing', 1), ('their', 2), ('faces,', 1), ('eating', 1), ('swimming.\\n\\nThe', 1), ('could', 1), ('imposed', 1), ('noses', 1), ('spaces.', 1), ('Scarves', 1), ('certain', 1), ('types', 1), ('cannot', 1), ('protect', 1), ('others', 1), ('virus', 3), ('obligation.\\n\\nPublic', 1), ('subject', 1), ('obligation', 2), ('depend', 1), ('levels', 1), ('South', 1), (\"Korea's\", 1), ('three-tier', 1), ('social', 1), ('distancing', 1), ('scale.\\n', 1)])"
      ]
     },
     "execution_count": 213,
     "metadata": {},
     "output_type": "execute_result"
    }
   ],
   "source": [
    "word_dic.items()"
   ]
  },
  {
   "cell_type": "code",
   "execution_count": 214,
   "metadata": {},
   "outputs": [
    {
     "data": {
      "text/plain": [
       "dict_values([1, 7, 7, 1, 10, 4, 3, 6, 19, 1, 2, 6, 17, 2, 2, 1, 1, 1, 1, 1, 15, 1, 1, 3, 3, 1, 2, 1, 6, 1, 1, 1, 1, 1, 1, 1, 13, 1, 1, 1, 1, 1, 1, 3, 1, 3, 1, 13, 1, 2, 1, 1, 2, 80, 3, 2, 1, 2, 1, 2, 2, 1, 1, 1, 1, 1, 1, 1, 1, 2, 1, 10, 1, 1, 1, 1, 4, 1, 2, 3, 1, 1, 1, 1, 2, 2, 2, 2, 2, 1, 1, 1, 2, 1, 1, 2, 1, 1, 1, 1, 1, 1, 1, 1, 1, 1, 1, 1, 1, 3, 1, 1, 2, 1, 1, 1, 1, 1, 1, 1, 1])"
      ]
     },
     "execution_count": 214,
     "metadata": {},
     "output_type": "execute_result"
    }
   ],
   "source": [
    "word_dic.values()"
   ]
  },
  {
   "cell_type": "code",
   "execution_count": 215,
   "metadata": {},
   "outputs": [
    {
     "data": {
      "text/plain": [
       "dict_keys(['\\nPeople', 'will', 'be', 'required', 'to', 'wear', 'face', 'masks', 'on', 'mass', 'transportation', 'and', 'in', 'public', 'places', 'starting', 'Tuesday', 'help', 'better', 'combat', 'the', 'coronavirus', 'outbreak.\\n\\nThe', 'requirement', 'is', 'line', 'with', 'implementation', 'of', \"country's\", 'infectious', 'disease', 'control', 'prevention', 'act', 'aimed', 'at', 'stemming', 'spread', 'flu-like', 'virus,', 'officials', 'said.\\n\\nIf', 'people', 'do', 'not', 'demonstrations,', 'as', 'well', 'medical', 'care', 'facilities,', 'they', 'a', 'fine', 'up', '100,000', 'won', '($87).\\n\\nOperators', 'those', 'facilities', 'rally', 'organizers', 'fined', '3', 'million', 'for', 'failing', 'ensure', 'that', 'users', 'or', 'participants', 'comply', 'requirement.\\n\\nHowever,', 'aged', 'under', '14', 'who', 'are', 'unable', 'due', 'conditions', 'exempted', 'from', 'requirement.', 'People', 'also', 'allowed', 'skip', 'special', 'cases,', 'such', 'when', 'washing', 'their', 'faces,', 'eating', 'swimming.\\n\\nThe', 'could', 'imposed', 'noses', 'spaces.', 'Scarves', 'certain', 'types', 'cannot', 'protect', 'others', 'virus', 'obligation.\\n\\nPublic', 'subject', 'obligation', 'depend', 'levels', 'South', \"Korea's\", 'three-tier', 'social', 'distancing', 'scale.\\n'])"
      ]
     },
     "execution_count": 215,
     "metadata": {},
     "output_type": "execute_result"
    }
   ],
   "source": [
    "word_dic.keys()"
   ]
  },
  {
   "cell_type": "code",
   "execution_count": 218,
   "metadata": {},
   "outputs": [
    {
     "data": {
      "text/plain": [
       "[1,\n",
       " 7,\n",
       " 7,\n",
       " 1,\n",
       " 10,\n",
       " 4,\n",
       " 3,\n",
       " 6,\n",
       " 19,\n",
       " 1,\n",
       " 2,\n",
       " 6,\n",
       " 17,\n",
       " 2,\n",
       " 2,\n",
       " 1,\n",
       " 1,\n",
       " 1,\n",
       " 1,\n",
       " 1,\n",
       " 15,\n",
       " 1,\n",
       " 1,\n",
       " 3,\n",
       " 3,\n",
       " 1,\n",
       " 2,\n",
       " 1,\n",
       " 6,\n",
       " 1,\n",
       " 1,\n",
       " 1,\n",
       " 1,\n",
       " 1,\n",
       " 1,\n",
       " 1,\n",
       " 13,\n",
       " 1,\n",
       " 1,\n",
       " 1,\n",
       " 1,\n",
       " 1,\n",
       " 1,\n",
       " 3,\n",
       " 1,\n",
       " 3,\n",
       " 1,\n",
       " 13,\n",
       " 1,\n",
       " 2,\n",
       " 1,\n",
       " 1,\n",
       " 2,\n",
       " 80,\n",
       " 3,\n",
       " 2,\n",
       " 1,\n",
       " 2,\n",
       " 1,\n",
       " 2,\n",
       " 2,\n",
       " 1,\n",
       " 1,\n",
       " 1,\n",
       " 1,\n",
       " 1,\n",
       " 1,\n",
       " 1,\n",
       " 1,\n",
       " 2,\n",
       " 1,\n",
       " 10,\n",
       " 1,\n",
       " 1,\n",
       " 1,\n",
       " 1,\n",
       " 4,\n",
       " 1,\n",
       " 2,\n",
       " 3,\n",
       " 1,\n",
       " 1,\n",
       " 1,\n",
       " 1,\n",
       " 2,\n",
       " 2,\n",
       " 2,\n",
       " 2,\n",
       " 2,\n",
       " 1,\n",
       " 1,\n",
       " 1,\n",
       " 2,\n",
       " 1,\n",
       " 1,\n",
       " 2,\n",
       " 1,\n",
       " 1,\n",
       " 1,\n",
       " 1,\n",
       " 1,\n",
       " 1,\n",
       " 1,\n",
       " 1,\n",
       " 1,\n",
       " 1,\n",
       " 1,\n",
       " 1,\n",
       " 1,\n",
       " 3,\n",
       " 1,\n",
       " 1,\n",
       " 2,\n",
       " 1,\n",
       " 1,\n",
       " 1,\n",
       " 1,\n",
       " 1,\n",
       " 1,\n",
       " 1,\n",
       " 1]"
      ]
     },
     "execution_count": 218,
     "metadata": {},
     "output_type": "execute_result"
    }
   ],
   "source": [
    "list(map(lambda xx: xx[1], word_dic.items()))"
   ]
  },
  {
   "cell_type": "code",
   "execution_count": 219,
   "metadata": {
    "scrolled": true
   },
   "outputs": [
    {
     "data": {
      "text/plain": [
       "1"
      ]
     },
     "execution_count": 219,
     "metadata": {},
     "output_type": "execute_result"
    }
   ],
   "source": [
    "news_article.count(word_list[0])"
   ]
  },
  {
   "cell_type": "code",
   "execution_count": 222,
   "metadata": {},
   "outputs": [
    {
     "name": "stdout",
     "output_type": "stream",
     "text": [
      "\n",
      "People 1\n",
      "will 7\n",
      "be 7\n",
      "required 1\n",
      "to 10\n",
      "wear 4\n",
      "face 3\n",
      "masks 6\n",
      "on 19\n",
      "mass 1\n",
      "transportation 2\n",
      "and 6\n",
      "in 17\n",
      "public 2\n",
      "places 2\n",
      "starting 1\n",
      "Tuesday 1\n",
      "help 1\n",
      "better 1\n",
      "combat 1\n",
      "the 15\n",
      "coronavirus 1\n",
      "outbreak.\n",
      "\n",
      "The 1\n",
      "requirement 3\n",
      "is 3\n",
      "line 1\n",
      "with 2\n",
      "implementation 1\n",
      "of 6\n",
      "country's 1\n",
      "infectious 1\n",
      "disease 1\n",
      "control 1\n",
      "prevention 1\n",
      "act 1\n",
      "aimed 1\n",
      "at 13\n",
      "stemming 1\n",
      "spread 1\n",
      "flu-like 1\n",
      "virus, 1\n",
      "officials 1\n",
      "said.\n",
      "\n",
      "If 1\n",
      "people 3\n",
      "do 1\n",
      "not 3\n",
      "demonstrations, 1\n",
      "as 13\n",
      "well 1\n",
      "medical 2\n",
      "care 1\n",
      "facilities, 1\n",
      "they 2\n",
      "a 80\n",
      "fine 3\n",
      "up 2\n",
      "100,000 1\n",
      "won 2\n",
      "($87).\n",
      "\n",
      "Operators 1\n",
      "those 2\n",
      "facilities 2\n",
      "rally 1\n",
      "organizers 1\n",
      "fined 1\n",
      "3 1\n",
      "million 1\n",
      "for 1\n",
      "failing 1\n",
      "ensure 1\n",
      "that 2\n",
      "users 1\n",
      "or 10\n",
      "participants 1\n",
      "comply 1\n",
      "requirement.\n",
      "\n",
      "However, 1\n",
      "aged 1\n",
      "under 4\n",
      "14 1\n",
      "who 2\n",
      "are 3\n",
      "unable 1\n",
      "due 1\n",
      "conditions 1\n",
      "exempted 1\n",
      "from 2\n",
      "requirement. 2\n",
      "People 2\n",
      "also 2\n",
      "allowed 2\n",
      "skip 1\n",
      "special 1\n",
      "cases, 1\n",
      "such 2\n",
      "when 1\n",
      "washing 1\n",
      "their 2\n",
      "faces, 1\n",
      "eating 1\n",
      "swimming.\n",
      "\n",
      "The 1\n",
      "could 1\n",
      "imposed 1\n",
      "noses 1\n",
      "spaces. 1\n",
      "Scarves 1\n",
      "certain 1\n",
      "types 1\n",
      "cannot 1\n",
      "protect 1\n",
      "others 1\n",
      "virus 3\n",
      "obligation.\n",
      "\n",
      "Public 1\n",
      "subject 1\n",
      "obligation 2\n",
      "depend 1\n",
      "levels 1\n",
      "South 1\n",
      "Korea's 1\n",
      "three-tier 1\n",
      "social 1\n",
      "distancing 1\n",
      "scale.\n",
      " 1\n"
     ]
    }
   ],
   "source": [
    "for item in word_dic.items():\n",
    "    print(item[0], item[1])"
   ]
  },
  {
   "cell_type": "code",
   "execution_count": 223,
   "metadata": {},
   "outputs": [
    {
     "data": {
      "text/plain": [
       "'\\nPeople'"
      ]
     },
     "execution_count": 223,
     "metadata": {},
     "output_type": "execute_result"
    }
   ],
   "source": [
    "word_list[0]"
   ]
  },
  {
   "cell_type": "code",
   "execution_count": 224,
   "metadata": {},
   "outputs": [],
   "source": [
    "# data.go.kr 공공데이터사이트\n",
    "# kaggle.com 인공지능 스터디 사이트\n",
    "# aihub.com 인공지능 연구와 제품개발에 필요한 주요자원 사이트"
   ]
  },
  {
   "cell_type": "code",
   "execution_count": null,
   "metadata": {},
   "outputs": [],
   "source": []
  },
  {
   "cell_type": "code",
   "execution_count": null,
   "metadata": {},
   "outputs": [],
   "source": []
  },
  {
   "cell_type": "code",
   "execution_count": null,
   "metadata": {},
   "outputs": [],
   "source": []
  },
  {
   "cell_type": "code",
   "execution_count": null,
   "metadata": {},
   "outputs": [],
   "source": []
  },
  {
   "cell_type": "code",
   "execution_count": 227,
   "metadata": {},
   "outputs": [
    {
     "name": "stdout",
     "output_type": "stream",
     "text": [
      "Collecting watermark\n",
      "  Downloading https://files.pythonhosted.org/packages/60/fe/3ed83b6122e70dce6fe269dfd763103c333f168bf91037add73ea4fe81c2/watermark-2.0.2-py2.py3-none-any.whl\n",
      "Requirement already satisfied: ipython in c:\\programdata\\anaconda3\\lib\\site-packages (from watermark) (7.8.0)\n",
      "Requirement already satisfied: decorator in c:\\programdata\\anaconda3\\lib\\site-packages (from ipython->watermark) (4.4.0)\n",
      "Requirement already satisfied: prompt-toolkit<2.1.0,>=2.0.0 in c:\\programdata\\anaconda3\\lib\\site-packages (from ipython->watermark) (2.0.10)\n",
      "Requirement already satisfied: pickleshare in c:\\programdata\\anaconda3\\lib\\site-packages (from ipython->watermark) (0.7.5)\n",
      "Requirement already satisfied: traitlets>=4.2 in c:\\programdata\\anaconda3\\lib\\site-packages (from ipython->watermark) (4.3.3)\n",
      "Requirement already satisfied: jedi>=0.10 in c:\\programdata\\anaconda3\\lib\\site-packages (from ipython->watermark) (0.15.1)\n",
      "Requirement already satisfied: colorama; sys_platform == \"win32\" in c:\\programdata\\anaconda3\\lib\\site-packages (from ipython->watermark) (0.4.1)\n",
      "Requirement already satisfied: backcall in c:\\programdata\\anaconda3\\lib\\site-packages (from ipython->watermark) (0.1.0)\n",
      "Requirement already satisfied: setuptools>=18.5 in c:\\programdata\\anaconda3\\lib\\site-packages (from ipython->watermark) (41.4.0)\n",
      "Requirement already satisfied: pygments in c:\\programdata\\anaconda3\\lib\\site-packages (from ipython->watermark) (2.4.2)\n",
      "Requirement already satisfied: wcwidth in c:\\programdata\\anaconda3\\lib\\site-packages (from prompt-toolkit<2.1.0,>=2.0.0->ipython->watermark) (0.1.7)\n",
      "Requirement already satisfied: six>=1.9.0 in c:\\programdata\\anaconda3\\lib\\site-packages (from prompt-toolkit<2.1.0,>=2.0.0->ipython->watermark) (1.12.0)\n",
      "Requirement already satisfied: ipython-genutils in c:\\programdata\\anaconda3\\lib\\site-packages (from traitlets>=4.2->ipython->watermark) (0.2.0)\n",
      "Requirement already satisfied: parso>=0.5.0 in c:\\programdata\\anaconda3\\lib\\site-packages (from jedi>=0.10->ipython->watermark) (0.5.1)\n",
      "Installing collected packages: watermark\n",
      "Successfully installed watermark-2.0.2\n"
     ]
    }
   ],
   "source": [
    "!pip install watermark"
   ]
  },
  {
   "cell_type": "code",
   "execution_count": 229,
   "metadata": {},
   "outputs": [
    {
     "name": "stdout",
     "output_type": "stream",
     "text": [
      "The watermark extension is already loaded. To reload it, use:\n",
      "  %reload_ext watermark\n"
     ]
    }
   ],
   "source": [
    "import pandas.util.testing as tm\n",
    "%load_ext watermark"
   ]
  },
  {
   "cell_type": "code",
   "execution_count": 231,
   "metadata": {},
   "outputs": [
    {
     "name": "stdout",
     "output_type": "stream",
     "text": [
      "김한주 2020-10-12 \n",
      "\n",
      "numpy 1.16.5\n",
      "pandas 0.25.1\n",
      "seaborn 0.9.0\n",
      "sklearn 0.21.3\n"
     ]
    }
   ],
   "source": [
    "%watermark -a 김한주 -d -p numpy,pandas,seaborn,sklearn"
   ]
  },
  {
   "cell_type": "code",
   "execution_count": 233,
   "metadata": {},
   "outputs": [
    {
     "name": "stdout",
     "output_type": "stream",
     "text": [
      "Requirement already satisfied: version-information in c:\\programdata\\anaconda3\\lib\\site-packages (1.0.3)\n"
     ]
    }
   ],
   "source": [
    "!pip install version-information\n",
    "#install할때는 - 불러들일때는 _"
   ]
  },
  {
   "cell_type": "code",
   "execution_count": 248,
   "metadata": {},
   "outputs": [
    {
     "name": "stdout",
     "output_type": "stream",
     "text": [
      "The version_information extension is already loaded. To reload it, use:\n",
      "  %reload_ext version_information\n"
     ]
    }
   ],
   "source": [
    "%load_ext version_information"
   ]
  },
  {
   "cell_type": "code",
   "execution_count": 235,
   "metadata": {},
   "outputs": [
    {
     "data": {
      "application/json": {
       "Software versions": [
        {
         "module": "Python",
         "version": "3.7.4 64bit [MSC v.1915 64 bit (AMD64)]"
        },
        {
         "module": "IPython",
         "version": "7.8.0"
        },
        {
         "module": "OS",
         "version": "Windows 10 10.0.18362 SP0"
        },
        {
         "module": "numpy",
         "version": "1.16.5"
        },
        {
         "module": "pandas",
         "version": "0.25.1"
        },
        {
         "module": "seaborn",
         "version": "0.9.0"
        },
        {
         "module": "sklearn",
         "version": "0.21.3"
        }
       ]
      },
      "text/html": [
       "<table><tr><th>Software</th><th>Version</th></tr><tr><td>Python</td><td>3.7.4 64bit [MSC v.1915 64 bit (AMD64)]</td></tr><tr><td>IPython</td><td>7.8.0</td></tr><tr><td>OS</td><td>Windows 10 10.0.18362 SP0</td></tr><tr><td>numpy</td><td>1.16.5</td></tr><tr><td>pandas</td><td>0.25.1</td></tr><tr><td>seaborn</td><td>0.9.0</td></tr><tr><td>sklearn</td><td>0.21.3</td></tr><tr><td colspan='2'>Mon Oct 12 15:52:14 2020 ¢¥eCN©öI¡¾©ö C¡ÍA¨ª¨öA</td></tr></table>"
      ],
      "text/latex": [
       "\\begin{tabular}{|l|l|}\\hline\n",
       "{\\bf Software} & {\\bf Version} \\\\ \\hline\\hline\n",
       "Python & 3.7.4 64bit [MSC v.1915 64 bit (AMD64)] \\\\ \\hline\n",
       "IPython & 7.8.0 \\\\ \\hline\n",
       "OS & Windows 10 10.0.18362 SP0 \\\\ \\hline\n",
       "numpy & 1.16.5 \\\\ \\hline\n",
       "pandas & 0.25.1 \\\\ \\hline\n",
       "seaborn & 0.9.0 \\\\ \\hline\n",
       "sklearn & 0.21.3 \\\\ \\hline\n",
       "\\hline \\multicolumn{2}{|l|}{Mon Oct 12 15:52:14 2020 ¢¥eCN©öI¡¾©ö C¡ÍA¨ª¨öA} \\\\ \\hline\n",
       "\\end{tabular}\n"
      ],
      "text/plain": [
       "Software versions\n",
       "Python 3.7.4 64bit [MSC v.1915 64 bit (AMD64)]\n",
       "IPython 7.8.0\n",
       "OS Windows 10 10.0.18362 SP0\n",
       "numpy 1.16.5\n",
       "pandas 0.25.1\n",
       "seaborn 0.9.0\n",
       "sklearn 0.21.3\n",
       "Mon Oct 12 15:52:14 2020 ¢¥eCN©öI¡¾©ö C¡ÍA¨ª¨öA"
      ]
     },
     "execution_count": 235,
     "metadata": {},
     "output_type": "execute_result"
    }
   ],
   "source": [
    "%version_information numpy,pandas,seaborn,sklearn"
   ]
  },
  {
   "cell_type": "code",
   "execution_count": 247,
   "metadata": {},
   "outputs": [],
   "source": [
    "#레포트만들기\n",
    "import seaborn as sns\n",
    "import pandas as pd"
   ]
  },
  {
   "cell_type": "code",
   "execution_count": 245,
   "metadata": {},
   "outputs": [],
   "source": [
    "import missingno as mino\n",
    "import pandas_profiling"
   ]
  },
  {
   "cell_type": "code",
   "execution_count": 249,
   "metadata": {},
   "outputs": [
    {
     "data": {
      "application/json": {
       "Software versions": [
        {
         "module": "Python",
         "version": "3.7.4 64bit [MSC v.1915 64 bit (AMD64)]"
        },
        {
         "module": "IPython",
         "version": "7.8.0"
        },
        {
         "module": "OS",
         "version": "Windows 10 10.0.18362 SP0"
        },
        {
         "module": "numpy",
         "version": "1.16.5"
        },
        {
         "module": "pandas",
         "version": "0.25.1"
        },
        {
         "module": "seaborn",
         "version": "0.9.0"
        },
        {
         "module": "sklearn",
         "version": "0.21.3"
        },
        {
         "module": "pandas_profiling",
         "version": "1.4.1"
        }
       ]
      },
      "text/html": [
       "<table><tr><th>Software</th><th>Version</th></tr><tr><td>Python</td><td>3.7.4 64bit [MSC v.1915 64 bit (AMD64)]</td></tr><tr><td>IPython</td><td>7.8.0</td></tr><tr><td>OS</td><td>Windows 10 10.0.18362 SP0</td></tr><tr><td>numpy</td><td>1.16.5</td></tr><tr><td>pandas</td><td>0.25.1</td></tr><tr><td>seaborn</td><td>0.9.0</td></tr><tr><td>sklearn</td><td>0.21.3</td></tr><tr><td>pandas_profiling</td><td>1.4.1</td></tr><tr><td colspan='2'>Mon Oct 12 16:09:56 2020 ¢¥eCN©öI¡¾©ö C¡ÍA¨ª¨öA</td></tr></table>"
      ],
      "text/latex": [
       "\\begin{tabular}{|l|l|}\\hline\n",
       "{\\bf Software} & {\\bf Version} \\\\ \\hline\\hline\n",
       "Python & 3.7.4 64bit [MSC v.1915 64 bit (AMD64)] \\\\ \\hline\n",
       "IPython & 7.8.0 \\\\ \\hline\n",
       "OS & Windows 10 10.0.18362 SP0 \\\\ \\hline\n",
       "numpy & 1.16.5 \\\\ \\hline\n",
       "pandas & 0.25.1 \\\\ \\hline\n",
       "seaborn & 0.9.0 \\\\ \\hline\n",
       "sklearn & 0.21.3 \\\\ \\hline\n",
       "pandas_profiling & 1.4.1 \\\\ \\hline\n",
       "\\hline \\multicolumn{2}{|l|}{Mon Oct 12 16:09:56 2020 ¢¥eCN©öI¡¾©ö C¡ÍA¨ª¨öA} \\\\ \\hline\n",
       "\\end{tabular}\n"
      ],
      "text/plain": [
       "Software versions\n",
       "Python 3.7.4 64bit [MSC v.1915 64 bit (AMD64)]\n",
       "IPython 7.8.0\n",
       "OS Windows 10 10.0.18362 SP0\n",
       "numpy 1.16.5\n",
       "pandas 0.25.1\n",
       "seaborn 0.9.0\n",
       "sklearn 0.21.3\n",
       "pandas_profiling 1.4.1\n",
       "Mon Oct 12 16:09:56 2020 ¢¥eCN©öI¡¾©ö C¡ÍA¨ª¨öA"
      ]
     },
     "execution_count": 249,
     "metadata": {},
     "output_type": "execute_result"
    }
   ],
   "source": [
    "%version_information numpy,pandas,seaborn,sklearn,pandas_profiling"
   ]
  },
  {
   "cell_type": "code",
   "execution_count": 250,
   "metadata": {},
   "outputs": [],
   "source": [
    "#웹에서 그래프그리기 쉬운 라이브러리\n",
    "#Bokeh"
   ]
  },
  {
   "cell_type": "code",
   "execution_count": 251,
   "metadata": {},
   "outputs": [],
   "source": [
    "mpg = sns.load_dataset('mpg')"
   ]
  },
  {
   "cell_type": "code",
   "execution_count": 257,
   "metadata": {},
   "outputs": [
    {
     "name": "stdout",
     "output_type": "stream",
     "text": [
      "<class 'pandas.core.frame.DataFrame'>\n",
      "RangeIndex: 398 entries, 0 to 397\n",
      "Data columns (total 9 columns):\n",
      "mpg             398 non-null float64\n",
      "cylinders       398 non-null int64\n",
      "displacement    398 non-null float64\n",
      "horsepower      392 non-null float64\n",
      "weight          398 non-null int64\n",
      "acceleration    398 non-null float64\n",
      "model_year      398 non-null int64\n",
      "origin          398 non-null object\n",
      "name            398 non-null object\n",
      "dtypes: float64(4), int64(3), object(2)\n",
      "memory usage: 28.1+ KB\n"
     ]
    }
   ],
   "source": [
    "#데이터를 불러오고 사용하는 명령어\n",
    "mpg.info()\n",
    "#제일 먼저 봐야할 것은 데이터가 전부 들어있나 확인 -> 결측지 확인\n",
    "# horsepower에 지금 392개의 데이터가 있으므로 6개의 데이터가 없음"
   ]
  },
  {
   "cell_type": "code",
   "execution_count": 258,
   "metadata": {},
   "outputs": [
    {
     "data": {
      "text/html": [
       "<div>\n",
       "<style scoped>\n",
       "    .dataframe tbody tr th:only-of-type {\n",
       "        vertical-align: middle;\n",
       "    }\n",
       "\n",
       "    .dataframe tbody tr th {\n",
       "        vertical-align: top;\n",
       "    }\n",
       "\n",
       "    .dataframe thead th {\n",
       "        text-align: right;\n",
       "    }\n",
       "</style>\n",
       "<table border=\"1\" class=\"dataframe\">\n",
       "  <thead>\n",
       "    <tr style=\"text-align: right;\">\n",
       "      <th></th>\n",
       "      <th>mpg</th>\n",
       "      <th>cylinders</th>\n",
       "      <th>displacement</th>\n",
       "      <th>horsepower</th>\n",
       "      <th>weight</th>\n",
       "      <th>acceleration</th>\n",
       "      <th>model_year</th>\n",
       "    </tr>\n",
       "  </thead>\n",
       "  <tbody>\n",
       "    <tr>\n",
       "      <td>count</td>\n",
       "      <td>398.000000</td>\n",
       "      <td>398.000000</td>\n",
       "      <td>398.000000</td>\n",
       "      <td>392.000000</td>\n",
       "      <td>398.000000</td>\n",
       "      <td>398.000000</td>\n",
       "      <td>398.000000</td>\n",
       "    </tr>\n",
       "    <tr>\n",
       "      <td>mean</td>\n",
       "      <td>23.514573</td>\n",
       "      <td>5.454774</td>\n",
       "      <td>193.425879</td>\n",
       "      <td>104.469388</td>\n",
       "      <td>2970.424623</td>\n",
       "      <td>15.568090</td>\n",
       "      <td>76.010050</td>\n",
       "    </tr>\n",
       "    <tr>\n",
       "      <td>std</td>\n",
       "      <td>7.815984</td>\n",
       "      <td>1.701004</td>\n",
       "      <td>104.269838</td>\n",
       "      <td>38.491160</td>\n",
       "      <td>846.841774</td>\n",
       "      <td>2.757689</td>\n",
       "      <td>3.697627</td>\n",
       "    </tr>\n",
       "    <tr>\n",
       "      <td>min</td>\n",
       "      <td>9.000000</td>\n",
       "      <td>3.000000</td>\n",
       "      <td>68.000000</td>\n",
       "      <td>46.000000</td>\n",
       "      <td>1613.000000</td>\n",
       "      <td>8.000000</td>\n",
       "      <td>70.000000</td>\n",
       "    </tr>\n",
       "    <tr>\n",
       "      <td>25%</td>\n",
       "      <td>17.500000</td>\n",
       "      <td>4.000000</td>\n",
       "      <td>104.250000</td>\n",
       "      <td>75.000000</td>\n",
       "      <td>2223.750000</td>\n",
       "      <td>13.825000</td>\n",
       "      <td>73.000000</td>\n",
       "    </tr>\n",
       "    <tr>\n",
       "      <td>50%</td>\n",
       "      <td>23.000000</td>\n",
       "      <td>4.000000</td>\n",
       "      <td>148.500000</td>\n",
       "      <td>93.500000</td>\n",
       "      <td>2803.500000</td>\n",
       "      <td>15.500000</td>\n",
       "      <td>76.000000</td>\n",
       "    </tr>\n",
       "    <tr>\n",
       "      <td>75%</td>\n",
       "      <td>29.000000</td>\n",
       "      <td>8.000000</td>\n",
       "      <td>262.000000</td>\n",
       "      <td>126.000000</td>\n",
       "      <td>3608.000000</td>\n",
       "      <td>17.175000</td>\n",
       "      <td>79.000000</td>\n",
       "    </tr>\n",
       "    <tr>\n",
       "      <td>max</td>\n",
       "      <td>46.600000</td>\n",
       "      <td>8.000000</td>\n",
       "      <td>455.000000</td>\n",
       "      <td>230.000000</td>\n",
       "      <td>5140.000000</td>\n",
       "      <td>24.800000</td>\n",
       "      <td>82.000000</td>\n",
       "    </tr>\n",
       "  </tbody>\n",
       "</table>\n",
       "</div>"
      ],
      "text/plain": [
       "              mpg   cylinders  displacement  horsepower       weight  \\\n",
       "count  398.000000  398.000000    398.000000  392.000000   398.000000   \n",
       "mean    23.514573    5.454774    193.425879  104.469388  2970.424623   \n",
       "std      7.815984    1.701004    104.269838   38.491160   846.841774   \n",
       "min      9.000000    3.000000     68.000000   46.000000  1613.000000   \n",
       "25%     17.500000    4.000000    104.250000   75.000000  2223.750000   \n",
       "50%     23.000000    4.000000    148.500000   93.500000  2803.500000   \n",
       "75%     29.000000    8.000000    262.000000  126.000000  3608.000000   \n",
       "max     46.600000    8.000000    455.000000  230.000000  5140.000000   \n",
       "\n",
       "       acceleration  model_year  \n",
       "count    398.000000  398.000000  \n",
       "mean      15.568090   76.010050  \n",
       "std        2.757689    3.697627  \n",
       "min        8.000000   70.000000  \n",
       "25%       13.825000   73.000000  \n",
       "50%       15.500000   76.000000  \n",
       "75%       17.175000   79.000000  \n",
       "max       24.800000   82.000000  "
      ]
     },
     "execution_count": 258,
     "metadata": {},
     "output_type": "execute_result"
    }
   ],
   "source": [
    "mpg.describe()"
   ]
  },
  {
   "cell_type": "code",
   "execution_count": 262,
   "metadata": {},
   "outputs": [
    {
     "data": {
      "text/html": [
       "<div>\n",
       "<style scoped>\n",
       "    .dataframe tbody tr th:only-of-type {\n",
       "        vertical-align: middle;\n",
       "    }\n",
       "\n",
       "    .dataframe tbody tr th {\n",
       "        vertical-align: top;\n",
       "    }\n",
       "\n",
       "    .dataframe thead th {\n",
       "        text-align: right;\n",
       "    }\n",
       "</style>\n",
       "<table border=\"1\" class=\"dataframe\">\n",
       "  <thead>\n",
       "    <tr style=\"text-align: right;\">\n",
       "      <th></th>\n",
       "      <th>mpg</th>\n",
       "      <th>cylinders</th>\n",
       "      <th>displacement</th>\n",
       "      <th>horsepower</th>\n",
       "      <th>weight</th>\n",
       "      <th>acceleration</th>\n",
       "      <th>model_year</th>\n",
       "    </tr>\n",
       "  </thead>\n",
       "  <tbody>\n",
       "    <tr>\n",
       "      <td>mpg</td>\n",
       "      <td>1.000000</td>\n",
       "      <td>-0.775396</td>\n",
       "      <td>-0.804203</td>\n",
       "      <td>-0.778427</td>\n",
       "      <td>-0.831741</td>\n",
       "      <td>0.420289</td>\n",
       "      <td>0.579267</td>\n",
       "    </tr>\n",
       "    <tr>\n",
       "      <td>cylinders</td>\n",
       "      <td>-0.775396</td>\n",
       "      <td>1.000000</td>\n",
       "      <td>0.950721</td>\n",
       "      <td>0.842983</td>\n",
       "      <td>0.896017</td>\n",
       "      <td>-0.505419</td>\n",
       "      <td>-0.348746</td>\n",
       "    </tr>\n",
       "    <tr>\n",
       "      <td>displacement</td>\n",
       "      <td>-0.804203</td>\n",
       "      <td>0.950721</td>\n",
       "      <td>1.000000</td>\n",
       "      <td>0.897257</td>\n",
       "      <td>0.932824</td>\n",
       "      <td>-0.543684</td>\n",
       "      <td>-0.370164</td>\n",
       "    </tr>\n",
       "    <tr>\n",
       "      <td>horsepower</td>\n",
       "      <td>-0.778427</td>\n",
       "      <td>0.842983</td>\n",
       "      <td>0.897257</td>\n",
       "      <td>1.000000</td>\n",
       "      <td>0.864538</td>\n",
       "      <td>-0.689196</td>\n",
       "      <td>-0.416361</td>\n",
       "    </tr>\n",
       "    <tr>\n",
       "      <td>weight</td>\n",
       "      <td>-0.831741</td>\n",
       "      <td>0.896017</td>\n",
       "      <td>0.932824</td>\n",
       "      <td>0.864538</td>\n",
       "      <td>1.000000</td>\n",
       "      <td>-0.417457</td>\n",
       "      <td>-0.306564</td>\n",
       "    </tr>\n",
       "    <tr>\n",
       "      <td>acceleration</td>\n",
       "      <td>0.420289</td>\n",
       "      <td>-0.505419</td>\n",
       "      <td>-0.543684</td>\n",
       "      <td>-0.689196</td>\n",
       "      <td>-0.417457</td>\n",
       "      <td>1.000000</td>\n",
       "      <td>0.288137</td>\n",
       "    </tr>\n",
       "    <tr>\n",
       "      <td>model_year</td>\n",
       "      <td>0.579267</td>\n",
       "      <td>-0.348746</td>\n",
       "      <td>-0.370164</td>\n",
       "      <td>-0.416361</td>\n",
       "      <td>-0.306564</td>\n",
       "      <td>0.288137</td>\n",
       "      <td>1.000000</td>\n",
       "    </tr>\n",
       "  </tbody>\n",
       "</table>\n",
       "</div>"
      ],
      "text/plain": [
       "                   mpg  cylinders  displacement  horsepower    weight  \\\n",
       "mpg           1.000000  -0.775396     -0.804203   -0.778427 -0.831741   \n",
       "cylinders    -0.775396   1.000000      0.950721    0.842983  0.896017   \n",
       "displacement -0.804203   0.950721      1.000000    0.897257  0.932824   \n",
       "horsepower   -0.778427   0.842983      0.897257    1.000000  0.864538   \n",
       "weight       -0.831741   0.896017      0.932824    0.864538  1.000000   \n",
       "acceleration  0.420289  -0.505419     -0.543684   -0.689196 -0.417457   \n",
       "model_year    0.579267  -0.348746     -0.370164   -0.416361 -0.306564   \n",
       "\n",
       "              acceleration  model_year  \n",
       "mpg               0.420289    0.579267  \n",
       "cylinders        -0.505419   -0.348746  \n",
       "displacement     -0.543684   -0.370164  \n",
       "horsepower       -0.689196   -0.416361  \n",
       "weight           -0.417457   -0.306564  \n",
       "acceleration      1.000000    0.288137  \n",
       "model_year        0.288137    1.000000  "
      ]
     },
     "execution_count": 262,
     "metadata": {},
     "output_type": "execute_result"
    }
   ],
   "source": [
    "mpg.corr() #correlationship\n",
    "#음수 값의 경우 관계는 있는데 역관계가 있다는 의미\n",
    "#ex) 맥주가 잘팔리면 땅콩은 잘팔리지만 맥주가 잘팔릴수록 소주가 안팔림\n",
    "# 맥주와 소주는 역관계\n",
    "#아래의 관계에서는 실린더가 많을수록 기름을 많이 먹음"
   ]
  },
  {
   "cell_type": "code",
   "execution_count": 269,
   "metadata": {},
   "outputs": [
    {
     "data": {
      "text/plain": [
       "<matplotlib.axes._subplots.AxesSubplot at 0x238eedaf3c8>"
      ]
     },
     "execution_count": 269,
     "metadata": {},
     "output_type": "execute_result"
    },
    {
     "data": {
      "image/png": "[encoded data removed]",
      "text/plain": [
       "<Figure size 1800x720 with 2 Axes>"
      ]
     },
     "metadata": {
      "needs_background": "light"
     },
     "output_type": "display_data"
    }
   ],
   "source": [
    "mino.matrix(mpg)"
   ]
  },
  {
   "cell_type": "code",
   "execution_count": 266,
   "metadata": {},
   "outputs": [],
   "source": [
    "import matplotlib.pyplot as plt"
   ]
  },
  {
   "cell_type": "code",
   "execution_count": 271,
   "metadata": {},
   "outputs": [],
   "source": [
    "%matplotlib inline"
   ]
  },
  {
   "cell_type": "code",
   "execution_count": 272,
   "metadata": {},
   "outputs": [],
   "source": [
    "#inline 의미 찾아보기"
   ]
  },
  {
   "cell_type": "code",
   "execution_count": null,
   "metadata": {},
   "outputs": [],
   "source": []
  }
 ],
 "metadata": {
  "kernelspec": {
   "display_name": "Python 3",
   "language": "python",
   "name": "python3"
  },
  "language_info": {
   "codemirror_mode": {
    "name": "ipython",
    "version": 3
   },
   "file_extension": ".py",
   "mimetype": "text/x-python",
   "name": "python",
   "nbconvert_exporter": "python",
   "pygments_lexer": "ipython3",
   "version": "3.7.4"
  }
 },
 "nbformat": 4,
 "nbformat_minor": 2
}
