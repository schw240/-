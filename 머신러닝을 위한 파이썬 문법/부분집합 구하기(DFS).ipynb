{
 "cells": [
  {
   "cell_type": "code",
   "execution_count": 6,
   "metadata": {},
   "outputs": [],
   "source": [
    "f = open('./실습데이터/부분집합구하기1.txt', 'r')\n",
    "n = int(f.readline())\n",
    "a = [list(map(int, f.readline().split())) for _ in range(n)]"
   ]
  },
  {
   "cell_type": "code",
   "execution_count": 14,
   "metadata": {},
   "outputs": [],
   "source": [
    "graph_list = []\n",
    "for i in range(1,n+1):\n",
    "    graph_list.append(i)"
   ]
  },
  {
   "cell_type": "code",
   "execution_count": 15,
   "metadata": {},
   "outputs": [
    {
     "data": {
      "text/plain": [
       "[1, 2, 3]"
      ]
     },
     "execution_count": 15,
     "metadata": {},
     "output_type": "execute_result"
    }
   ],
   "source": [
    "graph_list"
   ]
  },
  {
   "cell_type": "code",
   "execution_count": 16,
   "metadata": {},
   "outputs": [],
   "source": [
    "m = 2\n",
    "arr = [0]*(m+1)\n",
    "\n",
    "for i in range(m):\n",
    "    if arr[i] == 0:\n",
    "        arr[i]"
   ]
  },
  {
   "cell_type": "code",
   "execution_count": null,
   "metadata": {},
   "outputs": [],
   "source": []
  },
  {
   "cell_type": "code",
   "execution_count": null,
   "metadata": {},
   "outputs": [],
   "source": []
  },
  {
   "cell_type": "code",
   "execution_count": 19,
   "metadata": {},
   "outputs": [],
   "source": [
    "def MarkBit(x,c):\n",
    "    a = [0]*c\n",
    "    for i in range(c):\n",
    "        a[c-i-1] = x%2\n",
    "        x = x//2\n",
    "    return a"
   ]
  },
  {
   "cell_type": "code",
   "execution_count": 25,
   "metadata": {},
   "outputs": [
    {
     "name": "stdout",
     "output_type": "stream",
     "text": [
      "n=3\n",
      "\n",
      "3 \n",
      "2 \n",
      "2 3 \n",
      "1 \n",
      "1 3 \n",
      "1 2 \n",
      "1 2 3 \n"
     ]
    }
   ],
   "source": [
    "#선생님 방법\n",
    "n = int(input('n='))\n",
    "tt = [ i for i in range(1,n+1)]\n",
    "\n",
    "for i in range(2**n):\n",
    "    idx = MarkBit(i,n)\n",
    "    #idx = MarkBit(2**n-i, n)\n",
    "    #print(idx)\n",
    "    for j in range(n):\n",
    "        if idx[j] == 1:\n",
    "            print(tt[j], end=' ')\n",
    "    print()"
   ]
  },
  {
   "cell_type": "code",
   "execution_count": null,
   "metadata": {},
   "outputs": [],
   "source": []
  },
  {
   "cell_type": "code",
   "execution_count": null,
   "metadata": {},
   "outputs": [],
   "source": []
  },
  {
   "cell_type": "code",
   "execution_count": null,
   "metadata": {},
   "outputs": [],
   "source": []
  },
  {
   "cell_type": "code",
   "execution_count": 31,
   "metadata": {},
   "outputs": [
    {
     "name": "stdout",
     "output_type": "stream",
     "text": [
      "n=2\n",
      "\n",
      "1 2 \n",
      "1 \n",
      "2 \n",
      "\n"
     ]
    }
   ],
   "source": [
    "def BT(c): #BinaryTree 자료구조를 알아봅시다. 덤으로 recursive까지\n",
    "    if c == n+1:\n",
    "        for i in range(1, n+1):\n",
    "            if ch[i]==1:\n",
    "                print(i, end=' ')\n",
    "        print()\n",
    "    else:\n",
    "        ch[c]=1\n",
    "        BT(c+1)\n",
    "        ch[c]=0\n",
    "        BT(c+1)\n",
    "\n",
    "n = int(input('n='))\n",
    "ch = [0]*(n+1)\n",
    "print()\n",
    "BT(1)"
   ]
  },
  {
   "cell_type": "code",
   "execution_count": null,
   "metadata": {},
   "outputs": [],
   "source": []
  }
 ],
 "metadata": {
  "kernelspec": {
   "display_name": "Python 3",
   "language": "python",
   "name": "python3"
  },
  "language_info": {
   "codemirror_mode": {
    "name": "ipython",
    "version": 3
   },
   "file_extension": ".py",
   "mimetype": "text/x-python",
   "name": "python",
   "nbconvert_exporter": "python",
   "pygments_lexer": "ipython3",
   "version": "3.7.9"
  }
 },
 "nbformat": 4,
 "nbformat_minor": 4
}
