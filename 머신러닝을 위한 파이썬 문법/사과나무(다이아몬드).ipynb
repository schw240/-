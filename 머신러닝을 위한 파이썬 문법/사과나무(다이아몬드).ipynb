{
 "cells": [
  {
   "cell_type": "code",
   "execution_count": 7,
   "metadata": {},
   "outputs": [],
   "source": [
    "import pandas as pd"
   ]
  },
  {
   "cell_type": "code",
   "execution_count": 10,
   "metadata": {},
   "outputs": [],
   "source": [
    "df1 = pd.read_csv(\"./실습데이터/사과나무in1.txt\", sep=\"\\t\", engine='python', encoding='cp949')\n",
    "df2 = pd.read_csv(\"./실습데이터/사과나무in2.txt\", sep=\"\\t\", engine='python',encoding='cp949')"
   ]
  },
  {
   "cell_type": "code",
   "execution_count": 24,
   "metadata": {},
   "outputs": [
    {
     "data": {
      "text/html": [
       "<div>\n",
       "<style scoped>\n",
       "    .dataframe tbody tr th:only-of-type {\n",
       "        vertical-align: middle;\n",
       "    }\n",
       "\n",
       "    .dataframe tbody tr th {\n",
       "        vertical-align: top;\n",
       "    }\n",
       "\n",
       "    .dataframe thead th {\n",
       "        text-align: right;\n",
       "    }\n",
       "</style>\n",
       "<table border=\"1\" class=\"dataframe\">\n",
       "  <thead>\n",
       "    <tr style=\"text-align: right;\">\n",
       "      <th></th>\n",
       "      <th>7</th>\n",
       "    </tr>\n",
       "  </thead>\n",
       "  <tbody>\n",
       "    <tr>\n",
       "      <th>0</th>\n",
       "      <td>74 10 31 26 59 16 89</td>\n",
       "    </tr>\n",
       "    <tr>\n",
       "      <th>1</th>\n",
       "      <td>78 44 49 1 64 33 15</td>\n",
       "    </tr>\n",
       "    <tr>\n",
       "      <th>2</th>\n",
       "      <td>9 95 70 18 22 25 40</td>\n",
       "    </tr>\n",
       "    <tr>\n",
       "      <th>3</th>\n",
       "      <td>62 77 28 3 78 75 23</td>\n",
       "    </tr>\n",
       "    <tr>\n",
       "      <th>4</th>\n",
       "      <td>82 38 20 16 42 1 79</td>\n",
       "    </tr>\n",
       "    <tr>\n",
       "      <th>5</th>\n",
       "      <td>1 24 2 25 95 26 79</td>\n",
       "    </tr>\n",
       "    <tr>\n",
       "      <th>6</th>\n",
       "      <td>4 35 46 94 70 44 83</td>\n",
       "    </tr>\n",
       "  </tbody>\n",
       "</table>\n",
       "</div>"
      ],
      "text/plain": [
       "                       7\n",
       "0  74 10 31 26 59 16 89 \n",
       "1   78 44 49 1 64 33 15 \n",
       "2   9 95 70 18 22 25 40 \n",
       "3   62 77 28 3 78 75 23 \n",
       "4   82 38 20 16 42 1 79 \n",
       "5    1 24 2 25 95 26 79 \n",
       "6   4 35 46 94 70 44 83 "
      ]
     },
     "execution_count": 24,
     "metadata": {},
     "output_type": "execute_result"
    }
   ],
   "source": [
    "df1"
   ]
  },
  {
   "cell_type": "code",
   "execution_count": 14,
   "metadata": {},
   "outputs": [],
   "source": [
    "f1 = open('./실습데이터/사과나무in1.txt', 'r')\n"
   ]
  },
  {
   "cell_type": "code",
   "execution_count": 18,
   "metadata": {},
   "outputs": [],
   "source": [
    "test = f1.readline()"
   ]
  },
  {
   "cell_type": "code",
   "execution_count": 19,
   "metadata": {},
   "outputs": [
    {
     "data": {
      "text/plain": [
       "'74 10 31 26 59 16 89 \\n'"
      ]
     },
     "execution_count": 19,
     "metadata": {},
     "output_type": "execute_result"
    }
   ],
   "source": [
    "test"
   ]
  },
  {
   "cell_type": "code",
   "execution_count": 20,
   "metadata": {},
   "outputs": [
    {
     "data": {
      "text/plain": [
       "str"
      ]
     },
     "execution_count": 20,
     "metadata": {},
     "output_type": "execute_result"
    }
   ],
   "source": [
    "type(test)"
   ]
  },
  {
   "cell_type": "code",
   "execution_count": 22,
   "metadata": {},
   "outputs": [
    {
     "data": {
      "text/plain": [
       "['74', '10', '31', '26', '59', '16', '89', '\\n']"
      ]
     },
     "execution_count": 22,
     "metadata": {},
     "output_type": "execute_result"
    }
   ],
   "source": [
    "test.split(' ')\n",
    "#str을 split시키면 list로 형변환됨"
   ]
  },
  {
   "cell_type": "code",
   "execution_count": 23,
   "metadata": {
    "scrolled": true
   },
   "outputs": [
    {
     "name": "stdout",
     "output_type": "stream",
     "text": [
      "9 95 70 18 22 25 40 \n",
      "\n",
      "82 38 20 16 42 1 79 \n",
      "\n",
      "4 35 46 94 70 44 83 \n"
     ]
    }
   ],
   "source": [
    "while f1.readline():\n",
    "    test = f1.readline()\n",
    "    print(test)"
   ]
  },
  {
   "cell_type": "code",
   "execution_count": 26,
   "metadata": {},
   "outputs": [],
   "source": [
    "f1.close()"
   ]
  },
  {
   "cell_type": "code",
   "execution_count": 25,
   "metadata": {},
   "outputs": [],
   "source": [
    "f = open('./실습데이터/사과나무in1.txt', 'r')\n",
    "n = int(f.readline())"
   ]
  },
  {
   "cell_type": "code",
   "execution_count": 27,
   "metadata": {},
   "outputs": [],
   "source": [
    "a = [list(map(int, f.readline().split())) for _ in range(n)]"
   ]
  },
  {
   "cell_type": "code",
   "execution_count": 28,
   "metadata": {},
   "outputs": [
    {
     "data": {
      "text/plain": [
       "[[74, 10, 31, 26, 59, 16, 89],\n",
       " [78, 44, 49, 1, 64, 33, 15],\n",
       " [9, 95, 70, 18, 22, 25, 40],\n",
       " [62, 77, 28, 3, 78, 75, 23],\n",
       " [82, 38, 20, 16, 42, 1, 79],\n",
       " [1, 24, 2, 25, 95, 26, 79],\n",
       " [4, 35, 46, 94, 70, 44, 83]]"
      ]
     },
     "execution_count": 28,
     "metadata": {},
     "output_type": "execute_result"
    }
   ],
   "source": [
    "a"
   ]
  },
  {
   "cell_type": "code",
   "execution_count": 30,
   "metadata": {},
   "outputs": [
    {
     "ename": "SyntaxError",
     "evalue": "invalid syntax (<ipython-input-30-bceebf7f6b7b>, line 2)",
     "output_type": "error",
     "traceback": [
      "\u001b[1;36m  File \u001b[1;32m\"<ipython-input-30-bceebf7f6b7b>\"\u001b[1;36m, line \u001b[1;32m2\u001b[0m\n\u001b[1;33m    49 1 64\u001b[0m\n\u001b[1;37m       ^\u001b[0m\n\u001b[1;31mSyntaxError\u001b[0m\u001b[1;31m:\u001b[0m invalid syntax\n"
     ]
    }
   ],
   "source": [
    "26\n",
    "49 1 64\n",
    "95 70 18 22 25\n",
    "62, 77, 28, 3, 78, 75, 23\n",
    "38, 20, 16, 42, 1\n",
    "2, 25, 95\n",
    "94"
   ]
  },
  {
   "cell_type": "code",
   "execution_count": 50,
   "metadata": {},
   "outputs": [
    {
     "name": "stdout",
     "output_type": "stream",
     "text": [
      "7\n",
      "[26]\n",
      "[49, 1, 64]\n",
      "[95, 70, 18, 22, 25]\n",
      "[62, 77, 28, 3, 78, 75, 23]\n",
      "[38, 20, 16, 42, 1]\n",
      "[2, 25, 95]\n",
      "[94]\n",
      "1049\n"
     ]
    }
   ],
   "source": [
    "N = int(input())\n",
    "\n",
    "total = 0\n",
    "l,r = 0,0\n",
    "\n",
    "for i in range(N):\n",
    "    mid = N // 2\n",
    "    if i < mid:\n",
    "        print(a[i][mid-l:mid+1+r])\n",
    "        total += sum(a[i][mid-l:mid+1+r])\n",
    "        l += 1\n",
    "        r += 1\n",
    "    elif i == mid:\n",
    "        total += sum(a[i][:])\n",
    "        print(a[i][:])\n",
    "    else:\n",
    "        l -= 1\n",
    "        r -= 1\n",
    "        total += sum(a[i][mid-l:mid+r+1])\n",
    "        print(a[i][mid-l:mid+1+r])\n",
    "print(total)\n"
   ]
  },
  {
   "cell_type": "code",
   "execution_count": 52,
   "metadata": {},
   "outputs": [
    {
     "name": "stdout",
     "output_type": "stream",
     "text": [
      "1049\n"
     ]
    }
   ],
   "source": [
    "#선생님 방법\n",
    "\n",
    "sum = 0\n",
    "s=e=n//2\n",
    "for i in range(n):\n",
    "    for j in range(s,e+1):\n",
    "        sum += a[i][j]\n",
    "    if i < n//2:\n",
    "        s -= 1; e+= 1\n",
    "    else:\n",
    "        s += 1; e-=1\n",
    "print(sum)"
   ]
  },
  {
   "cell_type": "code",
   "execution_count": 53,
   "metadata": {},
   "outputs": [],
   "source": [
    "f.close()"
   ]
  },
  {
   "cell_type": "code",
   "execution_count": null,
   "metadata": {},
   "outputs": [],
   "source": []
  }
 ],
 "metadata": {
  "kernelspec": {
   "display_name": "Python 3",
   "language": "python",
   "name": "python3"
  },
  "language_info": {
   "codemirror_mode": {
    "name": "ipython",
    "version": 3
   },
   "file_extension": ".py",
   "mimetype": "text/x-python",
   "name": "python",
   "nbconvert_exporter": "python",
   "pygments_lexer": "ipython3",
   "version": "3.7.9"
  }
 },
 "nbformat": 4,
 "nbformat_minor": 4
}
