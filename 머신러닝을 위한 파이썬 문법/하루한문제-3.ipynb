{
 "cells": [
  {
   "cell_type": "code",
   "execution_count": 6,
   "metadata": {},
   "outputs": [],
   "source": [
    "from collections import deque"
   ]
  },
  {
   "cell_type": "code",
   "execution_count": 22,
   "metadata": {},
   "outputs": [],
   "source": [
    "a = deque(\"463+*8+\")"
   ]
  },
  {
   "cell_type": "code",
   "execution_count": 23,
   "metadata": {},
   "outputs": [
    {
     "data": {
      "text/plain": [
       "deque(['4', '6', '3', '+', '*', '8', '+'])"
      ]
     },
     "execution_count": 23,
     "metadata": {},
     "output_type": "execute_result"
    }
   ],
   "source": [
    "a"
   ]
  },
  {
   "cell_type": "code",
   "execution_count": 31,
   "metadata": {},
   "outputs": [],
   "source": [
    "def cal(op1,operator,op2):\n",
    "    if operator == \"+\":\n",
    "        return int(op1) + int(op2)\n",
    "    elif operator == \"-\":\n",
    "        return int(op1) - int(op2)\n",
    "    elif operator == \"*\":\n",
    "        return int(op1) * int(op2)"
   ]
  },
  {
   "cell_type": "code",
   "execution_count": 33,
   "metadata": {},
   "outputs": [
    {
     "name": "stdout",
     "output_type": "stream",
     "text": [
      "4 tmp\n",
      "['4'] num_list\n",
      "6 tmp\n",
      "['4', '6'] num_list\n",
      "3 tmp\n",
      "['4', '6', '3'] num_list\n",
      "6 3 op1과 op2\n",
      "9 deque(['*', '8', '+', 9]) res과 a\n"
     ]
    },
    {
     "ename": "IndexError",
     "evalue": "pop from empty list",
     "output_type": "error",
     "traceback": [
      "\u001b[1;31m---------------------------------------------------------------------------\u001b[0m",
      "\u001b[1;31mIndexError\u001b[0m                                Traceback (most recent call last)",
      "\u001b[1;32m<ipython-input-33-3d59c902dca4>\u001b[0m in \u001b[0;36m<module>\u001b[1;34m\u001b[0m\n\u001b[0;32m     10\u001b[0m     \u001b[1;32melif\u001b[0m \u001b[1;32mnot\u001b[0m \u001b[0mtmp\u001b[0m\u001b[1;33m.\u001b[0m\u001b[0misnumeric\u001b[0m\u001b[1;33m(\u001b[0m\u001b[1;33m)\u001b[0m\u001b[1;33m:\u001b[0m\u001b[1;33m\u001b[0m\u001b[1;33m\u001b[0m\u001b[0m\n\u001b[0;32m     11\u001b[0m         \u001b[0mop2\u001b[0m \u001b[1;33m=\u001b[0m \u001b[0mnum_list\u001b[0m\u001b[1;33m.\u001b[0m\u001b[0mpop\u001b[0m\u001b[1;33m(\u001b[0m\u001b[1;33m)\u001b[0m\u001b[1;33m\u001b[0m\u001b[1;33m\u001b[0m\u001b[0m\n\u001b[1;32m---> 12\u001b[1;33m         \u001b[0mop1\u001b[0m \u001b[1;33m=\u001b[0m \u001b[0mnum_list\u001b[0m\u001b[1;33m.\u001b[0m\u001b[0mpop\u001b[0m\u001b[1;33m(\u001b[0m\u001b[1;33m)\u001b[0m\u001b[1;33m\u001b[0m\u001b[1;33m\u001b[0m\u001b[0m\n\u001b[0m\u001b[0;32m     13\u001b[0m         \u001b[0mprint\u001b[0m\u001b[1;33m(\u001b[0m\u001b[0mop1\u001b[0m\u001b[1;33m,\u001b[0m \u001b[0mop2\u001b[0m\u001b[1;33m,\u001b[0m \u001b[1;34m\"op1과 op2\"\u001b[0m\u001b[1;33m)\u001b[0m\u001b[1;33m\u001b[0m\u001b[1;33m\u001b[0m\u001b[0m\n\u001b[0;32m     14\u001b[0m         \u001b[0mres\u001b[0m \u001b[1;33m=\u001b[0m \u001b[0mcal\u001b[0m\u001b[1;33m(\u001b[0m\u001b[0mop1\u001b[0m\u001b[1;33m,\u001b[0m\u001b[0mtmp\u001b[0m\u001b[1;33m,\u001b[0m\u001b[0mop2\u001b[0m\u001b[1;33m)\u001b[0m\u001b[1;33m\u001b[0m\u001b[1;33m\u001b[0m\u001b[0m\n",
      "\u001b[1;31mIndexError\u001b[0m: pop from empty list"
     ]
    }
   ],
   "source": [
    "a = deque(\"463+*8+\")\n",
    "num_list = []\n",
    "res = 0\n",
    "while a:\n",
    "    tmp = a.popleft()\n",
    "    if tmp.isdigit():\n",
    "        print(tmp, \"tmp\")\n",
    "        num_list.append(tmp)\n",
    "        print(num_list,\"num_list\")\n",
    "    elif not tmp.isnumeric():\n",
    "        op2 = num_list.pop()\n",
    "        op1 = num_list.pop()\n",
    "        print(op1, op2, \"op1과 op2\")\n",
    "        res = cal(op1,tmp,op2)\n",
    "        a.append(res)\n",
    "        print(res,a, \"res과 a\")\n",
    "print(res)"
   ]
  },
  {
   "cell_type": "code",
   "execution_count": 38,
   "metadata": {},
   "outputs": [],
   "source": [
    "def func(number):\n",
    "    s = []\n",
    "    for i in number:\n",
    "        if i.isdecimal():\n",
    "            s.append(int(i))\n",
    "        else:\n",
    "            if i == \"+\":\n",
    "                n1 = s.pop()\n",
    "                n2 = s.pop()\n",
    "                s.append(n1 + n2)\n",
    "            elif i == \"*\":\n",
    "                n1 = s.pop()\n",
    "                n2 = s.pop()\n",
    "                s.append(n1 * n2)\n",
    "            elif i == \"-\":\n",
    "                n1 = s.pop()\n",
    "                n2 = s.pop()\n",
    "                s.append(n1 - n2)\n",
    "    return s"
   ]
  },
  {
   "cell_type": "code",
   "execution_count": 39,
   "metadata": {},
   "outputs": [
    {
     "data": {
      "text/plain": [
       "[44]"
      ]
     },
     "execution_count": 39,
     "metadata": {},
     "output_type": "execute_result"
    }
   ],
   "source": [
    "func(\"463+*8+\")"
   ]
  },
  {
   "cell_type": "code",
   "execution_count": null,
   "metadata": {},
   "outputs": [],
   "source": []
  },
  {
   "cell_type": "code",
   "execution_count": null,
   "metadata": {},
   "outputs": [],
   "source": []
  },
  {
   "cell_type": "code",
   "execution_count": null,
   "metadata": {},
   "outputs": [],
   "source": []
  },
  {
   "cell_type": "code",
   "execution_count": 1,
   "metadata": {},
   "outputs": [
    {
     "ename": "SyntaxError",
     "evalue": "unexpected EOF while parsing (<ipython-input-1-991d5c218f10>, line 2)",
     "output_type": "error",
     "traceback": [
      "\u001b[1;36m  File \u001b[1;32m\"<ipython-input-1-991d5c218f10>\"\u001b[1;36m, line \u001b[1;32m2\u001b[0m\n\u001b[1;33m    \u001b[0m\n\u001b[1;37m    ^\u001b[0m\n\u001b[1;31mSyntaxError\u001b[0m\u001b[1;31m:\u001b[0m unexpected EOF while parsing\n"
     ]
    }
   ],
   "source": [
    "def func(number):\n",
    "    a = []\n",
    "    for x in number:\n",
    "        if x.isdigit():\n",
    "            a.append(x)\n",
    "        else:\n",
    "            if x == \"+\":\n",
    "                op1 = a.pop()\n",
    "                op2 = a.pop()\n",
    "                a.append(op1 + op2)\n",
    "            elif x == \"*\":\n",
    "                op1 = a.pop()\n",
    "                op2 = a.pop()\n",
    "            \n",
    "    return"
   ]
  },
  {
   "cell_type": "code",
   "execution_count": null,
   "metadata": {},
   "outputs": [],
   "source": [
    "func(\"463+*8+\")"
   ]
  }
 ],
 "metadata": {
  "kernelspec": {
   "display_name": "Python 3",
   "language": "python",
   "name": "python3"
  },
  "language_info": {
   "codemirror_mode": {
    "name": "ipython",
    "version": 3
   },
   "file_extension": ".py",
   "mimetype": "text/x-python",
   "name": "python",
   "nbconvert_exporter": "python",
   "pygments_lexer": "ipython3",
   "version": "3.8.3"
  }
 },
 "nbformat": 4,
 "nbformat_minor": 4
}
