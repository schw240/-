{
 "cells": [
  {
   "cell_type": "code",
   "execution_count": 11,
   "metadata": {},
   "outputs": [],
   "source": [
    "def solution(answer):\n",
    "    p1 = [1,2,3,4,5]\n",
    "    p2 = [2,1,2,3,2,4,2,5]\n",
    "    p3 = [3,3,1,1,2,2,4,4,5,5]\n",
    "    cnt1, cnt2, cnt3 = 0,0,0\n",
    "    res = []\n",
    "    for i in range(len(answer)):\n",
    "        if answer[i] == p1[i]:\n",
    "            cnt1 += 1\n",
    "        if answer[i] == p2[i]:\n",
    "            cnt2 += 1\n",
    "        if answer[i] == p3[i]:\n",
    "            cnt3 += 1\n",
    "    #print(cnt1, cnt2, cnt3)\n",
    "    if cnt1 == cnt2 and cnt2 == cnt3:\n",
    "        res.append(1)\n",
    "        res.append(2)\n",
    "        res.append(3)\n",
    "    elif max(cnt1,cnt2,cnt3) == cnt1:\n",
    "        res.append(1)\n",
    "    elif max(cnt1,cnt2,cnt3) == cnt2:\n",
    "        res.append(2)\n",
    "    elif max(cnt1,cnt2,cnt3) == cnt3:\n",
    "        res.append(3)\n",
    "        \n",
    "    return res"
   ]
  },
  {
   "cell_type": "code",
   "execution_count": 12,
   "metadata": {},
   "outputs": [
    {
     "data": {
      "text/plain": [
       "[1]"
      ]
     },
     "execution_count": 12,
     "metadata": {},
     "output_type": "execute_result"
    }
   ],
   "source": [
    "#solution([1,3,2,4,2])\n",
    "\n",
    "solution([1,2,3,4,5])"
   ]
  },
  {
   "cell_type": "code",
   "execution_count": 39,
   "metadata": {},
   "outputs": [],
   "source": [
    "def f_number(num):\n",
    "    if num == 0:\n",
    "        return\n",
    "    print(num, 11111)\n",
    "    f_number(int(num / 10))\n",
    "    print(num, 22222)\n",
    "    print('aaaaaaaaaaaaa')\n",
    "    print(num % 10)"
   ]
  },
  {
   "cell_type": "code",
   "execution_count": 40,
   "metadata": {},
   "outputs": [
    {
     "name": "stdout",
     "output_type": "stream",
     "text": [
      "1234 11111\n",
      "123 11111\n",
      "12 11111\n",
      "1 11111\n",
      "1 22222\n",
      "aaaaaaaaaaaaa\n",
      "1\n",
      "12 22222\n",
      "aaaaaaaaaaaaa\n",
      "2\n",
      "123 22222\n",
      "aaaaaaaaaaaaa\n",
      "3\n",
      "1234 22222\n",
      "aaaaaaaaaaaaa\n",
      "4\n"
     ]
    }
   ],
   "source": [
    "f_number(1234)"
   ]
  },
  {
   "cell_type": "code",
   "execution_count": 26,
   "metadata": {},
   "outputs": [
    {
     "data": {
      "text/plain": [
       "369"
      ]
     },
     "execution_count": 26,
     "metadata": {},
     "output_type": "execute_result"
    }
   ],
   "source": [
    "1234//10*(3)"
   ]
  },
  {
   "cell_type": "code",
   "execution_count": 19,
   "metadata": {},
   "outputs": [
    {
     "data": {
      "text/plain": [
       "'1'"
      ]
     },
     "execution_count": 19,
     "metadata": {},
     "output_type": "execute_result"
    }
   ],
   "source": [
    "a2"
   ]
  },
  {
   "cell_type": "code",
   "execution_count": 16,
   "metadata": {},
   "outputs": [
    {
     "data": {
      "text/plain": [
       "int"
      ]
     },
     "execution_count": 16,
     "metadata": {},
     "output_type": "execute_result"
    }
   ],
   "source": [
    "type(a)"
   ]
  },
  {
   "cell_type": "code",
   "execution_count": null,
   "metadata": {},
   "outputs": [],
   "source": []
  }
 ],
 "metadata": {
  "kernelspec": {
   "display_name": "Python 3",
   "language": "python",
   "name": "python3"
  },
  "language_info": {
   "codemirror_mode": {
    "name": "ipython",
    "version": 3
   },
   "file_extension": ".py",
   "mimetype": "text/x-python",
   "name": "python",
   "nbconvert_exporter": "python",
   "pygments_lexer": "ipython3",
   "version": "3.8.3"
  }
 },
 "nbformat": 4,
 "nbformat_minor": 4
}
