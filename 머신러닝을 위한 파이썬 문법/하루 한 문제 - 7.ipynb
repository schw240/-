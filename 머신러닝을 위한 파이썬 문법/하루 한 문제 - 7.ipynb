{
 "cells": [
  {
   "cell_type": "code",
   "execution_count": 18,
   "metadata": {},
   "outputs": [],
   "source": [
    "#지도는 한변의 길이가 n, 각칸은 공백 \" \" 또는 벽 #\n",
    "#벽부분은 1, 공백부분은 0\n",
    "#암호화된 배열은 이진수\n",
    "def solution(n, arr1, arr2):\n",
    "    answer = []\n",
    "    for a1, a2 in zip(arr1, arr2):   \n",
    "        a = str(bin(a1 | a2)).replace(\"0b\",\"\").zfill(6).replace(\"0\",\" \").replace(\"1\",\"#\")\n",
    "        answer.append(a)\n",
    "\n",
    "    return answer"
   ]
  },
  {
   "cell_type": "code",
   "execution_count": 19,
   "metadata": {},
   "outputs": [
    {
     "data": {
      "text/plain": [
       "['######', '###  #', '##  ##', ' #### ', ' #####', '### # ']"
      ]
     },
     "execution_count": 19,
     "metadata": {},
     "output_type": "execute_result"
    }
   ],
   "source": [
    "solution(6,[46,33,33,22,31,50],[27,56,19,14,14,10])"
   ]
  },
  {
   "cell_type": "code",
   "execution_count": null,
   "metadata": {},
   "outputs": [],
   "source": []
  }
 ],
 "metadata": {
  "kernelspec": {
   "display_name": "Python 3",
   "language": "python",
   "name": "python3"
  },
  "language_info": {
   "codemirror_mode": {
    "name": "ipython",
    "version": 3
   },
   "file_extension": ".py",
   "mimetype": "text/x-python",
   "name": "python",
   "nbconvert_exporter": "python",
   "pygments_lexer": "ipython3",
   "version": "3.8.3"
  }
 },
 "nbformat": 4,
 "nbformat_minor": 4
}
