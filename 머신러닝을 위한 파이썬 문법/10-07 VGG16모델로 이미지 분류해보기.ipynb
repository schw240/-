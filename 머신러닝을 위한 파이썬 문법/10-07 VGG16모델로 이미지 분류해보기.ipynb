{
 "cells": [
  {
   "cell_type": "code",
   "execution_count": 1,
   "metadata": {},
   "outputs": [],
   "source": [
    "import tensorflow as tf"
   ]
  },
  {
   "cell_type": "code",
   "execution_count": 2,
   "metadata": {},
   "outputs": [],
   "source": [
    "from tensorflow.keras.applications.vgg16 import VGG16\n",
    "from tensorflow.keras.preprocessing import image\n",
    "from tensorflow.keras.applications.vgg16 import preprocess_input, decode_predictions\n",
    "import numpy as np\n",
    "import os\n",
    "import glob"
   ]
  },
  {
   "cell_type": "code",
   "execution_count": 3,
   "metadata": {},
   "outputs": [],
   "source": [
    "import sys\n",
    "from PIL import Image\n",
    "sys.modules['Image'] = Image "
   ]
  },
  {
   "cell_type": "code",
   "execution_count": 4,
   "metadata": {},
   "outputs": [],
   "source": [
    "model = VGG16()"
   ]
  },
  {
   "cell_type": "code",
   "execution_count": 5,
   "metadata": {},
   "outputs": [],
   "source": [
    "img_path='./이미지'"
   ]
  },
  {
   "cell_type": "code",
   "execution_count": 6,
   "metadata": {},
   "outputs": [],
   "source": [
    "# for filename in glob.glob(os.path.join(img_path, '*.*')):\n",
    "filenames = glob.glob(os.path.join(img_path, '*.*'))"
   ]
  },
  {
   "cell_type": "code",
   "execution_count": 7,
   "metadata": {
    "scrolled": true
   },
   "outputs": [
    {
     "name": "stdout",
     "output_type": "stream",
     "text": [
      "Downloading data from https://storage.googleapis.com/download.tensorflow.org/data/imagenet_class_index.json\n",
      "40960/35363 [==================================] - 0s 0us/step\n",
      "./이미지\\10.jpg을 web_site으로 분류 하였고, 확률은 0.2730781137943268% 입니다.\n",
      "./이미지\\11.png을 street_sign으로 분류 하였고, 확률은 0.15884728729724884% 입니다.\n",
      "./이미지\\12.jpg을 running_shoe으로 분류 하였고, 확률은 0.9968596696853638% 입니다.\n",
      "./이미지\\2.jpg을 piggy_bank으로 분류 하였고, 확률은 0.6373422145843506% 입니다.\n",
      "./이미지\\3.jpg을 hummingbird으로 분류 하였고, 확률은 0.3358580470085144% 입니다.\n",
      "./이미지\\4.jpg을 triceratops으로 분류 하였고, 확률은 0.4933229684829712% 입니다.\n",
      "./이미지\\5.jpeg을 notebook으로 분류 하였고, 확률은 0.26790302991867065% 입니다.\n",
      "./이미지\\6.jpg을 lighter으로 분류 하였고, 확률은 0.2917584776878357% 입니다.\n",
      "./이미지\\7.jpeg을 pinwheel으로 분류 하였고, 확률은 0.6513065099716187% 입니다.\n",
      "./이미지\\8.jpeg을 shower_curtain으로 분류 하였고, 확률은 0.3195119798183441% 입니다.\n",
      "./이미지\\9.jpg을 shower_curtain으로 분류 하였고, 확률은 0.2343190461397171% 입니다.\n",
      "./이미지\\개.jpeg을 French_bulldog으로 분류 하였고, 확률은 0.8638313412666321% 입니다.\n",
      "./이미지\\두리안.jpeg을 nematode으로 분류 하였고, 확률은 0.2684425413608551% 입니다.\n",
      "./이미지\\바나나.jpeg을 nipple으로 분류 하였고, 확률은 0.9001739025115967% 입니다.\n",
      "./이미지\\사과.jpeg을 Granny_Smith으로 분류 하였고, 확률은 0.9251704216003418% 입니다.\n",
      "./이미지\\수박.jpg을 croquet_ball으로 분류 하였고, 확률은 0.4258042275905609% 입니다.\n",
      "./이미지\\카레.jpg을 shower_cap으로 분류 하였고, 확률은 0.8573597073554993% 입니다.\n",
      "./이미지\\토마호크.jpg을 tray으로 분류 하였고, 확률은 0.6057116389274597% 입니다.\n"
     ]
    }
   ],
   "source": [
    "for filename in filenames: \n",
    "    img = image.load_img(filename, target_size=(224,224))\n",
    "    X = image.img_to_array(img)\n",
    "    X=np.expand_dims(X, axis=0)\n",
    "    features = model.predict(X)\n",
    "    label = decode_predictions(features)\n",
    "    print('{}을 {}으로 분류 하였고, 확률은 {}% 입니다.'.format(filename, label[0][0][1], label[0][0][2]))"
   ]
  },
  {
   "cell_type": "code",
   "execution_count": null,
   "metadata": {},
   "outputs": [],
   "source": []
  }
 ],
 "metadata": {
  "kernelspec": {
   "display_name": "Python 3",
   "language": "python",
   "name": "python3"
  },
  "language_info": {
   "codemirror_mode": {
    "name": "ipython",
    "version": 3
   },
   "file_extension": ".py",
   "mimetype": "text/x-python",
   "name": "python",
   "nbconvert_exporter": "python",
   "pygments_lexer": "ipython3",
   "version": "3.7.9"
  }
 },
 "nbformat": 4,
 "nbformat_minor": 4
}
