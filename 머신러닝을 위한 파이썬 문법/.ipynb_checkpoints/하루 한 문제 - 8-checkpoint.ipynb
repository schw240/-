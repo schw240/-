{
 "cells": [
  {
   "cell_type": "code",
   "execution_count": 14,
   "metadata": {},
   "outputs": [],
   "source": [
    "#앞 뒤만 빌려줄수 있음\n",
    "#학생수 n, 체육복을 도난당한 학생들의 번호 배열 lost\n",
    "#여벌 체육복을 가진 학생들의 번호가 담긴 배열 reverse\n",
    "#체육 수업을 들을 수 있는 학생의 최대값 return\n",
    "def solution(n, lost, reverse):\n",
    "    print(set(lost), \"lost set\")\n",
    "    print(set(reverse), \"reverse set\")\n",
    "    set_reverse = set(reverse) - set(lost)\n",
    "    set_lost = set(lost) - set(reverse)\n",
    "    print(set(lost), \"lost set 차집합\")\n",
    "    print(set(reverse), \"reverse set 차집합\")\n",
    "    for i in set_reverse:\n",
    "        print(i,\"set_reverse안에 있는 i\")\n",
    "        if i-1 in set_lost:\n",
    "            set_lost.remove(i-1)\n",
    "        elif i+1 in set_lost:\n",
    "            set_lost.remove(i+1)\n",
    "    return n - len(set_lost)"
   ]
  },
  {
   "cell_type": "code",
   "execution_count": 15,
   "metadata": {},
   "outputs": [
    {
     "name": "stdout",
     "output_type": "stream",
     "text": [
      "{3} lost set\n",
      "{1} reverse set\n",
      "{3} lost set 차집합\n",
      "{1} reverse set 차집합\n",
      "1 set_reverse안에 있는 i\n"
     ]
    },
    {
     "data": {
      "text/plain": [
       "2"
      ]
     },
     "execution_count": 15,
     "metadata": {},
     "output_type": "execute_result"
    }
   ],
   "source": [
    "solution(3,[3],[1])"
   ]
  },
  {
   "cell_type": "code",
   "execution_count": null,
   "metadata": {},
   "outputs": [],
   "source": []
  },
  {
   "cell_type": "code",
   "execution_count": null,
   "metadata": {},
   "outputs": [],
   "source": []
  }
 ],
 "metadata": {
  "kernelspec": {
   "display_name": "Python 3",
   "language": "python",
   "name": "python3"
  },
  "language_info": {
   "codemirror_mode": {
    "name": "ipython",
    "version": 3
   },
   "file_extension": ".py",
   "mimetype": "text/x-python",
   "name": "python",
   "nbconvert_exporter": "python",
   "pygments_lexer": "ipython3",
   "version": "3.8.3"
  }
 },
 "nbformat": 4,
 "nbformat_minor": 4
}
