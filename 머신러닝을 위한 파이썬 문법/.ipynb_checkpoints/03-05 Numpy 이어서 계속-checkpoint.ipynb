{
 "cells": [
  {
   "cell_type": "code",
   "execution_count": 1,
   "metadata": {},
   "outputs": [
    {
     "ename": "TypeError",
     "evalue": "'float' object cannot be interpreted as an integer",
     "output_type": "error",
     "traceback": [
      "\u001b[1;31m---------------------------------------------------------------------------\u001b[0m",
      "\u001b[1;31mTypeError\u001b[0m                                 Traceback (most recent call last)",
      "\u001b[1;32m<ipython-input-1-c17d86c17962>\u001b[0m in \u001b[0;36m<module>\u001b[1;34m\u001b[0m\n\u001b[1;32m----> 1\u001b[1;33m \u001b[1;32mfor\u001b[0m \u001b[0mi\u001b[0m \u001b[1;32min\u001b[0m \u001b[0mrange\u001b[0m\u001b[1;33m(\u001b[0m\u001b[1;36m1\u001b[0m\u001b[1;33m,\u001b[0m\u001b[1;36m3\u001b[0m\u001b[1;33m,\u001b[0m\u001b[1;36m0.1\u001b[0m\u001b[1;33m)\u001b[0m\u001b[1;33m:\u001b[0m\u001b[1;33m\u001b[0m\u001b[1;33m\u001b[0m\u001b[0m\n\u001b[0m\u001b[0;32m      2\u001b[0m     \u001b[0mprint\u001b[0m\u001b[1;33m(\u001b[0m\u001b[0mi\u001b[0m\u001b[1;33m)\u001b[0m\u001b[1;33m\u001b[0m\u001b[1;33m\u001b[0m\u001b[0m\n",
      "\u001b[1;31mTypeError\u001b[0m: 'float' object cannot be interpreted as an integer"
     ]
    }
   ],
   "source": [
    "for i in range(1,3,0.1):\n",
    "    print(i)"
   ]
  },
  {
   "cell_type": "code",
   "execution_count": 2,
   "metadata": {},
   "outputs": [],
   "source": [
    "import numpy as np"
   ]
  },
  {
   "cell_type": "code",
   "execution_count": 3,
   "metadata": {},
   "outputs": [],
   "source": [
    "x = np.arange(1,10, 0.1).reshape(10,-1)"
   ]
  },
  {
   "cell_type": "code",
   "execution_count": 4,
   "metadata": {},
   "outputs": [
    {
     "data": {
      "text/plain": [
       "array([[1. , 1.1, 1.2, 1.3, 1.4, 1.5, 1.6, 1.7, 1.8],\n",
       "       [1.9, 2. , 2.1, 2.2, 2.3, 2.4, 2.5, 2.6, 2.7],\n",
       "       [2.8, 2.9, 3. , 3.1, 3.2, 3.3, 3.4, 3.5, 3.6],\n",
       "       [3.7, 3.8, 3.9, 4. , 4.1, 4.2, 4.3, 4.4, 4.5],\n",
       "       [4.6, 4.7, 4.8, 4.9, 5. , 5.1, 5.2, 5.3, 5.4],\n",
       "       [5.5, 5.6, 5.7, 5.8, 5.9, 6. , 6.1, 6.2, 6.3],\n",
       "       [6.4, 6.5, 6.6, 6.7, 6.8, 6.9, 7. , 7.1, 7.2],\n",
       "       [7.3, 7.4, 7.5, 7.6, 7.7, 7.8, 7.9, 8. , 8.1],\n",
       "       [8.2, 8.3, 8.4, 8.5, 8.6, 8.7, 8.8, 8.9, 9. ],\n",
       "       [9.1, 9.2, 9.3, 9.4, 9.5, 9.6, 9.7, 9.8, 9.9]])"
      ]
     },
     "execution_count": 4,
     "metadata": {},
     "output_type": "execute_result"
    }
   ],
   "source": [
    "x"
   ]
  },
  {
   "cell_type": "code",
   "execution_count": 6,
   "metadata": {},
   "outputs": [
    {
     "data": {
      "text/plain": [
       "(10, 9)"
      ]
     },
     "execution_count": 6,
     "metadata": {},
     "output_type": "execute_result"
    }
   ],
   "source": [
    "x.shape"
   ]
  },
  {
   "cell_type": "code",
   "execution_count": 7,
   "metadata": {},
   "outputs": [],
   "source": [
    "ar = np.random.random((2,2,4))"
   ]
  },
  {
   "cell_type": "code",
   "execution_count": 8,
   "metadata": {},
   "outputs": [
    {
     "data": {
      "text/plain": [
       "array([[[0.43816926, 0.88619645, 0.02803399, 0.73910732],\n",
       "        [0.88790762, 0.2312318 , 0.19127214, 0.13604803]],\n",
       "\n",
       "       [[0.98987541, 0.59550118, 0.41317231, 0.46395074],\n",
       "        [0.57901328, 0.85675966, 0.24585778, 0.76128374]]])"
      ]
     },
     "execution_count": 8,
     "metadata": {},
     "output_type": "execute_result"
    }
   ],
   "source": [
    "ar"
   ]
  },
  {
   "cell_type": "code",
   "execution_count": 26,
   "metadata": {},
   "outputs": [],
   "source": [
    "np.random.seed(42)\n",
    "x = np.random.random(size=(3,5,6))"
   ]
  },
  {
   "cell_type": "code",
   "execution_count": 27,
   "metadata": {},
   "outputs": [
    {
     "data": {
      "text/plain": [
       "72"
      ]
     },
     "execution_count": 27,
     "metadata": {},
     "output_type": "execute_result"
    }
   ],
   "source": [
    "np.argmin(x)"
   ]
  },
  {
   "cell_type": "code",
   "execution_count": 28,
   "metadata": {},
   "outputs": [
    {
     "data": {
      "text/plain": [
       "69"
      ]
     },
     "execution_count": 28,
     "metadata": {},
     "output_type": "execute_result"
    }
   ],
   "source": [
    "np.argmax(x)"
   ]
  },
  {
   "cell_type": "code",
   "execution_count": 29,
   "metadata": {},
   "outputs": [
    {
     "data": {
      "text/plain": [
       "array([[[0.37454012, 0.95071431, 0.73199394, 0.59865848, 0.15601864,\n",
       "         0.15599452],\n",
       "        [0.05808361, 0.86617615, 0.60111501, 0.70807258, 0.02058449,\n",
       "         0.96990985],\n",
       "        [0.83244264, 0.21233911, 0.18182497, 0.18340451, 0.30424224,\n",
       "         0.52475643],\n",
       "        [0.43194502, 0.29122914, 0.61185289, 0.13949386, 0.29214465,\n",
       "         0.36636184],\n",
       "        [0.45606998, 0.78517596, 0.19967378, 0.51423444, 0.59241457,\n",
       "         0.04645041]],\n",
       "\n",
       "       [[0.60754485, 0.17052412, 0.06505159, 0.94888554, 0.96563203,\n",
       "         0.80839735],\n",
       "        [0.30461377, 0.09767211, 0.68423303, 0.44015249, 0.12203823,\n",
       "         0.49517691],\n",
       "        [0.03438852, 0.9093204 , 0.25877998, 0.66252228, 0.31171108,\n",
       "         0.52006802],\n",
       "        [0.54671028, 0.18485446, 0.96958463, 0.77513282, 0.93949894,\n",
       "         0.89482735],\n",
       "        [0.59789998, 0.92187424, 0.0884925 , 0.19598286, 0.04522729,\n",
       "         0.32533033]],\n",
       "\n",
       "       [[0.38867729, 0.27134903, 0.82873751, 0.35675333, 0.28093451,\n",
       "         0.54269608],\n",
       "        [0.14092422, 0.80219698, 0.07455064, 0.98688694, 0.77224477,\n",
       "         0.19871568],\n",
       "        [0.00552212, 0.81546143, 0.70685734, 0.72900717, 0.77127035,\n",
       "         0.07404465],\n",
       "        [0.35846573, 0.11586906, 0.86310343, 0.62329813, 0.33089802,\n",
       "         0.06355835],\n",
       "        [0.31098232, 0.32518332, 0.72960618, 0.63755747, 0.88721274,\n",
       "         0.47221493]]])"
      ]
     },
     "execution_count": 29,
     "metadata": {},
     "output_type": "execute_result"
    }
   ],
   "source": [
    "x"
   ]
  },
  {
   "cell_type": "code",
   "execution_count": 33,
   "metadata": {},
   "outputs": [],
   "source": [
    "a = np.arange(1,9).reshape(-1,2)\n",
    "b = np.arange(1,9).reshape(2,-1)"
   ]
  },
  {
   "cell_type": "code",
   "execution_count": 34,
   "metadata": {},
   "outputs": [
    {
     "data": {
      "text/plain": [
       "array([[1, 2],\n",
       "       [3, 4],\n",
       "       [5, 6],\n",
       "       [7, 8]])"
      ]
     },
     "execution_count": 34,
     "metadata": {},
     "output_type": "execute_result"
    }
   ],
   "source": [
    "a"
   ]
  },
  {
   "cell_type": "code",
   "execution_count": 35,
   "metadata": {},
   "outputs": [
    {
     "data": {
      "text/plain": [
       "array([[1, 2, 3, 4],\n",
       "       [5, 6, 7, 8]])"
      ]
     },
     "execution_count": 35,
     "metadata": {},
     "output_type": "execute_result"
    }
   ],
   "source": [
    "b"
   ]
  },
  {
   "cell_type": "code",
   "execution_count": 36,
   "metadata": {},
   "outputs": [
    {
     "ename": "ValueError",
     "evalue": "operands could not be broadcast together with shapes (4,2) (2,4) ",
     "output_type": "error",
     "traceback": [
      "\u001b[1;31m---------------------------------------------------------------------------\u001b[0m",
      "\u001b[1;31mValueError\u001b[0m                                Traceback (most recent call last)",
      "\u001b[1;32m<ipython-input-36-8ce765dcfa30>\u001b[0m in \u001b[0;36m<module>\u001b[1;34m\u001b[0m\n\u001b[1;32m----> 1\u001b[1;33m \u001b[0ma\u001b[0m\u001b[1;33m*\u001b[0m\u001b[0mb\u001b[0m\u001b[1;33m\u001b[0m\u001b[1;33m\u001b[0m\u001b[0m\n\u001b[0m",
      "\u001b[1;31mValueError\u001b[0m: operands could not be broadcast together with shapes (4,2) (2,4) "
     ]
    }
   ],
   "source": [
    "a*b"
   ]
  },
  {
   "cell_type": "code",
   "execution_count": 37,
   "metadata": {},
   "outputs": [
    {
     "data": {
      "text/plain": [
       "array([[11, 14, 17, 20],\n",
       "       [23, 30, 37, 44],\n",
       "       [35, 46, 57, 68],\n",
       "       [47, 62, 77, 92]])"
      ]
     },
     "execution_count": 37,
     "metadata": {},
     "output_type": "execute_result"
    }
   ],
   "source": [
    "a@b"
   ]
  },
  {
   "cell_type": "code",
   "execution_count": 38,
   "metadata": {},
   "outputs": [
    {
     "data": {
      "text/plain": [
       "array([[11, 14, 17, 20],\n",
       "       [23, 30, 37, 44],\n",
       "       [35, 46, 57, 68],\n",
       "       [47, 62, 77, 92]])"
      ]
     },
     "execution_count": 38,
     "metadata": {},
     "output_type": "execute_result"
    }
   ],
   "source": [
    "np.dot(a,b)"
   ]
  },
  {
   "cell_type": "code",
   "execution_count": 42,
   "metadata": {},
   "outputs": [],
   "source": [
    "x = np.array([[3,2,-1],[0,2,4]])\n",
    "y = np.array([[2,2],[3,4],[5,1]])"
   ]
  },
  {
   "cell_type": "code",
   "execution_count": 43,
   "metadata": {},
   "outputs": [
    {
     "data": {
      "text/plain": [
       "array([[ 7, 13],\n",
       "       [26, 12]])"
      ]
     },
     "execution_count": 43,
     "metadata": {},
     "output_type": "execute_result"
    }
   ],
   "source": [
    "np.dot(x,y)"
   ]
  },
  {
   "cell_type": "code",
   "execution_count": 44,
   "metadata": {},
   "outputs": [],
   "source": [
    "a = np.array([[1,9],[3,4],[2,4]])\n",
    "b = np.array([[1,4,-1],[7,1,4]])"
   ]
  },
  {
   "cell_type": "code",
   "execution_count": 45,
   "metadata": {},
   "outputs": [
    {
     "data": {
      "text/plain": [
       "array([[64, 13, 35],\n",
       "       [31, 16, 13],\n",
       "       [30, 12, 14]])"
      ]
     },
     "execution_count": 45,
     "metadata": {},
     "output_type": "execute_result"
    }
   ],
   "source": [
    "np.dot(a,b)"
   ]
  },
  {
   "cell_type": "code",
   "execution_count": null,
   "metadata": {},
   "outputs": [],
   "source": []
  }
 ],
 "metadata": {
  "kernelspec": {
   "display_name": "Python 3",
   "language": "python",
   "name": "python3"
  },
  "language_info": {
   "codemirror_mode": {
    "name": "ipython",
    "version": 3
   },
   "file_extension": ".py",
   "mimetype": "text/x-python",
   "name": "python",
   "nbconvert_exporter": "python",
   "pygments_lexer": "ipython3",
   "version": "3.7.4"
  }
 },
 "nbformat": 4,
 "nbformat_minor": 4
}
