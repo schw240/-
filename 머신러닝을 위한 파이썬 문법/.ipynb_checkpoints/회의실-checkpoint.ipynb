{
 "cells": [
  {
   "cell_type": "code",
   "execution_count": 35,
   "metadata": {},
   "outputs": [],
   "source": [
    "f = open('./실습데이터/회의실in1.txt', 'r')\n",
    "n = int(f.readline())\n",
    "a = [list(map(int, f.readline().split())) for _ in range(n)]"
   ]
  },
  {
   "cell_type": "code",
   "execution_count": 36,
   "metadata": {},
   "outputs": [
    {
     "data": {
      "text/plain": [
       "20"
      ]
     },
     "execution_count": 36,
     "metadata": {},
     "output_type": "execute_result"
    }
   ],
   "source": [
    "n"
   ]
  },
  {
   "cell_type": "code",
   "execution_count": 37,
   "metadata": {},
   "outputs": [
    {
     "data": {
      "text/plain": [
       "[[18, 19],\n",
       " [2, 20],\n",
       " [4, 21],\n",
       " [2, 22],\n",
       " [12, 15],\n",
       " [12, 23],\n",
       " [2, 8],\n",
       " [5, 20],\n",
       " [22, 23],\n",
       " [1, 5],\n",
       " [13, 21],\n",
       " [16, 20],\n",
       " [9, 19],\n",
       " [5, 9],\n",
       " [14, 20],\n",
       " [16, 22],\n",
       " [11, 12],\n",
       " [4, 16],\n",
       " [21, 23],\n",
       " [11, 13]]"
      ]
     },
     "execution_count": 37,
     "metadata": {},
     "output_type": "execute_result"
    }
   ],
   "source": [
    "a"
   ]
  },
  {
   "cell_type": "code",
   "execution_count": 38,
   "metadata": {},
   "outputs": [],
   "source": [
    "a.sort(key=lambda x:x[0])"
   ]
  },
  {
   "cell_type": "code",
   "execution_count": 39,
   "metadata": {},
   "outputs": [
    {
     "name": "stdout",
     "output_type": "stream",
     "text": [
      "[[1, 5], [2, 20], [2, 22], [2, 8], [4, 21], [4, 16], [5, 20], [5, 9], [9, 19], [11, 12], [11, 13], [12, 15], [12, 23], [13, 21], [14, 20], [16, 20], [16, 22], [18, 19], [21, 23], [22, 23]]\n"
     ]
    }
   ],
   "source": [
    "print(a)"
   ]
  },
  {
   "cell_type": "code",
   "execution_count": 40,
   "metadata": {},
   "outputs": [],
   "source": [
    "#시작시간 , 종료시간\n",
    "start_time = sorted(a, key=lambda x:x[0])\n",
    "end_time = sorted(a, key=lambda x:x[1])"
   ]
  },
  {
   "cell_type": "code",
   "execution_count": null,
   "metadata": {},
   "outputs": [],
   "source": []
  },
  {
   "cell_type": "code",
   "execution_count": 34,
   "metadata": {},
   "outputs": [
    {
     "data": {
      "text/plain": [
       "[[1, 5],\n",
       " [2, 8],\n",
       " [5, 9],\n",
       " [11, 12],\n",
       " [11, 13],\n",
       " [12, 15],\n",
       " [4, 16],\n",
       " [9, 19],\n",
       " [18, 19],\n",
       " [2, 20],\n",
       " [5, 20],\n",
       " [14, 20],\n",
       " [16, 20],\n",
       " [4, 21],\n",
       " [13, 21],\n",
       " [2, 22],\n",
       " [16, 22],\n",
       " [12, 23],\n",
       " [21, 23],\n",
       " [22, 23]]"
      ]
     },
     "execution_count": 34,
     "metadata": {},
     "output_type": "execute_result"
    }
   ],
   "source": [
    "cnt = 0\n",
    "for time in end_time(n):\n",
    "    if time[0] "
   ]
  },
  {
   "cell_type": "code",
   "execution_count": null,
   "metadata": {},
   "outputs": [],
   "source": []
  }
 ],
 "metadata": {
  "kernelspec": {
   "display_name": "Python 3",
   "language": "python",
   "name": "python3"
  },
  "language_info": {
   "codemirror_mode": {
    "name": "ipython",
    "version": 3
   },
   "file_extension": ".py",
   "mimetype": "text/x-python",
   "name": "python",
   "nbconvert_exporter": "python",
   "pygments_lexer": "ipython3",
   "version": "3.8.5"
  }
 },
 "nbformat": 4,
 "nbformat_minor": 4
}
