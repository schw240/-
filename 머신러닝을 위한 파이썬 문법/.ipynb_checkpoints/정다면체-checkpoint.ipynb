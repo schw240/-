{
 "cells": [
  {
   "cell_type": "code",
   "execution_count": 9,
   "metadata": {},
   "outputs": [
    {
     "name": "stdout",
     "output_type": "stream",
     "text": [
      "1 2\n"
     ]
    }
   ],
   "source": [
    "N, M = map(int, input().split())"
   ]
  },
  {
   "cell_type": "code",
   "execution_count": 36,
   "metadata": {},
   "outputs": [
    {
     "name": "stdout",
     "output_type": "stream",
     "text": [
      "4,6\n",
      "13\n",
      "5 6 7 "
     ]
    }
   ],
   "source": [
    "N, M = map(int, input().split(',')) #입력받기\n",
    "\n",
    "ans = [0]*(N+M+3)\n",
    "print(len(ans))\n",
    "max = 0\n",
    "\n",
    "for i in range(1,N+1):\n",
    "    for j in range(1,M+1):\n",
    "        ans[i+j]+=1\n",
    "#print(ans)        \n",
    "#print(type(ans))\n",
    "\n",
    "#이 loop를 통해서 max 값 결정됨\n",
    "for i in range(len(ans)):\n",
    "    #print(ans[i])\n",
    "    if ans[i] > max:\n",
    "        max = ans[i]\n",
    "\n",
    "#정답을 display\n",
    "for i in range(N+M+1):\n",
    "    if ans[i] == max:\n",
    "        print(i, end= ' ')\n",
    "\n"
   ]
  },
  {
   "cell_type": "code",
   "execution_count": null,
   "metadata": {},
   "outputs": [],
   "source": []
  },
  {
   "cell_type": "code",
   "execution_count": null,
   "metadata": {},
   "outputs": [],
   "source": []
  }
 ],
 "metadata": {
  "kernelspec": {
   "display_name": "Python 3",
   "language": "python",
   "name": "python3"
  },
  "language_info": {
   "codemirror_mode": {
    "name": "ipython",
    "version": 3
   },
   "file_extension": ".py",
   "mimetype": "text/x-python",
   "name": "python",
   "nbconvert_exporter": "python",
   "pygments_lexer": "ipython3",
   "version": "3.7.9"
  }
 },
 "nbformat": 4,
 "nbformat_minor": 4
}
