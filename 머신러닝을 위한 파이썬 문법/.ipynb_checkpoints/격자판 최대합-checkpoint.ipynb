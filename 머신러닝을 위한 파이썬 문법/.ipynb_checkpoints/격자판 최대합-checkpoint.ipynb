{
 "cells": [
  {
   "cell_type": "code",
   "execution_count": 5,
   "metadata": {},
   "outputs": [],
   "source": [
    "f = open('./실습데이터/격자판최대합2.txt', 'r')\n",
    "n = int(f.readline())\n",
    "a = [list(map(int, f.readline().split())) for _ in range(n)]"
   ]
  },
  {
   "cell_type": "code",
   "execution_count": 6,
   "metadata": {},
   "outputs": [
    {
     "name": "stdout",
     "output_type": "stream",
     "text": [
      "1234\n"
     ]
    }
   ],
   "source": [
    "max_val = 0\n",
    "for i in range(n):\n",
    "    sum1 = 0\n",
    "    sum2 = 0\n",
    "    for j in range(n):\n",
    "        #행 , 열\n",
    "        sum1 += a[i][j]\n",
    "        sum2 += a[j][i]\n",
    "    if max_val < sum1:\n",
    "        max_val = sum1\n",
    "    if max_val < sum2:\n",
    "        max_val = sum2\n",
    "sum1 = sum2 = 0\n",
    "for i in range(n):\n",
    "    sum1 += a[i][i]\n",
    "    sum2 += a[i][n-1-i]\n",
    "    if max_val < sum1:\n",
    "        max_val = sum1\n",
    "    if max_val < sum2:\n",
    "        max_val = sum2\n",
    "print(max_val)"
   ]
  }
 ],
 "metadata": {
  "kernelspec": {
   "display_name": "Python 3",
   "language": "python",
   "name": "python3"
  },
  "language_info": {
   "codemirror_mode": {
    "name": "ipython",
    "version": 3
   },
   "file_extension": ".py",
   "mimetype": "text/x-python",
   "name": "python",
   "nbconvert_exporter": "python",
   "pygments_lexer": "ipython3",
   "version": "3.8.3"
  }
 },
 "nbformat": 4,
 "nbformat_minor": 4
}
