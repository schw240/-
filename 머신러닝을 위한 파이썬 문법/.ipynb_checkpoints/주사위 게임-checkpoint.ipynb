{
 "cells": [
  {
   "cell_type": "code",
   "execution_count": 49,
   "metadata": {},
   "outputs": [],
   "source": [
    "f = open('./실습데이터/주사위게임4.txt', 'r')\n",
    "N = int(f.readline())"
   ]
  },
  {
   "cell_type": "code",
   "execution_count": 50,
   "metadata": {},
   "outputs": [
    {
     "data": {
      "text/plain": [
       "1000"
      ]
     },
     "execution_count": 50,
     "metadata": {},
     "output_type": "execute_result"
    }
   ],
   "source": [
    "N"
   ]
  },
  {
   "cell_type": "code",
   "execution_count": 51,
   "metadata": {},
   "outputs": [
    {
     "name": "stdout",
     "output_type": "stream",
     "text": [
      "1200\n"
     ]
    }
   ],
   "source": [
    "max_price = 0\n",
    "for i in range(N):\n",
    "    a,b,c = map(int, f.readline().split())\n",
    "    if a == b == c:\n",
    "        max_price = max(max_price, 10000 + a*1000)\n",
    "    elif a == b:\n",
    "        max_price = max(max_price, 1000 + a*100)\n",
    "    elif a == c:\n",
    "        max_price = max(max_price, 1000 + a*100)\n",
    "    elif c == b:\n",
    "        max_price = max(max_price, 1000 + b*100)\n",
    "    else:\n",
    "        max_price = max(max_price, 100 * max(a,b,c))\n",
    "print(max_price)"
   ]
  },
  {
   "cell_type": "code",
   "execution_count": null,
   "metadata": {},
   "outputs": [],
   "source": []
  },
  {
   "cell_type": "code",
   "execution_count": null,
   "metadata": {},
   "outputs": [],
   "source": []
  },
  {
   "cell_type": "code",
   "execution_count": 56,
   "metadata": {},
   "outputs": [
    {
     "name": "stdout",
     "output_type": "stream",
     "text": [
      "16000\n"
     ]
    }
   ],
   "source": [
    "#강사님 코드\n",
    "f = open('./실습데이터/주사위게임1.txt', 'r')\n",
    "n = int(f.readline())\n",
    "prize = 0\n",
    "high_prize = 0\n",
    "for i in range(n):\n",
    "    temp = f.readline().split()\n",
    "    temp.sort()\n",
    "    a,b,c = map(int, temp)\n",
    "    if a==b and b==c: #3개 같은 경우\n",
    "        prize = 10000 + (a*1000)\n",
    "    elif a==b or b==c: #2개가 같은 경우\n",
    "        prize = 1000 + (a*100)\n",
    "    else:\n",
    "        prize = 100 * c\n",
    "    if prize > high_prize:\n",
    "        high_prize = prize\n",
    "print(high_prize)"
   ]
  },
  {
   "cell_type": "code",
   "execution_count": null,
   "metadata": {},
   "outputs": [],
   "source": []
  }
 ],
 "metadata": {
  "kernelspec": {
   "display_name": "Python 3",
   "language": "python",
   "name": "python3"
  },
  "language_info": {
   "codemirror_mode": {
    "name": "ipython",
    "version": 3
   },
   "file_extension": ".py",
   "mimetype": "text/x-python",
   "name": "python",
   "nbconvert_exporter": "python",
   "pygments_lexer": "ipython3",
   "version": "3.7.9"
  }
 },
 "nbformat": 4,
 "nbformat_minor": 4
}
