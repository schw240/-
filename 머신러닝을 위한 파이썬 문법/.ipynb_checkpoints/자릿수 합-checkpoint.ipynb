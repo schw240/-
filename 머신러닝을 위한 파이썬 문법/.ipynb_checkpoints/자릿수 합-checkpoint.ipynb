{
 "cells": [
  {
   "cell_type": "code",
   "execution_count": 9,
   "metadata": {},
   "outputs": [],
   "source": [
    "def find_sum(num):\n",
    "    num = str(num)\n",
    "    sum = 0\n",
    "    for i in range(len(num)):\n",
    "        sum += int(num[i])\n",
    "    return sum"
   ]
  },
  {
   "cell_type": "code",
   "execution_count": 39,
   "metadata": {},
   "outputs": [],
   "source": [
    "def digit_sum(num_list):\n",
    "    max = 0\n",
    "    ans = list()\n",
    "    for i in range(len(num_list)):\n",
    "        ans.append(find_sum(num_list[i]))\n",
    "    ans.sort(reverse=True)\n",
    "    return ans.sort(reverse=True)"
   ]
  },
  {
   "cell_type": "code",
   "execution_count": 49,
   "metadata": {},
   "outputs": [],
   "source": [
    "f = open('./실습데이터/자릿수합input1.txt', 'r')\n",
    "n = int(f.readline())\n",
    "a = list(map(int, f.readline().split()))"
   ]
  },
  {
   "cell_type": "code",
   "execution_count": 74,
   "metadata": {},
   "outputs": [
    {
     "data": {
      "text/plain": [
       "15"
      ]
     },
     "execution_count": 74,
     "metadata": {},
     "output_type": "execute_result"
    }
   ],
   "source": [
    "n"
   ]
  },
  {
   "cell_type": "code",
   "execution_count": 51,
   "metadata": {
    "scrolled": true
   },
   "outputs": [],
   "source": [
    "def digit_sum(x):\n",
    "    sum = 0\n",
    "    for i in str(x):\n",
    "        sum = sum + int(i)\n",
    "    return sum"
   ]
  },
  {
   "cell_type": "code",
   "execution_count": 52,
   "metadata": {},
   "outputs": [],
   "source": [
    "def digit_sum2(x):\n",
    "    sum = 0\n",
    "    while x > 0:\n",
    "        sum = sum + x%10\n",
    "        x = x//10\n",
    "    return sum"
   ]
  },
  {
   "cell_type": "code",
   "execution_count": 59,
   "metadata": {},
   "outputs": [],
   "source": [
    "def digit_sum3(x):\n",
    "    return sum(map(int, str(x)))"
   ]
  },
  {
   "cell_type": "code",
   "execution_count": 56,
   "metadata": {
    "scrolled": true
   },
   "outputs": [
    {
     "name": "stdout",
     "output_type": "stream",
     "text": [
      "11\n",
      "10\n",
      "9\n",
      "4\n",
      "8\n",
      "11\n",
      "8\n"
     ]
    }
   ],
   "source": [
    "ans = []\n",
    "for i in a:\n",
    "    print(digit_sum(i))\n",
    "    ans.append(digit_sum(i))"
   ]
  },
  {
   "cell_type": "code",
   "execution_count": 60,
   "metadata": {},
   "outputs": [
    {
     "name": "stdout",
     "output_type": "stream",
     "text": [
      "[137, 128]\n"
     ]
    }
   ],
   "source": [
    "max = 0\n",
    "lst = []\n",
    "for i in a:\n",
    "    tot = digit_sum(i)\n",
    "    if tot >= max:\n",
    "        max = tot\n",
    "        lst.append(i)\n",
    "print(lst)"
   ]
  },
  {
   "cell_type": "code",
   "execution_count": 66,
   "metadata": {},
   "outputs": [],
   "source": [
    "f = open('./실습데이터/자릿수합input2.txt', 'r')\n",
    "n = int(f.readline())\n",
    "lst = list(map(int, f.readline().split()))"
   ]
  },
  {
   "cell_type": "code",
   "execution_count": 67,
   "metadata": {},
   "outputs": [
    {
     "data": {
      "text/plain": [
       "[770, 93, 883, 659, 641, 446, 354, 227, 338, 178, 510, 357, 560, 362, 884]"
      ]
     },
     "execution_count": 67,
     "metadata": {},
     "output_type": "execute_result"
    }
   ],
   "source": [
    "lst"
   ]
  },
  {
   "cell_type": "code",
   "execution_count": 70,
   "metadata": {},
   "outputs": [
    {
     "name": "stdout",
     "output_type": "stream",
     "text": [
      "884 659 "
     ]
    }
   ],
   "source": [
    "final = 0\n",
    "#len(lst)-1,-1,-1\n",
    "for i in range(len(lst)-1,-1,-1):\n",
    "    tot = digit_sum(lst[i])\n",
    "    if tot >= final:\n",
    "        final = tot\n",
    "        print(lst[i], end=' ')\n",
    "        \n",
    "#이거 말고는 sort(reverse=True)를 통해서 추출하기"
   ]
  },
  {
   "cell_type": "code",
   "execution_count": 97,
   "metadata": {},
   "outputs": [],
   "source": [
    "def digit_sum3(x):\n",
    "    return sum(map(int, str(x)))\n",
    "\n",
    "def sum_max(n, a):\n",
    "    sum_list = []\n",
    "    max = 0\n",
    "    for i in range(n):\n",
    "        sum_list.append(digit_sum3(a[i]))\n",
    "    print(sum_list)\n",
    "    for i in range(n):        \n",
    "        if sum_list[i] >= max:\n",
    "            max = sum_list[i]\n",
    "    for i in range(n):\n",
    "        if max == sum_list[i]:    \n",
    "            print(a[i], end=' ')"
   ]
  },
  {
   "cell_type": "code",
   "execution_count": 98,
   "metadata": {},
   "outputs": [
    {
     "name": "stdout",
     "output_type": "stream",
     "text": [
      "[14, 12, 19, 20, 11, 14, 12, 11, 14, 16, 6, 15, 11, 11, 20]\n",
      "659 884 "
     ]
    }
   ],
   "source": [
    "sum_max(n,a)"
   ]
  },
  {
   "cell_type": "code",
   "execution_count": null,
   "metadata": {},
   "outputs": [],
   "source": []
  },
  {
   "cell_type": "code",
   "execution_count": null,
   "metadata": {},
   "outputs": [],
   "source": []
  },
  {
   "cell_type": "code",
   "execution_count": null,
   "metadata": {},
   "outputs": [],
   "source": []
  }
 ],
 "metadata": {
  "kernelspec": {
   "display_name": "Python 3",
   "language": "python",
   "name": "python3"
  },
  "language_info": {
   "codemirror_mode": {
    "name": "ipython",
    "version": 3
   },
   "file_extension": ".py",
   "mimetype": "text/x-python",
   "name": "python",
   "nbconvert_exporter": "python",
   "pygments_lexer": "ipython3",
   "version": "3.8.5"
  }
 },
 "nbformat": 4,
 "nbformat_minor": 4
}
