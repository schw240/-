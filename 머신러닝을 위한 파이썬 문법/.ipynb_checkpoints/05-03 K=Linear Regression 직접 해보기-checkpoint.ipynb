{
 "cells": [
  {
   "cell_type": "code",
   "execution_count": 1,
   "metadata": {},
   "outputs": [],
   "source": [
    "import numpy as np\n",
    "import pandas as pd\n",
    "import matplotlib.pyplot as plt\n",
    "from sklearn.linear_model import LinearRegression"
   ]
  },
  {
   "cell_type": "code",
   "execution_count": 65,
   "metadata": {},
   "outputs": [],
   "source": [
    "df = pd.read_csv(\"LinearRegression_data.csv\", encoding='cp949')"
   ]
  },
  {
   "cell_type": "code",
   "execution_count": 66,
   "metadata": {},
   "outputs": [
    {
     "data": {
      "text/html": [
       "<div>\n",
       "<style scoped>\n",
       "    .dataframe tbody tr th:only-of-type {\n",
       "        vertical-align: middle;\n",
       "    }\n",
       "\n",
       "    .dataframe tbody tr th {\n",
       "        vertical-align: top;\n",
       "    }\n",
       "\n",
       "    .dataframe thead th {\n",
       "        text-align: right;\n",
       "    }\n",
       "</style>\n",
       "<table border=\"1\" class=\"dataframe\">\n",
       "  <thead>\n",
       "    <tr style=\"text-align: right;\">\n",
       "      <th></th>\n",
       "      <th>X</th>\n",
       "      <th>y</th>\n",
       "    </tr>\n",
       "  </thead>\n",
       "  <tbody>\n",
       "    <tr>\n",
       "      <th>0</th>\n",
       "      <td>0.056768</td>\n",
       "      <td>-1.241088</td>\n",
       "    </tr>\n",
       "    <tr>\n",
       "      <th>1</th>\n",
       "      <td>2.343303</td>\n",
       "      <td>4.055238</td>\n",
       "    </tr>\n",
       "    <tr>\n",
       "      <th>2</th>\n",
       "      <td>0.281516</td>\n",
       "      <td>-2.401891</td>\n",
       "    </tr>\n",
       "    <tr>\n",
       "      <th>3</th>\n",
       "      <td>0.594090</td>\n",
       "      <td>-0.125769</td>\n",
       "    </tr>\n",
       "    <tr>\n",
       "      <th>4</th>\n",
       "      <td>0.587631</td>\n",
       "      <td>0.233687</td>\n",
       "    </tr>\n",
       "    <tr>\n",
       "      <th>...</th>\n",
       "      <td>...</td>\n",
       "      <td>...</td>\n",
       "    </tr>\n",
       "    <tr>\n",
       "      <th>95</th>\n",
       "      <td>4.260908</td>\n",
       "      <td>7.273202</td>\n",
       "    </tr>\n",
       "    <tr>\n",
       "      <th>96</th>\n",
       "      <td>2.759534</td>\n",
       "      <td>1.849663</td>\n",
       "    </tr>\n",
       "    <tr>\n",
       "      <th>97</th>\n",
       "      <td>2.804690</td>\n",
       "      <td>4.152740</td>\n",
       "    </tr>\n",
       "    <tr>\n",
       "      <th>98</th>\n",
       "      <td>4.383268</td>\n",
       "      <td>6.103912</td>\n",
       "    </tr>\n",
       "    <tr>\n",
       "      <th>99</th>\n",
       "      <td>2.017414</td>\n",
       "      <td>2.605427</td>\n",
       "    </tr>\n",
       "  </tbody>\n",
       "</table>\n",
       "<p>100 rows × 2 columns</p>\n",
       "</div>"
      ],
      "text/plain": [
       "           X         y\n",
       "0   0.056768 -1.241088\n",
       "1   2.343303  4.055238\n",
       "2   0.281516 -2.401891\n",
       "3   0.594090 -0.125769\n",
       "4   0.587631  0.233687\n",
       "..       ...       ...\n",
       "95  4.260908  7.273202\n",
       "96  2.759534  1.849663\n",
       "97  2.804690  4.152740\n",
       "98  4.383268  6.103912\n",
       "99  2.017414  2.605427\n",
       "\n",
       "[100 rows x 2 columns]"
      ]
     },
     "execution_count": 66,
     "metadata": {},
     "output_type": "execute_result"
    }
   ],
   "source": [
    "df"
   ]
  },
  {
   "cell_type": "code",
   "execution_count": 97,
   "metadata": {},
   "outputs": [
    {
     "name": "stdout",
     "output_type": "stream",
     "text": [
      "<class 'pandas.core.frame.DataFrame'>\n",
      "RangeIndex: 100 entries, 0 to 99\n",
      "Data columns (total 2 columns):\n",
      " #   Column  Non-Null Count  Dtype  \n",
      "---  ------  --------------  -----  \n",
      " 0   X       100 non-null    float64\n",
      " 1   y       100 non-null    float64\n",
      "dtypes: float64(2)\n",
      "memory usage: 1.7 KB\n"
     ]
    }
   ],
   "source": [
    "df.info()"
   ]
  },
  {
   "cell_type": "code",
   "execution_count": 98,
   "metadata": {},
   "outputs": [
    {
     "data": {
      "text/html": [
       "<div>\n",
       "<style scoped>\n",
       "    .dataframe tbody tr th:only-of-type {\n",
       "        vertical-align: middle;\n",
       "    }\n",
       "\n",
       "    .dataframe tbody tr th {\n",
       "        vertical-align: top;\n",
       "    }\n",
       "\n",
       "    .dataframe thead th {\n",
       "        text-align: right;\n",
       "    }\n",
       "</style>\n",
       "<table border=\"1\" class=\"dataframe\">\n",
       "  <thead>\n",
       "    <tr style=\"text-align: right;\">\n",
       "      <th></th>\n",
       "      <th>X</th>\n",
       "      <th>y</th>\n",
       "    </tr>\n",
       "  </thead>\n",
       "  <tbody>\n",
       "    <tr>\n",
       "      <th>count</th>\n",
       "      <td>100.000000</td>\n",
       "      <td>100.000000</td>\n",
       "    </tr>\n",
       "    <tr>\n",
       "      <th>mean</th>\n",
       "      <td>2.830290</td>\n",
       "      <td>3.536666</td>\n",
       "    </tr>\n",
       "    <tr>\n",
       "      <th>std</th>\n",
       "      <td>1.530689</td>\n",
       "      <td>3.205667</td>\n",
       "    </tr>\n",
       "    <tr>\n",
       "      <th>min</th>\n",
       "      <td>0.056768</td>\n",
       "      <td>-3.581838</td>\n",
       "    </tr>\n",
       "    <tr>\n",
       "      <th>25%</th>\n",
       "      <td>1.711980</td>\n",
       "      <td>1.628872</td>\n",
       "    </tr>\n",
       "    <tr>\n",
       "      <th>50%</th>\n",
       "      <td>2.919926</td>\n",
       "      <td>3.714114</td>\n",
       "    </tr>\n",
       "    <tr>\n",
       "      <th>75%</th>\n",
       "      <td>4.251405</td>\n",
       "      <td>6.140965</td>\n",
       "    </tr>\n",
       "    <tr>\n",
       "      <th>max</th>\n",
       "      <td>4.998588</td>\n",
       "      <td>8.892546</td>\n",
       "    </tr>\n",
       "  </tbody>\n",
       "</table>\n",
       "</div>"
      ],
      "text/plain": [
       "                X           y\n",
       "count  100.000000  100.000000\n",
       "mean     2.830290    3.536666\n",
       "std      1.530689    3.205667\n",
       "min      0.056768   -3.581838\n",
       "25%      1.711980    1.628872\n",
       "50%      2.919926    3.714114\n",
       "75%      4.251405    6.140965\n",
       "max      4.998588    8.892546"
      ]
     },
     "execution_count": 98,
     "metadata": {},
     "output_type": "execute_result"
    }
   ],
   "source": [
    "df.describe()"
   ]
  },
  {
   "cell_type": "code",
   "execution_count": 67,
   "metadata": {},
   "outputs": [],
   "source": [
    "X = df.X"
   ]
  },
  {
   "cell_type": "code",
   "execution_count": 68,
   "metadata": {},
   "outputs": [
    {
     "data": {
      "text/plain": [
       "0     0.056768\n",
       "1     2.343303\n",
       "2     0.281516\n",
       "3     0.594090\n",
       "4     0.587631\n",
       "        ...   \n",
       "95    4.260908\n",
       "96    2.759534\n",
       "97    2.804690\n",
       "98    4.383268\n",
       "99    2.017414\n",
       "Name: X, Length: 100, dtype: float64"
      ]
     },
     "execution_count": 68,
     "metadata": {},
     "output_type": "execute_result"
    }
   ],
   "source": [
    "X"
   ]
  },
  {
   "cell_type": "code",
   "execution_count": 69,
   "metadata": {},
   "outputs": [],
   "source": [
    "y = df.y"
   ]
  },
  {
   "cell_type": "code",
   "execution_count": 70,
   "metadata": {},
   "outputs": [
    {
     "data": {
      "text/plain": [
       "0    -1.241088\n",
       "1     4.055238\n",
       "2    -2.401891\n",
       "3    -0.125769\n",
       "4     0.233687\n",
       "        ...   \n",
       "95    7.273202\n",
       "96    1.849663\n",
       "97    4.152740\n",
       "98    6.103912\n",
       "99    2.605427\n",
       "Name: y, Length: 100, dtype: float64"
      ]
     },
     "execution_count": 70,
     "metadata": {},
     "output_type": "execute_result"
    }
   ],
   "source": [
    "y"
   ]
  },
  {
   "cell_type": "code",
   "execution_count": 71,
   "metadata": {},
   "outputs": [
    {
     "data": {
      "text/plain": [
       "<matplotlib.collections.PathCollection at 0x23577c55488>"
      ]
     },
     "execution_count": 71,
     "metadata": {},
     "output_type": "execute_result"
    },
    {
     "data": {
      "image/png": "[encoded data removed]",
      "text/plain": [
       "<Figure size 432x288 with 1 Axes>"
      ]
     },
     "metadata": {
      "needs_background": "light"
     },
     "output_type": "display_data"
    }
   ],
   "source": [
    "plt.scatter(X,y)"
   ]
  },
  {
   "cell_type": "code",
   "execution_count": 72,
   "metadata": {},
   "outputs": [],
   "source": [
    "LRmodel = LinearRegression()"
   ]
  },
  {
   "cell_type": "code",
   "execution_count": 99,
   "metadata": {},
   "outputs": [
    {
     "ename": "AttributeError",
     "evalue": "'numpy.ndarray' object has no attribute 'to_numpy'",
     "output_type": "error",
     "traceback": [
      "\u001b[1;31m---------------------------------------------------------------------------\u001b[0m",
      "\u001b[1;31mAttributeError\u001b[0m                            Traceback (most recent call last)",
      "\u001b[1;32m<ipython-input-99-613efde86de8>\u001b[0m in \u001b[0;36m<module>\u001b[1;34m\u001b[0m\n\u001b[1;32m----> 1\u001b[1;33m \u001b[0mX\u001b[0m \u001b[1;33m=\u001b[0m \u001b[0mX\u001b[0m\u001b[1;33m.\u001b[0m\u001b[0mto_numpy\u001b[0m\u001b[1;33m(\u001b[0m\u001b[1;33m)\u001b[0m\u001b[1;33m\u001b[0m\u001b[1;33m\u001b[0m\u001b[0m\n\u001b[0m\u001b[0;32m      2\u001b[0m \u001b[1;31m#X=np.array(X).reshape(100,-1)\u001b[0m\u001b[1;33m\u001b[0m\u001b[1;33m\u001b[0m\u001b[1;33m\u001b[0m\u001b[0m\n",
      "\u001b[1;31mAttributeError\u001b[0m: 'numpy.ndarray' object has no attribute 'to_numpy'"
     ]
    }
   ],
   "source": [
    "X = X.to_numpy()\n",
    "#X=np.array(X).reshape(100,-1)"
   ]
  },
  {
   "cell_type": "code",
   "execution_count": 74,
   "metadata": {},
   "outputs": [],
   "source": [
    "y = y.to_numpy()"
   ]
  },
  {
   "cell_type": "code",
   "execution_count": 75,
   "metadata": {},
   "outputs": [
    {
     "data": {
      "text/plain": [
       "numpy.ndarray"
      ]
     },
     "execution_count": 75,
     "metadata": {},
     "output_type": "execute_result"
    }
   ],
   "source": [
    "type(X)"
   ]
  },
  {
   "cell_type": "code",
   "execution_count": 76,
   "metadata": {
    "scrolled": true
   },
   "outputs": [],
   "source": [
    "X = X.reshape(100,1)"
   ]
  },
  {
   "cell_type": "code",
   "execution_count": 77,
   "metadata": {},
   "outputs": [
    {
     "data": {
      "text/plain": [
       "(100, 1)"
      ]
     },
     "execution_count": 77,
     "metadata": {},
     "output_type": "execute_result"
    }
   ],
   "source": [
    "X.shape"
   ]
  },
  {
   "cell_type": "code",
   "execution_count": 78,
   "metadata": {},
   "outputs": [
    {
     "data": {
      "text/plain": [
       "(100,)"
      ]
     },
     "execution_count": 78,
     "metadata": {},
     "output_type": "execute_result"
    }
   ],
   "source": [
    "y.shape"
   ]
  },
  {
   "cell_type": "code",
   "execution_count": 79,
   "metadata": {
    "scrolled": true
   },
   "outputs": [
    {
     "data": {
      "text/plain": [
       "LinearRegression()"
      ]
     },
     "execution_count": 79,
     "metadata": {},
     "output_type": "execute_result"
    }
   ],
   "source": [
    "LRmodel.fit(X,y)"
   ]
  },
  {
   "cell_type": "code",
   "execution_count": 80,
   "metadata": {},
   "outputs": [
    {
     "data": {
      "text/plain": [
       "LinearRegression()"
      ]
     },
     "execution_count": 80,
     "metadata": {},
     "output_type": "execute_result"
    }
   ],
   "source": [
    "LRmodel.fit(X,y)"
   ]
  },
  {
   "cell_type": "code",
   "execution_count": 81,
   "metadata": {},
   "outputs": [
    {
     "data": {
      "text/plain": [
       "0.8978255693597634"
      ]
     },
     "execution_count": 81,
     "metadata": {},
     "output_type": "execute_result"
    }
   ],
   "source": [
    "LRmodel.score(X,y)"
   ]
  },
  {
   "cell_type": "code",
   "execution_count": 83,
   "metadata": {},
   "outputs": [
    {
     "data": {
      "text/plain": [
       "array([1.98439232])"
      ]
     },
     "execution_count": 83,
     "metadata": {},
     "output_type": "execute_result"
    }
   ],
   "source": [
    "LRmodel.coef_"
   ]
  },
  {
   "cell_type": "code",
   "execution_count": 84,
   "metadata": {},
   "outputs": [
    {
     "data": {
      "text/plain": [
       "-2.079739099935778"
      ]
     },
     "execution_count": 84,
     "metadata": {},
     "output_type": "execute_result"
    }
   ],
   "source": [
    "LRmodel.intercept_"
   ]
  },
  {
   "cell_type": "code",
   "execution_count": 108,
   "metadata": {},
   "outputs": [],
   "source": [
    "xtest = np.linspace(-1, 6, num=100)"
   ]
  },
  {
   "cell_type": "code",
   "execution_count": 109,
   "metadata": {},
   "outputs": [
    {
     "data": {
      "text/plain": [
       "100"
      ]
     },
     "execution_count": 109,
     "metadata": {},
     "output_type": "execute_result"
    }
   ],
   "source": [
    "len(xtest)"
   ]
  },
  {
   "cell_type": "code",
   "execution_count": 110,
   "metadata": {},
   "outputs": [
    {
     "data": {
      "text/plain": [
       "(100,)"
      ]
     },
     "execution_count": 110,
     "metadata": {},
     "output_type": "execute_result"
    }
   ],
   "source": [
    "xtest.shape"
   ]
  },
  {
   "cell_type": "code",
   "execution_count": 111,
   "metadata": {},
   "outputs": [],
   "source": [
    "xtest = xtest.reshape(100, -1)"
   ]
  },
  {
   "cell_type": "code",
   "execution_count": 112,
   "metadata": {
    "scrolled": true
   },
   "outputs": [
    {
     "data": {
      "text/plain": [
       "array([-4.06413142e+00, -3.92382085e+00, -3.78351028e+00, -3.64319972e+00,\n",
       "       -3.50288915e+00, -3.36257858e+00, -3.22226801e+00, -3.08195744e+00,\n",
       "       -2.94164688e+00, -2.80133631e+00, -2.66102574e+00, -2.52071517e+00,\n",
       "       -2.38040460e+00, -2.24009403e+00, -2.09978347e+00, -1.95947290e+00,\n",
       "       -1.81916233e+00, -1.67885176e+00, -1.53854119e+00, -1.39823063e+00,\n",
       "       -1.25792006e+00, -1.11760949e+00, -9.77298922e-01, -8.36988354e-01,\n",
       "       -6.96677786e-01, -5.56367217e-01, -4.16056649e-01, -2.75746081e-01,\n",
       "       -1.35435513e-01,  4.87505505e-03,  1.45185623e-01,  2.85496191e-01,\n",
       "        4.25806759e-01,  5.66117328e-01,  7.06427896e-01,  8.46738464e-01,\n",
       "        9.87049032e-01,  1.12735960e+00,  1.26767017e+00,  1.40798074e+00,\n",
       "        1.54829130e+00,  1.68860187e+00,  1.82891244e+00,  1.96922301e+00,\n",
       "        2.10953358e+00,  2.24984415e+00,  2.39015471e+00,  2.53046528e+00,\n",
       "        2.67077585e+00,  2.81108642e+00,  2.95139699e+00,  3.09170755e+00,\n",
       "        3.23201812e+00,  3.37232869e+00,  3.51263926e+00,  3.65294983e+00,\n",
       "        3.79326039e+00,  3.93357096e+00,  4.07388153e+00,  4.21419210e+00,\n",
       "        4.35450267e+00,  4.49481324e+00,  4.63512380e+00,  4.77543437e+00,\n",
       "        4.91574494e+00,  5.05605551e+00,  5.19636608e+00,  5.33667664e+00,\n",
       "        5.47698721e+00,  5.61729778e+00,  5.75760835e+00,  5.89791892e+00,\n",
       "        6.03822948e+00,  6.17854005e+00,  6.31885062e+00,  6.45916119e+00,\n",
       "        6.59947176e+00,  6.73978232e+00,  6.88009289e+00,  7.02040346e+00,\n",
       "        7.16071403e+00,  7.30102460e+00,  7.44133517e+00,  7.58164573e+00,\n",
       "        7.72195630e+00,  7.86226687e+00,  8.00257744e+00,  8.14288801e+00,\n",
       "        8.28319857e+00,  8.42350914e+00,  8.56381971e+00,  8.70413028e+00,\n",
       "        8.84444085e+00,  8.98475141e+00,  9.12506198e+00,  9.26537255e+00,\n",
       "        9.40568312e+00,  9.54599369e+00,  9.68630426e+00,  9.82661482e+00])"
      ]
     },
     "execution_count": 112,
     "metadata": {},
     "output_type": "execute_result"
    }
   ],
   "source": [
    "LRmodel.predict(xtest)"
   ]
  },
  {
   "cell_type": "code",
   "execution_count": 113,
   "metadata": {},
   "outputs": [],
   "source": [
    "predict_y = LRmodel.predict(xtest)"
   ]
  },
  {
   "cell_type": "code",
   "execution_count": 114,
   "metadata": {},
   "outputs": [
    {
     "data": {
      "text/plain": [
       "array([-4.06413142e+00, -3.92382085e+00, -3.78351028e+00, -3.64319972e+00,\n",
       "       -3.50288915e+00, -3.36257858e+00, -3.22226801e+00, -3.08195744e+00,\n",
       "       -2.94164688e+00, -2.80133631e+00, -2.66102574e+00, -2.52071517e+00,\n",
       "       -2.38040460e+00, -2.24009403e+00, -2.09978347e+00, -1.95947290e+00,\n",
       "       -1.81916233e+00, -1.67885176e+00, -1.53854119e+00, -1.39823063e+00,\n",
       "       -1.25792006e+00, -1.11760949e+00, -9.77298922e-01, -8.36988354e-01,\n",
       "       -6.96677786e-01, -5.56367217e-01, -4.16056649e-01, -2.75746081e-01,\n",
       "       -1.35435513e-01,  4.87505505e-03,  1.45185623e-01,  2.85496191e-01,\n",
       "        4.25806759e-01,  5.66117328e-01,  7.06427896e-01,  8.46738464e-01,\n",
       "        9.87049032e-01,  1.12735960e+00,  1.26767017e+00,  1.40798074e+00,\n",
       "        1.54829130e+00,  1.68860187e+00,  1.82891244e+00,  1.96922301e+00,\n",
       "        2.10953358e+00,  2.24984415e+00,  2.39015471e+00,  2.53046528e+00,\n",
       "        2.67077585e+00,  2.81108642e+00,  2.95139699e+00,  3.09170755e+00,\n",
       "        3.23201812e+00,  3.37232869e+00,  3.51263926e+00,  3.65294983e+00,\n",
       "        3.79326039e+00,  3.93357096e+00,  4.07388153e+00,  4.21419210e+00,\n",
       "        4.35450267e+00,  4.49481324e+00,  4.63512380e+00,  4.77543437e+00,\n",
       "        4.91574494e+00,  5.05605551e+00,  5.19636608e+00,  5.33667664e+00,\n",
       "        5.47698721e+00,  5.61729778e+00,  5.75760835e+00,  5.89791892e+00,\n",
       "        6.03822948e+00,  6.17854005e+00,  6.31885062e+00,  6.45916119e+00,\n",
       "        6.59947176e+00,  6.73978232e+00,  6.88009289e+00,  7.02040346e+00,\n",
       "        7.16071403e+00,  7.30102460e+00,  7.44133517e+00,  7.58164573e+00,\n",
       "        7.72195630e+00,  7.86226687e+00,  8.00257744e+00,  8.14288801e+00,\n",
       "        8.28319857e+00,  8.42350914e+00,  8.56381971e+00,  8.70413028e+00,\n",
       "        8.84444085e+00,  8.98475141e+00,  9.12506198e+00,  9.26537255e+00,\n",
       "        9.40568312e+00,  9.54599369e+00,  9.68630426e+00,  9.82661482e+00])"
      ]
     },
     "execution_count": 114,
     "metadata": {},
     "output_type": "execute_result"
    }
   ],
   "source": [
    "predict_y"
   ]
  },
  {
   "cell_type": "code",
   "execution_count": 115,
   "metadata": {},
   "outputs": [
    {
     "data": {
      "text/plain": [
       "<matplotlib.collections.PathCollection at 0x235779cf588>"
      ]
     },
     "execution_count": 115,
     "metadata": {},
     "output_type": "execute_result"
    },
    {
     "data": {
      "image/png": "[encoded data removed]",
      "text/plain": [
       "<Figure size 432x288 with 1 Axes>"
      ]
     },
     "metadata": {
      "needs_background": "light"
     },
     "output_type": "display_data"
    }
   ],
   "source": [
    "plt.scatter(X,y)\n",
    "plt.plot(xtest,predict_y)\n",
    "plt.scatter(xtest, predict_y, c='r')"
   ]
  },
  {
   "cell_type": "code",
   "execution_count": null,
   "metadata": {},
   "outputs": [],
   "source": []
  }
 ],
 "metadata": {
  "kernelspec": {
   "display_name": "Python 3",
   "language": "python",
   "name": "python3"
  },
  "language_info": {
   "codemirror_mode": {
    "name": "ipython",
    "version": 3
   },
   "file_extension": ".py",
   "mimetype": "text/x-python",
   "name": "python",
   "nbconvert_exporter": "python",
   "pygments_lexer": "ipython3",
   "version": "3.7.4"
  }
 },
 "nbformat": 4,
 "nbformat_minor": 4
}
