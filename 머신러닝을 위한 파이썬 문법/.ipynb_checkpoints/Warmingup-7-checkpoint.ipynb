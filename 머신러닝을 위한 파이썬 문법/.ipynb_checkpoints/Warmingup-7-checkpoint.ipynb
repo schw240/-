{
 "cells": [
  {
   "cell_type": "code",
   "execution_count": 12,
   "metadata": {},
   "outputs": [],
   "source": [
    "def testing_anagram(fword, sword):\n",
    "    fword = fword.replace(' ', '').lower()\n",
    "    sword = sword.replace(' ', '').lower()\n",
    "    fword = sorted(fword)\n",
    "    sword = sorted(sword)\n",
    "    if fword == sword:\n",
    "        return True\n",
    "    else:\n",
    "        return False"
   ]
  },
  {
   "cell_type": "code",
   "execution_count": 13,
   "metadata": {},
   "outputs": [
    {
     "name": "stdout",
     "output_type": "stream",
     "text": [
      "True\n",
      "True\n",
      "True\n",
      "False\n"
     ]
    }
   ],
   "source": [
    "print(testing_anagram('listen', 'silent'))\n",
    "print(testing_anagram('Programming', 'Gram Ring Mop'))\n",
    "print(testing_anagram('Dirty room', 'Dormitory'))\n",
    "print(testing_anagram('toy', 'yoi'))"
   ]
  },
  {
   "cell_type": "code",
   "execution_count": null,
   "metadata": {},
   "outputs": [],
   "source": []
  }
 ],
 "metadata": {
  "kernelspec": {
   "display_name": "Python 3",
   "language": "python",
   "name": "python3"
  },
  "language_info": {
   "codemirror_mode": {
    "name": "ipython",
    "version": 3
   },
   "file_extension": ".py",
   "mimetype": "text/x-python",
   "name": "python",
   "nbconvert_exporter": "python",
   "pygments_lexer": "ipython3",
   "version": "3.7.4"
  }
 },
 "nbformat": 4,
 "nbformat_minor": 4
}
