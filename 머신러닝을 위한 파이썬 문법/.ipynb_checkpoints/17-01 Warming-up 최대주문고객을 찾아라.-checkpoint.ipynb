{
 "cells": [
  {
   "cell_type": "code",
   "execution_count": 1,
   "metadata": {},
   "outputs": [
    {
     "name": "stdout",
     "output_type": "stream",
     "text": [
      "choi ['pizza', 'sandwith', 'pizza']\n",
      "alex ['pizza', 'pasta', 'steak']\n",
      "alex ['pizza', 'pasta', 'steak', 'pizza', 'pasta', 'steak']\n",
      "bob ['noodle', 'sandwith', 'pasta']\n",
      "[('choi', 2), ('alex', 3), ('bob', 3)]\n",
      "['alex', 'bob']\n"
     ]
    }
   ],
   "source": [
    "# orders=[\"alex pizza pasta\", \"alex pizza pizza\", \"alex noodle\",\\\n",
    "#    \"bob pasta\", \"bob noodle sandwith pasta\", \"bob steak noodle\"]\n",
    "\n",
    "orders=['alex pizza pasta steak','bob noodle sandwith pasta','choi pizza sandwith pizza',\\\n",
    "        'alex pizza pasta steak']\n",
    "\n",
    "# 이름 리스트를 구한다. \n",
    "\n",
    "names=[]\n",
    "for xx in orders:\n",
    "    name_order=xx.split()\n",
    "    names.append(name_order[0])\n",
    "names=list(set(names))\n",
    "\n",
    "\n",
    "# 이름과 메뉴를 가지고 리스트 만든후에 중복을 제거하고 메뉴 이름과 갯수로 Tuple로 리스트 작성\n",
    "name_menu_cnt=[]\n",
    "for name in names:\n",
    "    order_list=[]\n",
    "    for xx in orders :\n",
    "        order = xx.split()\n",
    "        if name == order[0] :\n",
    "            for k in range(1, len(order)):\n",
    "                order_list.append(order[k])\n",
    "            print( name, order_list)\n",
    "    name_menu_cnt.append((name,len(set(order_list)))) \n",
    "print(name_menu_cnt)    \n",
    "\n",
    "# 동점자 처리하기    \n",
    "name_menu_cnt.sort(key=lambda x: (x[1], x[0]),  reverse=True)\n",
    "top=0\n",
    "top_order=[]\n",
    "for xx in name_menu_cnt:\n",
    "    if xx[1] >=top :\n",
    "        top_order.append(xx[0])\n",
    "        top=xx[1]\n",
    "        \n",
    "top_order.sort()\n",
    "print(top_order)"
   ]
  },
  {
   "cell_type": "code",
   "execution_count": 47,
   "metadata": {},
   "outputs": [],
   "source": [
    "name_menu_cnt.sort(key=lambda x: (x[1], x[0]))  "
   ]
  },
  {
   "cell_type": "code",
   "execution_count": 40,
   "metadata": {},
   "outputs": [
    {
     "name": "stdout",
     "output_type": "stream",
     "text": [
      "alex ['pizza', 'pasta']\n",
      "alex ['pizza', 'pasta', 'pizza', 'pizza']\n",
      "alex ['pizza', 'pasta', 'pizza', 'pizza', 'noodle']\n",
      "bob ['pasta']\n",
      "bob ['pasta', 'noodle', 'sandwith', 'pasta']\n",
      "bob ['pasta', 'noodle', 'sandwith', 'pasta', 'steak', 'noodle']\n"
     ]
    }
   ],
   "source": []
  },
  {
   "cell_type": "code",
   "execution_count": 41,
   "metadata": {},
   "outputs": [
    {
     "data": {
      "text/plain": [
       "[('alex', 3), ('bob', 4)]"
      ]
     },
     "execution_count": 41,
     "metadata": {},
     "output_type": "execute_result"
    }
   ],
   "source": [
    "name_menu_cnt"
   ]
  },
  {
   "cell_type": "code",
   "execution_count": 23,
   "metadata": {},
   "outputs": [
    {
     "data": {
      "text/plain": [
       "[[]]"
      ]
     },
     "execution_count": 23,
     "metadata": {},
     "output_type": "execute_result"
    }
   ],
   "source": [
    "menus"
   ]
  },
  {
   "cell_type": "code",
   "execution_count": 24,
   "metadata": {},
   "outputs": [
    {
     "name": "stdout",
     "output_type": "stream",
     "text": [
      "alex ['pizza', 'pasta', 'steak']\n",
      "alex ['pizza', 'pasta', 'steak', 'pizza', 'pasta', 'steak']\n",
      "choi ['pizza', 'sandwith', 'pizza']\n",
      "bob ['noodle', 'sandwith', 'pasta']\n",
      "['alex', 'bob']\n"
     ]
    }
   ],
   "source": [
    "# orders=[\"alex pizza pasta\", \"alex pizza pizza\", \"alex noodle\",\\\n",
    "#  \"bob pasta\", \"bob noodle sandwith pasta\", \"bob steak noodle\"]\n",
    "\n",
    "orders=['alex pizza pasta steak','bob noodle sandwith pasta','choi pizza sandwith pizza',\\\n",
    "        'alex pizza pasta steak']\n",
    "# 이름 리스트를 구한다. \n",
    "def names_list(orders):\n",
    "    names=[]\n",
    "    for xx in orders:\n",
    "        name_order=xx.split()\n",
    "        names.append(name_order[0])\n",
    "    return list(set(names))\n",
    "\n",
    "names=names_list(orders)\n",
    "\n",
    "# 이름과 메뉴를 가지고 리스트 만든후에 중복을 제거하고 메뉴 이름과 갯수로 Tuple로 리스트 작성\n",
    "name_menu_cnt=[]\n",
    "for name in names:\n",
    "    order_list=[]\n",
    "    for xx in orders :\n",
    "        order = xx.split()\n",
    "        if name == order[0] :\n",
    "            for k in range(1, len(order)):\n",
    "                order_list.append(order[k])\n",
    "            print( name, order_list)\n",
    "    name_menu_cnt.append((name,len(set(order_list))))     \n",
    "\n",
    "# 메뉴 많은 순으로 소트 하기    \n",
    "name_menu_cnt.sort(key=lambda x: (x[1], x[0]),  reverse=True)\n",
    "# 동점자 처리하기\n",
    "top=0\n",
    "top_order=[]\n",
    "for xx in name_menu_cnt:\n",
    "    if xx[1] >=top :\n",
    "        top_order.append(xx[0])\n",
    "        top=xx[1]\n",
    "        \n",
    "top_order.sort()\n",
    "print(top_order)"
   ]
  },
  {
   "cell_type": "code",
   "execution_count": 31,
   "metadata": {},
   "outputs": [],
   "source": [
    "# 이요한 프로그램 소스\n",
    "\n",
    "def menu_list_func(lis):\n",
    "    name_menu = {}\n",
    "    for ele in lis:\n",
    "        menus = ele.split()\n",
    "        name_1 = menus[0]\n",
    "        if not name_menu.get(name_1):\n",
    "            name_menu[name_1] = [] # 일단 이름이 없으면 리스트 추가. \n",
    "        for menu in menus[1:]: #첫 번째부터...\n",
    "            if menu not in name_menu[name_1]: #메뉴가 없으면...\n",
    "                name_menu[name_1].append(menu)\n",
    "    \n",
    "    name_list =[] #빈 리스트로 정의\n",
    "    cnt = 0\n",
    "    for name_1 in name_menu.keys(): #이름으로 부를 때\n",
    "        if cnt< len(name_menu[name_1]):\n",
    "            cnt = len(name_menu[name_1])\n",
    "            name_list = [name_1]\n",
    "        elif cnt == len(name_menu[name_1]):\n",
    "            name_list.append(name_1)\n",
    "    \n",
    "    return name_menu, name_list\n",
    "\n",
    "orders1=[\"alex pizza pasta\", \"alex pizza pizza\", \"alex noodle\",\\\n",
    " \"bob pasta\", \"bob noodle sandwith pasta\", \"bob steak noodle\"]\n",
    "\n",
    "orders2=['alex pizza pasta steak',\"bob noodle sandwith pasta\",'choi pizza sandwith pizza',\\\n",
    "        'alex pizza pasta steak']\n",
    "\n",
    "a, b =menu_list_func(orders1)\n",
    "\n"
   ]
  },
  {
   "cell_type": "code",
   "execution_count": 32,
   "metadata": {},
   "outputs": [
    {
     "data": {
      "text/plain": [
       "{'alex': ['pizza', 'pasta', 'noodle'],\n",
       " 'bob': ['pasta', 'noodle', 'sandwith', 'steak']}"
      ]
     },
     "execution_count": 32,
     "metadata": {},
     "output_type": "execute_result"
    }
   ],
   "source": [
    "a"
   ]
  },
  {
   "cell_type": "code",
   "execution_count": 33,
   "metadata": {},
   "outputs": [
    {
     "data": {
      "text/plain": [
       "['bob']"
      ]
     },
     "execution_count": 33,
     "metadata": {},
     "output_type": "execute_result"
    }
   ],
   "source": [
    "b"
   ]
  },
  {
   "cell_type": "code",
   "execution_count": null,
   "metadata": {},
   "outputs": [],
   "source": []
  }
 ],
 "metadata": {
  "kernelspec": {
   "display_name": "Python 3",
   "language": "python",
   "name": "python3"
  },
  "language_info": {
   "codemirror_mode": {
    "name": "ipython",
    "version": 3
   },
   "file_extension": ".py",
   "mimetype": "text/x-python",
   "name": "python",
   "nbconvert_exporter": "python",
   "pygments_lexer": "ipython3",
   "version": "3.7.9"
  }
 },
 "nbformat": 4,
 "nbformat_minor": 2
}
