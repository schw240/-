{
 "cells": [
  {
   "cell_type": "code",
   "execution_count": 18,
   "metadata": {},
   "outputs": [],
   "source": [
    "f = open('./실습데이터/봉우리in1.txt', 'r')\n",
    "n = int(f.readline())\n",
    "a = [list(map(int, f.readline().split())) for _ in range(n)]\n",
    "a.insert(0,[0]*n)\n",
    "a.append([0]*n)\n",
    "for x in a:\n",
    "    x.insert(0,0)\n",
    "    x.append(0)"
   ]
  },
  {
   "cell_type": "code",
   "execution_count": 41,
   "metadata": {},
   "outputs": [
    {
     "data": {
      "text/plain": [
       "7"
      ]
     },
     "execution_count": 41,
     "metadata": {},
     "output_type": "execute_result"
    }
   ],
   "source": [
    "n"
   ]
  },
  {
   "cell_type": "code",
   "execution_count": 43,
   "metadata": {},
   "outputs": [
    {
     "name": "stdout",
     "output_type": "stream",
     "text": [
      "11\n"
     ]
    }
   ],
   "source": [
    "def check_bong(matrix):\n",
    "    cnt = 0\n",
    "    dx = [-1, 0, 1, 0]\n",
    "    dy = [0, 1, 0, -1]\n",
    "    \n",
    "    # 상, 하 , 좌, 우 탐색하기\n",
    "    # matrix[i+1][j] matrix[i-1][j]  matrix[i][j+1]  matrix[i][j-1]\n",
    "    for i in range(1, len(matrix)-1):\n",
    "        for j in range(1, len(matrix)-1):\n",
    "            if all(matrix[i][j] > matrix[i+dx[k]][j+dy[k]] for k in range(4)):\n",
    "                cnt += 1\n",
    "    return cnt\n",
    "\n",
    "print(check_bong(a))\n",
    "                "
   ]
  },
  {
   "cell_type": "code",
   "execution_count": 46,
   "metadata": {},
   "outputs": [
    {
     "name": "stdout",
     "output_type": "stream",
     "text": [
      "11\n"
     ]
    }
   ],
   "source": [
    "def check_bong2(matrix):\n",
    "    cnt = 0\n",
    "    \n",
    "    # 상, 하 , 좌, 우 탐색하기\n",
    "    # matrix[i+1][j] matrix[i-1][j]  matrix[i][j+1]  matrix[i][j-1]\n",
    "    for i in range(1, len(matrix)-1):\n",
    "        for j in range(1, len(matrix)-1):\n",
    "            if (matrix[i][j] > matrix[i-1][j] and \\\n",
    "                matrix[i][j] > matrix[i+1][j] and \\\n",
    "                matrix[i][j] > matrix[i][j+1] and \\\n",
    "                matrix[i][j] > matrix[i][j-1]):\n",
    "                cnt += 1\n",
    "    return cnt\n",
    "print(check_bong2(a))\n",
    "                "
   ]
  },
  {
   "cell_type": "code",
   "execution_count": null,
   "metadata": {},
   "outputs": [],
   "source": []
  }
 ],
 "metadata": {
  "kernelspec": {
   "display_name": "Python 3",
   "language": "python",
   "name": "python3"
  },
  "language_info": {
   "codemirror_mode": {
    "name": "ipython",
    "version": 3
   },
   "file_extension": ".py",
   "mimetype": "text/x-python",
   "name": "python",
   "nbconvert_exporter": "python",
   "pygments_lexer": "ipython3",
   "version": "3.8.5"
  }
 },
 "nbformat": 4,
 "nbformat_minor": 4
}
