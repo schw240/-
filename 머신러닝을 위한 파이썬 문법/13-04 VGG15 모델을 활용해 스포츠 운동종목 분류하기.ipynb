{
 "cells": [
  {
   "cell_type": "code",
   "execution_count": 14,
   "metadata": {},
   "outputs": [
    {
     "data": {
      "text/plain": [
       "'2.3.0'"
      ]
     },
     "execution_count": 14,
     "metadata": {},
     "output_type": "execute_result"
    }
   ],
   "source": [
    "import keras\n",
    "keras.__version__"
   ]
  },
  {
   "cell_type": "code",
   "execution_count": 18,
   "metadata": {},
   "outputs": [],
   "source": [
    "from keras.applications import VGG16"
   ]
  },
  {
   "cell_type": "code",
   "execution_count": 26,
   "metadata": {},
   "outputs": [
    {
     "name": "stdout",
     "output_type": "stream",
     "text": [
      "Downloading data from https://github.com/fchollet/deep-learning-models/releases/download/v0.1/vgg16_weights_tf_dim_ordering_tf_kernels_notop.h5\n",
      "58892288/58889256 [==============================] - 27s 0us/step\n"
     ]
    }
   ],
   "source": [
    "conv_base = VGG16(weights = 'imagenet',\n",
    "                 include_top = False,\n",
    "                 input_shape = (150,150,3))"
   ]
  },
  {
   "cell_type": "code",
   "execution_count": 27,
   "metadata": {},
   "outputs": [],
   "source": [
    "import os\n",
    "import numpy as np\n",
    "from keras.preprocessing.image import ImageDataGenerator"
   ]
  },
  {
   "cell_type": "code",
   "execution_count": 28,
   "metadata": {},
   "outputs": [],
   "source": [
    "base_dir = 'C:/Users/694/07.27-12.1_CLOUD/머신러닝을 위한 파이썬 문법/실습데이터/sports'\n",
    "train_dir = os.path.join(base_dir, 'train')\n",
    "validation_dir = os.path.join(base_dir, 'validation')\n",
    "\n",
    "datagen = ImageDataGenerator(rescale=1./255)\n",
    "batch_size = 20"
   ]
  },
  {
   "cell_type": "code",
   "execution_count": 29,
   "metadata": {},
   "outputs": [],
   "source": [
    "from keras import models, layers, optimizers"
   ]
  },
  {
   "cell_type": "code",
   "execution_count": 30,
   "metadata": {},
   "outputs": [],
   "source": [
    "model = models.Sequential()\n",
    "model.add(conv_base)\n",
    "model.add(layers.Flatten())\n",
    "model.add(layers.Dense(255,activation='relu'))\n",
    "model.add(layers.Dense(4, activation='softmax'))"
   ]
  },
  {
   "cell_type": "code",
   "execution_count": 31,
   "metadata": {},
   "outputs": [],
   "source": [
    "from keras.preprocessing.image import ImageDataGenerator\n",
    "train_datagen = ImageDataGenerator(\n",
    "        rescale=1./255,\n",
    "        rotation_range=20,\n",
    "        width_shift_range=0.1,\n",
    "        height_shift_range=0.1,\n",
    "        shear_range=0.1,\n",
    "        zoom_range=0.1,\n",
    "        horizontal_flip=True,\n",
    "        fill_mode='nearest')"
   ]
  },
  {
   "cell_type": "code",
   "execution_count": 32,
   "metadata": {},
   "outputs": [],
   "source": [
    "test_datagen = ImageDataGenerator(rescale=1./255)"
   ]
  },
  {
   "cell_type": "code",
   "execution_count": 36,
   "metadata": {},
   "outputs": [
    {
     "name": "stdout",
     "output_type": "stream",
     "text": [
      "Found 600 images belonging to 4 classes.\n",
      "Found 200 images belonging to 4 classes.\n"
     ]
    }
   ],
   "source": [
    "train_generator = train_datagen.flow_from_directory(\n",
    "    train_dir,\n",
    "    target_size=(150,150),\n",
    "    batch_size=20,\n",
    "    class_mode='categorical')\n",
    "\n",
    "validation_generator = test_datagen.flow_from_directory(\n",
    "    validation_dir,\n",
    "    target_size=(150,150),\n",
    "    batch_size=20,\n",
    "    class_mode='categorical')"
   ]
  },
  {
   "cell_type": "code",
   "execution_count": 37,
   "metadata": {},
   "outputs": [],
   "source": [
    "model.compile(loss = 'categorical_crossentropy',\n",
    "              optimizer = optimizers.RMSprop(lr=2e-5),\n",
    "              metrics=['acc'])"
   ]
  },
  {
   "cell_type": "code",
   "execution_count": null,
   "metadata": {},
   "outputs": [
    {
     "name": "stdout",
     "output_type": "stream",
     "text": [
      "Epoch 1/30\n",
      " - 705s - loss: 0.6770 - acc: 0.7385 - val_loss: 0.6067 - val_acc: 0.7650\n",
      "Epoch 2/30\n",
      " - 691s - loss: 0.2448 - acc: 0.9160 - val_loss: 0.6296 - val_acc: 0.8750\n",
      "Epoch 3/30\n",
      " - 653s - loss: 0.1198 - acc: 0.9590 - val_loss: 0.4370 - val_acc: 0.8900\n",
      "Epoch 4/30\n",
      " - 644s - loss: 0.0828 - acc: 0.9710 - val_loss: 0.1103 - val_acc: 0.8950\n",
      "Epoch 5/30\n",
      " - 1867s - loss: 0.0651 - acc: 0.9835 - val_loss: 0.3760 - val_acc: 0.8100\n",
      "Epoch 6/30\n",
      " - 653s - loss: 0.0333 - acc: 0.9890 - val_loss: 0.2885 - val_acc: 0.9100\n",
      "Epoch 7/30\n",
      " - 661s - loss: 0.0374 - acc: 0.9910 - val_loss: 0.3305 - val_acc: 0.9200\n",
      "Epoch 8/30\n",
      " - 651s - loss: 0.0352 - acc: 0.9895 - val_loss: 0.8538 - val_acc: 0.8250\n",
      "Epoch 9/30\n",
      " - 650s - loss: 0.0243 - acc: 0.9925 - val_loss: 0.0526 - val_acc: 0.9100\n",
      "Epoch 10/30\n",
      " - 668s - loss: 0.0131 - acc: 0.9965 - val_loss: 0.2860 - val_acc: 0.8850\n",
      "Epoch 11/30\n",
      " - 701s - loss: 0.0250 - acc: 0.9925 - val_loss: 1.0722 - val_acc: 0.9000\n",
      "Epoch 12/30\n",
      " - 677s - loss: 0.0174 - acc: 0.9965 - val_loss: 0.0946 - val_acc: 0.9050\n",
      "Epoch 13/30\n",
      " - 713s - loss: 0.0125 - acc: 0.9955 - val_loss: 0.1510 - val_acc: 0.9200\n",
      "Epoch 14/30\n",
      " - 713s - loss: 0.0217 - acc: 0.9945 - val_loss: 0.1738 - val_acc: 0.9300\n",
      "Epoch 15/30\n",
      " - 713s - loss: 0.0233 - acc: 0.9950 - val_loss: 0.0577 - val_acc: 0.9100\n",
      "Epoch 16/30\n",
      " - 718s - loss: 0.0032 - acc: 0.9985 - val_loss: 1.4166 - val_acc: 0.9050\n",
      "Epoch 17/30\n",
      " - 692s - loss: 0.0114 - acc: 0.9965 - val_loss: 0.1277 - val_acc: 0.9300\n",
      "Epoch 18/30\n",
      " - 652s - loss: 0.0088 - acc: 0.9965 - val_loss: 0.7680 - val_acc: 0.9100\n",
      "Epoch 19/30\n",
      " - 713s - loss: 0.0225 - acc: 0.9950 - val_loss: 0.0016 - val_acc: 0.9250\n",
      "Epoch 20/30\n"
     ]
    }
   ],
   "source": [
    "history = model.fit_generator(\n",
    "    train_generator,\n",
    "    steps_per_epoch=100,\n",
    "    epochs=30,\n",
    "    validation_data = validation_generator,\n",
    "    validation_steps=50,\n",
    "    verbose=2)"
   ]
  },
  {
   "cell_type": "code",
   "execution_count": null,
   "metadata": {},
   "outputs": [],
   "source": []
  }
 ],
 "metadata": {
  "kernelspec": {
   "display_name": "Python 3",
   "language": "python",
   "name": "python3"
  },
  "language_info": {
   "codemirror_mode": {
    "name": "ipython",
    "version": 3
   },
   "file_extension": ".py",
   "mimetype": "text/x-python",
   "name": "python",
   "nbconvert_exporter": "python",
   "pygments_lexer": "ipython3",
   "version": "3.7.9"
  }
 },
 "nbformat": 4,
 "nbformat_minor": 4
}
