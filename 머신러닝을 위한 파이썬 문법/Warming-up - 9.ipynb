{
 "cells": [
  {
   "cell_type": "code",
   "execution_count": 48,
   "metadata": {},
   "outputs": [],
   "source": [
    "def select_common(first, second):\n",
    "    #ans = []\n",
    "    s1 = set(first.replace(' ','').split(','))\n",
    "    s2 = set(second.replace(' ','').split(','))\n",
    "    #ans.append(s1&s2)\n",
    "    cset = s1&s2\n",
    "    #sorted를 하면 list로 바뀜\n",
    "    return ','.join(sorted(cset))"
   ]
  },
  {
   "cell_type": "code",
   "execution_count": 50,
   "metadata": {},
   "outputs": [
    {
     "name": "stdout",
     "output_type": "stream",
     "text": [
      "six,two\n",
      "World\n",
      "lotte,samsung\n"
     ]
    }
   ],
   "source": [
    "print(select_common(\"one,two,three, six\", \"two,five,six\"))\n",
    "print(select_common(\"Hello, World\",\"The, World, is , very, beautiful\"))\n",
    "print(select_common(\"samsung, lg, lotte, six\", \"doosan, sk, samsung, lotte\"))"
   ]
  },
  {
   "cell_type": "code",
   "execution_count": 53,
   "metadata": {},
   "outputs": [],
   "source": [
    "#강사님 방법\n",
    "def select_common2(first, second):\n",
    "    first_set, second_set = set(first.replace(' ','').split(',')), set(second.replace(' ','').split(','))\n",
    "    return ','.join(sorted(first_set & second_set))"
   ]
  },
  {
   "cell_type": "code",
   "execution_count": 54,
   "metadata": {},
   "outputs": [
    {
     "name": "stdout",
     "output_type": "stream",
     "text": [
      "six,two\n"
     ]
    }
   ],
   "source": [
    "print(select_common2(\"one,two,three, six\", \"two,five,six\"))"
   ]
  },
  {
   "cell_type": "code",
   "execution_count": null,
   "metadata": {},
   "outputs": [],
   "source": []
  }
 ],
 "metadata": {
  "kernelspec": {
   "display_name": "Python 3",
   "language": "python",
   "name": "python3"
  },
  "language_info": {
   "codemirror_mode": {
    "name": "ipython",
    "version": 3
   },
   "file_extension": ".py",
   "mimetype": "text/x-python",
   "name": "python",
   "nbconvert_exporter": "python",
   "pygments_lexer": "ipython3",
   "version": "3.7.4"
  }
 },
 "nbformat": 4,
 "nbformat_minor": 4
}
