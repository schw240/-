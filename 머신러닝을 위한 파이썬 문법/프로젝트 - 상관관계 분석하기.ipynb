{
 "cells": [
  {
   "cell_type": "code",
   "execution_count": 8,
   "metadata": {},
   "outputs": [],
   "source": [
    "import numpy as np\n",
    "import pandas as pd\n",
    "import seaborn as sns\n",
    "import matplotlib.pyplot as plt\n",
    "import matplotlib\n",
    "from matplotlib import font_manager, rc\n",
    "import platform\n",
    "sns.set(style='darkgrid')\n",
    "\n",
    "if platform.system() == 'Windows':\n",
    "# 윈도우인 경우\n",
    "    font_name = font_manager.FontProperties(fname=\"c:/Windows/Fonts/malgun.ttf\").get_name()\n",
    "    rc('font', family=font_name)\n",
    "else:    \n",
    "# Mac 인 경우\n",
    "    rc('font', family='AppleGothic')\n",
    "rc('font', family=font_name)\n",
    "matplotlib.rcParams['axes.unicode_minus'] = False\n",
    "%matplotlib inline\n",
    "\n",
    "import warnings\n",
    "warnings.filterwarnings('ignore')\n",
    "plt.style.use('ggplot')"
   ]
  },
  {
   "cell_type": "code",
   "execution_count": 32,
   "metadata": {},
   "outputs": [],
   "source": [
    "df_money = pd.read_csv('./실습데이터/환율_종합.csv', parse_dates=['일자'], encoding='cp949')"
   ]
  },
  {
   "cell_type": "code",
   "execution_count": 35,
   "metadata": {},
   "outputs": [
    {
     "data": {
      "text/html": [
       "<div>\n",
       "<style scoped>\n",
       "    .dataframe tbody tr th:only-of-type {\n",
       "        vertical-align: middle;\n",
       "    }\n",
       "\n",
       "    .dataframe tbody tr th {\n",
       "        vertical-align: top;\n",
       "    }\n",
       "\n",
       "    .dataframe thead th {\n",
       "        text-align: right;\n",
       "    }\n",
       "</style>\n",
       "<table border=\"1\" class=\"dataframe\">\n",
       "  <thead>\n",
       "    <tr style=\"text-align: right;\">\n",
       "      <th></th>\n",
       "      <th>위안</th>\n",
       "    </tr>\n",
       "  </thead>\n",
       "  <tbody>\n",
       "    <tr>\n",
       "      <th>위안</th>\n",
       "      <td>1.0</td>\n",
       "    </tr>\n",
       "  </tbody>\n",
       "</table>\n",
       "</div>"
      ],
      "text/plain": [
       "     위안\n",
       "위안  1.0"
      ]
     },
     "execution_count": 35,
     "metadata": {},
     "output_type": "execute_result"
    }
   ],
   "source": [
    "df_money.corr(method='kendall')"
   ]
  },
  {
   "cell_type": "code",
   "execution_count": 11,
   "metadata": {},
   "outputs": [],
   "source": [
    "#달러 위안 엔화 유로중 가장 달러에 영향을 끼치는 데이터 상관분석"
   ]
  },
  {
   "cell_type": "code",
   "execution_count": 36,
   "metadata": {},
   "outputs": [],
   "source": [
    "df_money = df_money[['일자', '달러', '엔화', '유로']]"
   ]
  },
  {
   "cell_type": "code",
   "execution_count": 45,
   "metadata": {
    "scrolled": false
   },
   "outputs": [],
   "source": [
    "df_new = df_money[:-4]"
   ]
  },
  {
   "cell_type": "code",
   "execution_count": 49,
   "metadata": {},
   "outputs": [],
   "source": [
    "df_new = df_new.dropna()"
   ]
  },
  {
   "cell_type": "code",
   "execution_count": 52,
   "metadata": {},
   "outputs": [
    {
     "name": "stdout",
     "output_type": "stream",
     "text": [
      "<class 'pandas.core.frame.DataFrame'>\n",
      "Int64Index: 6814 entries, 7191 to 14004\n",
      "Data columns (total 4 columns):\n",
      " #   Column  Non-Null Count  Dtype \n",
      "---  ------  --------------  ----- \n",
      " 0   일자      6814 non-null   object\n",
      " 1   달러      6814 non-null   object\n",
      " 2   엔화      6814 non-null   object\n",
      " 3   유로      6814 non-null   object\n",
      "dtypes: object(4)\n",
      "memory usage: 266.2+ KB\n"
     ]
    }
   ],
   "source": [
    "df_new.info()"
   ]
  },
  {
   "cell_type": "code",
   "execution_count": 54,
   "metadata": {},
   "outputs": [],
   "source": [
    "df_new['엔화'] = df_new['엔화'].str.replace(',', '')\n",
    "df_new['달러'] = df_new['달러'].str.replace(',', '')\n",
    "df_new['유로'] = df_new['유로'].str.replace(',', '')"
   ]
  },
  {
   "cell_type": "code",
   "execution_count": 55,
   "metadata": {},
   "outputs": [],
   "source": [
    "df_new['엔화'] = pd.to_numeric(df_new['엔화'])\n",
    "df_new['달러'] = pd.to_numeric(df_new['달러'])\n",
    "df_new['유로'] = pd.to_numeric(df_new['유로'])"
   ]
  },
  {
   "cell_type": "code",
   "execution_count": 58,
   "metadata": {
    "scrolled": true
   },
   "outputs": [
    {
     "data": {
      "text/html": [
       "<div>\n",
       "<style scoped>\n",
       "    .dataframe tbody tr th:only-of-type {\n",
       "        vertical-align: middle;\n",
       "    }\n",
       "\n",
       "    .dataframe tbody tr th {\n",
       "        vertical-align: top;\n",
       "    }\n",
       "\n",
       "    .dataframe thead th {\n",
       "        text-align: right;\n",
       "    }\n",
       "</style>\n",
       "<table border=\"1\" class=\"dataframe\">\n",
       "  <thead>\n",
       "    <tr style=\"text-align: right;\">\n",
       "      <th></th>\n",
       "      <th>달러</th>\n",
       "      <th>엔화</th>\n",
       "      <th>유로</th>\n",
       "    </tr>\n",
       "  </thead>\n",
       "  <tbody>\n",
       "    <tr>\n",
       "      <th>달러</th>\n",
       "      <td>1.000000</td>\n",
       "      <td>0.667841</td>\n",
       "      <td>0.637045</td>\n",
       "    </tr>\n",
       "    <tr>\n",
       "      <th>엔화</th>\n",
       "      <td>0.667841</td>\n",
       "      <td>1.000000</td>\n",
       "      <td>0.759520</td>\n",
       "    </tr>\n",
       "    <tr>\n",
       "      <th>유로</th>\n",
       "      <td>0.637045</td>\n",
       "      <td>0.759520</td>\n",
       "      <td>1.000000</td>\n",
       "    </tr>\n",
       "  </tbody>\n",
       "</table>\n",
       "</div>"
      ],
      "text/plain": [
       "          달러        엔화        유로\n",
       "달러  1.000000  0.667841  0.637045\n",
       "엔화  0.667841  1.000000  0.759520\n",
       "유로  0.637045  0.759520  1.000000"
      ]
     },
     "execution_count": 58,
     "metadata": {},
     "output_type": "execute_result"
    }
   ],
   "source": [
    "df_new.corr()"
   ]
  },
  {
   "cell_type": "code",
   "execution_count": 62,
   "metadata": {
    "scrolled": false
   },
   "outputs": [
    {
     "data": {
      "text/plain": [
       "<AxesSubplot:>"
      ]
     },
     "execution_count": 62,
     "metadata": {},
     "output_type": "execute_result"
    },
    {
     "data": {
      "image/png": "[encoded data removed]",
      "text/plain": [
       "<Figure size 1080x1080 with 2 Axes>"
      ]
     },
     "metadata": {},
     "output_type": "display_data"
    }
   ],
   "source": [
    "plt.figure(figsize=(15,15))\n",
    "sns.heatmap(data = df_new.corr(), annot=True, \n",
    "fmt = '.2f', linewidths=.5, cmap='Blues')"
   ]
  },
  {
   "cell_type": "code",
   "execution_count": null,
   "metadata": {},
   "outputs": [],
   "source": []
  },
  {
   "cell_type": "code",
   "execution_count": null,
   "metadata": {},
   "outputs": [],
   "source": []
  },
  {
   "cell_type": "code",
   "execution_count": null,
   "metadata": {},
   "outputs": [],
   "source": []
  },
  {
   "cell_type": "code",
   "execution_count": null,
   "metadata": {},
   "outputs": [],
   "source": []
  },
  {
   "cell_type": "code",
   "execution_count": 63,
   "metadata": {},
   "outputs": [],
   "source": [
    "#이제 금, 유가, 나스닥, 다우존슨, S&P와 달러의 corr확인(종가로만)\n",
    "#데이터프레임 합치기"
   ]
  },
  {
   "cell_type": "code",
   "execution_count": 65,
   "metadata": {},
   "outputs": [],
   "source": [
    "oil = pd.read_csv('./실습데이터/oil.csv', parse_dates = ['Date'], encoding='cp949')\n",
    "gold = pd.read_csv('./실습데이터/gold.csv', parse_dates=['Date'], encoding='cp949')\n",
    "nasdaq = pd.read_csv('./실습데이터/nasdaq.csv', parse_dates=['Date'], encoding='cp949')\n",
    "dow = pd.read_csv('./실습데이터/dow.csv', parse_dates=['Date'], encoding='cp949')\n",
    "snp = pd.read_csv('./실습데이터/S&P500.csv', parse_dates=['Date'], encoding='cp949')\n",
    "dollar = pd.read_csv('./실습데이터/환율_종합.csv', parse_dates=['일자'], encoding='cp949')"
   ]
  },
  {
   "cell_type": "code",
   "execution_count": 66,
   "metadata": {},
   "outputs": [],
   "source": [
    "#dollar 데이터프레임에 나머지 데이터프레임들 추가해주기 및 날자 정리"
   ]
  },
  {
   "cell_type": "code",
   "execution_count": 68,
   "metadata": {},
   "outputs": [],
   "source": [
    "dollar = dollar[:-4]"
   ]
  },
  {
   "cell_type": "code",
   "execution_count": 71,
   "metadata": {},
   "outputs": [],
   "source": [
    "dollar = dollar[['일자','달러']]"
   ]
  },
  {
   "cell_type": "code",
   "execution_count": 74,
   "metadata": {},
   "outputs": [],
   "source": [
    "oil = oil[['Date', 'Close']]\n",
    "gold = gold[['Date', 'Close']]\n",
    "nasdaq = nasdaq[['Date', 'Close']]\n",
    "dow = dow[['Date', 'Close']]\n",
    "snp = snp[['Date', 'Close']]"
   ]
  },
  {
   "cell_type": "code",
   "execution_count": 80,
   "metadata": {},
   "outputs": [],
   "source": [
    "df_dollar = dollar.set_index('일자')"
   ]
  },
  {
   "cell_type": "code",
   "execution_count": 84,
   "metadata": {},
   "outputs": [],
   "source": [
    "df_oil = oil.set_index('Date')\n",
    "df_gold = gold.set_index('Date')\n",
    "df_nasdaq =  nasdaq.set_index('Date')\n",
    "df_dow = dow.set_index('Date')\n",
    "df_snp = snp.set_index('Date')"
   ]
  },
  {
   "cell_type": "code",
   "execution_count": 92,
   "metadata": {},
   "outputs": [],
   "source": [
    "df_oil.rename(columns = {'Close' : 'oil_close'}, inplace = True)"
   ]
  },
  {
   "cell_type": "code",
   "execution_count": 93,
   "metadata": {},
   "outputs": [],
   "source": [
    "df_gold.rename(columns = {'Close' : 'gold_close'}, inplace = True)\n",
    "df_nasdaq.rename(columns = {'Close' : 'nasdaq_close'}, inplace = True)\n",
    "df_dow.rename(columns = {'Close' : 'dow_close'}, inplace = True)\n",
    "df_snp.rename(columns = {'Close' : 'snp_close'}, inplace = True)"
   ]
  },
  {
   "cell_type": "code",
   "execution_count": 91,
   "metadata": {
    "scrolled": true
   },
   "outputs": [],
   "source": [
    "#종가 이름이 전부 똑같아서 바꿔줘야함"
   ]
  },
  {
   "cell_type": "code",
   "execution_count": 94,
   "metadata": {},
   "outputs": [],
   "source": [
    "df_dollar = df_dollar.join(df_oil)\n",
    "df_dollar = df_dollar.join(df_gold)\n",
    "df_dollar = df_dollar.join(df_nasdaq)\n",
    "df_dollar = df_dollar.join(df_dow)\n",
    "df_dollar = df_dollar.join(df_snp)"
   ]
  },
  {
   "cell_type": "code",
   "execution_count": 96,
   "metadata": {},
   "outputs": [],
   "source": [
    "df_dollar = df_dollar.drop(['Close'], axis=1)"
   ]
  },
  {
   "cell_type": "code",
   "execution_count": 100,
   "metadata": {},
   "outputs": [],
   "source": [
    "df_dollar = df_dollar.dropna()"
   ]
  },
  {
   "cell_type": "code",
   "execution_count": 113,
   "metadata": {},
   "outputs": [],
   "source": [
    "df_dollar = df_dollar.reset_index()"
   ]
  },
  {
   "cell_type": "code",
   "execution_count": 116,
   "metadata": {},
   "outputs": [],
   "source": [
    "df_dollar.rename(columns = {'달러' : 'dollar'}, inplace = True)"
   ]
  },
  {
   "cell_type": "code",
   "execution_count": 121,
   "metadata": {},
   "outputs": [],
   "source": [
    "df_dollar['dollar'] = df_dollar['dollar'].str.replace(',', '')\n",
    "df_dollar['dollar'] = pd.to_numeric(df_dollar['dollar'])"
   ]
  },
  {
   "cell_type": "code",
   "execution_count": 122,
   "metadata": {},
   "outputs": [
    {
     "data": {
      "text/html": [
       "<div>\n",
       "<style scoped>\n",
       "    .dataframe tbody tr th:only-of-type {\n",
       "        vertical-align: middle;\n",
       "    }\n",
       "\n",
       "    .dataframe tbody tr th {\n",
       "        vertical-align: top;\n",
       "    }\n",
       "\n",
       "    .dataframe thead th {\n",
       "        text-align: right;\n",
       "    }\n",
       "</style>\n",
       "<table border=\"1\" class=\"dataframe\">\n",
       "  <thead>\n",
       "    <tr style=\"text-align: right;\">\n",
       "      <th></th>\n",
       "      <th>일자</th>\n",
       "      <th>dollar</th>\n",
       "      <th>oil_close</th>\n",
       "      <th>gold_close</th>\n",
       "      <th>nasdaq_close</th>\n",
       "      <th>dow_close</th>\n",
       "      <th>snp_close</th>\n",
       "    </tr>\n",
       "  </thead>\n",
       "  <tbody>\n",
       "    <tr>\n",
       "      <th>0</th>\n",
       "      <td>2000-08-31</td>\n",
       "      <td>1109</td>\n",
       "      <td>33.099998</td>\n",
       "      <td>278.299988</td>\n",
       "      <td>4206.350098</td>\n",
       "      <td>11215.099609</td>\n",
       "      <td>1517.680054</td>\n",
       "    </tr>\n",
       "    <tr>\n",
       "      <th>1</th>\n",
       "      <td>2000-09-01</td>\n",
       "      <td>1109</td>\n",
       "      <td>33.380001</td>\n",
       "      <td>277.000000</td>\n",
       "      <td>4234.330078</td>\n",
       "      <td>11238.780273</td>\n",
       "      <td>1520.770020</td>\n",
       "    </tr>\n",
       "    <tr>\n",
       "      <th>2</th>\n",
       "      <td>2000-09-05</td>\n",
       "      <td>1105</td>\n",
       "      <td>33.799999</td>\n",
       "      <td>275.799988</td>\n",
       "      <td>4143.180176</td>\n",
       "      <td>11260.610352</td>\n",
       "      <td>1507.079956</td>\n",
       "    </tr>\n",
       "    <tr>\n",
       "      <th>3</th>\n",
       "      <td>2000-09-06</td>\n",
       "      <td>1105</td>\n",
       "      <td>34.950001</td>\n",
       "      <td>274.200012</td>\n",
       "      <td>4013.340088</td>\n",
       "      <td>11310.639648</td>\n",
       "      <td>1492.250000</td>\n",
       "    </tr>\n",
       "    <tr>\n",
       "      <th>4</th>\n",
       "      <td>2000-09-07</td>\n",
       "      <td>1106</td>\n",
       "      <td>35.330002</td>\n",
       "      <td>274.000000</td>\n",
       "      <td>4098.350098</td>\n",
       "      <td>11259.870117</td>\n",
       "      <td>1502.510010</td>\n",
       "    </tr>\n",
       "    <tr>\n",
       "      <th>...</th>\n",
       "      <td>...</td>\n",
       "      <td>...</td>\n",
       "      <td>...</td>\n",
       "      <td>...</td>\n",
       "      <td>...</td>\n",
       "      <td>...</td>\n",
       "      <td>...</td>\n",
       "    </tr>\n",
       "    <tr>\n",
       "      <th>4792</th>\n",
       "      <td>2020-10-22</td>\n",
       "      <td>1134</td>\n",
       "      <td>40.639999</td>\n",
       "      <td>1901.099976</td>\n",
       "      <td>11506.009766</td>\n",
       "      <td>28363.660156</td>\n",
       "      <td>3453.489990</td>\n",
       "    </tr>\n",
       "    <tr>\n",
       "      <th>4793</th>\n",
       "      <td>2020-10-23</td>\n",
       "      <td>1134</td>\n",
       "      <td>39.849998</td>\n",
       "      <td>1902.000000</td>\n",
       "      <td>11548.280273</td>\n",
       "      <td>28335.570313</td>\n",
       "      <td>3465.389893</td>\n",
       "    </tr>\n",
       "    <tr>\n",
       "      <th>4794</th>\n",
       "      <td>2020-10-26</td>\n",
       "      <td>1135</td>\n",
       "      <td>38.560001</td>\n",
       "      <td>1902.699951</td>\n",
       "      <td>11358.940430</td>\n",
       "      <td>27685.380859</td>\n",
       "      <td>3400.969971</td>\n",
       "    </tr>\n",
       "    <tr>\n",
       "      <th>4795</th>\n",
       "      <td>2020-10-27</td>\n",
       "      <td>1129</td>\n",
       "      <td>39.570000</td>\n",
       "      <td>1908.800049</td>\n",
       "      <td>11431.349609</td>\n",
       "      <td>27463.189453</td>\n",
       "      <td>3390.679932</td>\n",
       "    </tr>\n",
       "    <tr>\n",
       "      <th>4796</th>\n",
       "      <td>2020-10-28</td>\n",
       "      <td>1128</td>\n",
       "      <td>37.389999</td>\n",
       "      <td>1876.199951</td>\n",
       "      <td>11004.870117</td>\n",
       "      <td>26519.949219</td>\n",
       "      <td>3271.030029</td>\n",
       "    </tr>\n",
       "  </tbody>\n",
       "</table>\n",
       "<p>4797 rows × 7 columns</p>\n",
       "</div>"
      ],
      "text/plain": [
       "             일자  dollar  oil_close   gold_close  nasdaq_close     dow_close  \\\n",
       "0    2000-08-31    1109  33.099998   278.299988   4206.350098  11215.099609   \n",
       "1    2000-09-01    1109  33.380001   277.000000   4234.330078  11238.780273   \n",
       "2    2000-09-05    1105  33.799999   275.799988   4143.180176  11260.610352   \n",
       "3    2000-09-06    1105  34.950001   274.200012   4013.340088  11310.639648   \n",
       "4    2000-09-07    1106  35.330002   274.000000   4098.350098  11259.870117   \n",
       "...         ...     ...        ...          ...           ...           ...   \n",
       "4792 2020-10-22    1134  40.639999  1901.099976  11506.009766  28363.660156   \n",
       "4793 2020-10-23    1134  39.849998  1902.000000  11548.280273  28335.570313   \n",
       "4794 2020-10-26    1135  38.560001  1902.699951  11358.940430  27685.380859   \n",
       "4795 2020-10-27    1129  39.570000  1908.800049  11431.349609  27463.189453   \n",
       "4796 2020-10-28    1128  37.389999  1876.199951  11004.870117  26519.949219   \n",
       "\n",
       "        snp_close  \n",
       "0     1517.680054  \n",
       "1     1520.770020  \n",
       "2     1507.079956  \n",
       "3     1492.250000  \n",
       "4     1502.510010  \n",
       "...           ...  \n",
       "4792  3453.489990  \n",
       "4793  3465.389893  \n",
       "4794  3400.969971  \n",
       "4795  3390.679932  \n",
       "4796  3271.030029  \n",
       "\n",
       "[4797 rows x 7 columns]"
      ]
     },
     "execution_count": 122,
     "metadata": {},
     "output_type": "execute_result"
    }
   ],
   "source": [
    "df_dollar"
   ]
  },
  {
   "cell_type": "code",
   "execution_count": 123,
   "metadata": {},
   "outputs": [
    {
     "data": {
      "text/html": [
       "<div>\n",
       "<style scoped>\n",
       "    .dataframe tbody tr th:only-of-type {\n",
       "        vertical-align: middle;\n",
       "    }\n",
       "\n",
       "    .dataframe tbody tr th {\n",
       "        vertical-align: top;\n",
       "    }\n",
       "\n",
       "    .dataframe thead th {\n",
       "        text-align: right;\n",
       "    }\n",
       "</style>\n",
       "<table border=\"1\" class=\"dataframe\">\n",
       "  <thead>\n",
       "    <tr style=\"text-align: right;\">\n",
       "      <th></th>\n",
       "      <th>dollar</th>\n",
       "      <th>oil_close</th>\n",
       "      <th>gold_close</th>\n",
       "      <th>nasdaq_close</th>\n",
       "      <th>dow_close</th>\n",
       "      <th>snp_close</th>\n",
       "    </tr>\n",
       "  </thead>\n",
       "  <tbody>\n",
       "    <tr>\n",
       "      <th>dollar</th>\n",
       "      <td>1.000000</td>\n",
       "      <td>-0.510811</td>\n",
       "      <td>-0.074807</td>\n",
       "      <td>-0.004212</td>\n",
       "      <td>-0.088298</td>\n",
       "      <td>-0.088962</td>\n",
       "    </tr>\n",
       "    <tr>\n",
       "      <th>oil_close</th>\n",
       "      <td>-0.510811</td>\n",
       "      <td>1.000000</td>\n",
       "      <td>0.517632</td>\n",
       "      <td>-0.059535</td>\n",
       "      <td>0.008026</td>\n",
       "      <td>-0.031581</td>\n",
       "    </tr>\n",
       "    <tr>\n",
       "      <th>gold_close</th>\n",
       "      <td>-0.074807</td>\n",
       "      <td>0.517632</td>\n",
       "      <td>1.000000</td>\n",
       "      <td>0.625620</td>\n",
       "      <td>0.619373</td>\n",
       "      <td>0.595197</td>\n",
       "    </tr>\n",
       "    <tr>\n",
       "      <th>nasdaq_close</th>\n",
       "      <td>-0.004212</td>\n",
       "      <td>-0.059535</td>\n",
       "      <td>0.625620</td>\n",
       "      <td>1.000000</td>\n",
       "      <td>0.978860</td>\n",
       "      <td>0.986885</td>\n",
       "    </tr>\n",
       "    <tr>\n",
       "      <th>dow_close</th>\n",
       "      <td>-0.088298</td>\n",
       "      <td>0.008026</td>\n",
       "      <td>0.619373</td>\n",
       "      <td>0.978860</td>\n",
       "      <td>1.000000</td>\n",
       "      <td>0.994218</td>\n",
       "    </tr>\n",
       "    <tr>\n",
       "      <th>snp_close</th>\n",
       "      <td>-0.088962</td>\n",
       "      <td>-0.031581</td>\n",
       "      <td>0.595197</td>\n",
       "      <td>0.986885</td>\n",
       "      <td>0.994218</td>\n",
       "      <td>1.000000</td>\n",
       "    </tr>\n",
       "  </tbody>\n",
       "</table>\n",
       "</div>"
      ],
      "text/plain": [
       "                dollar  oil_close  gold_close  nasdaq_close  dow_close  \\\n",
       "dollar        1.000000  -0.510811   -0.074807     -0.004212  -0.088298   \n",
       "oil_close    -0.510811   1.000000    0.517632     -0.059535   0.008026   \n",
       "gold_close   -0.074807   0.517632    1.000000      0.625620   0.619373   \n",
       "nasdaq_close -0.004212  -0.059535    0.625620      1.000000   0.978860   \n",
       "dow_close    -0.088298   0.008026    0.619373      0.978860   1.000000   \n",
       "snp_close    -0.088962  -0.031581    0.595197      0.986885   0.994218   \n",
       "\n",
       "              snp_close  \n",
       "dollar        -0.088962  \n",
       "oil_close     -0.031581  \n",
       "gold_close     0.595197  \n",
       "nasdaq_close   0.986885  \n",
       "dow_close      0.994218  \n",
       "snp_close      1.000000  "
      ]
     },
     "execution_count": 123,
     "metadata": {},
     "output_type": "execute_result"
    }
   ],
   "source": [
    "df_dollar.corr()"
   ]
  },
  {
   "cell_type": "code",
   "execution_count": 124,
   "metadata": {},
   "outputs": [
    {
     "data": {
      "text/plain": [
       "<AxesSubplot:>"
      ]
     },
     "execution_count": 124,
     "metadata": {},
     "output_type": "execute_result"
    },
    {
     "data": {
      "image/png": "[encoded data removed]",
      "text/plain": [
       "<Figure size 1080x1080 with 2 Axes>"
      ]
     },
     "metadata": {},
     "output_type": "display_data"
    }
   ],
   "source": [
    "plt.figure(figsize=(15,15))\n",
    "sns.heatmap(data = df_dollar.corr(), annot=True, \n",
    "fmt = '.2f', linewidths=.5, cmap='Blues')"
   ]
  },
  {
   "cell_type": "code",
   "execution_count": 125,
   "metadata": {},
   "outputs": [],
   "source": [
    "#상관관계를 살펴본 결과 oil말고는 크게 상관이 없는것으로 나타났음\n",
    "#따라서 oil과 위에서 살펴본 엔화와 유로화만 추가하고 나머지는 제거하도록 함"
   ]
  },
  {
   "cell_type": "code",
   "execution_count": 201,
   "metadata": {},
   "outputs": [],
   "source": [
    "df_money = pd.read_csv('./실습데이터/환율_종합.csv', parse_dates=['일자'], encoding='cp949')\n",
    "df_oil = pd.read_csv('./실습데이터/oil.csv', parse_dates=['Date'], encoding='cp949')"
   ]
  },
  {
   "cell_type": "code",
   "execution_count": 202,
   "metadata": {},
   "outputs": [],
   "source": [
    "df_money = df_money.drop(['위안'], axis=1)"
   ]
  },
  {
   "cell_type": "code",
   "execution_count": 203,
   "metadata": {},
   "outputs": [
    {
     "data": {
      "text/html": [
       "<div>\n",
       "<style scoped>\n",
       "    .dataframe tbody tr th:only-of-type {\n",
       "        vertical-align: middle;\n",
       "    }\n",
       "\n",
       "    .dataframe tbody tr th {\n",
       "        vertical-align: top;\n",
       "    }\n",
       "\n",
       "    .dataframe thead th {\n",
       "        text-align: right;\n",
       "    }\n",
       "</style>\n",
       "<table border=\"1\" class=\"dataframe\">\n",
       "  <thead>\n",
       "    <tr style=\"text-align: right;\">\n",
       "      <th></th>\n",
       "      <th>Date</th>\n",
       "      <th>Open</th>\n",
       "      <th>High</th>\n",
       "      <th>Low</th>\n",
       "      <th>Close</th>\n",
       "      <th>Adj Close</th>\n",
       "      <th>Volume</th>\n",
       "    </tr>\n",
       "  </thead>\n",
       "  <tbody>\n",
       "    <tr>\n",
       "      <th>0</th>\n",
       "      <td>2000-08-24</td>\n",
       "      <td>31.900000</td>\n",
       "      <td>32.240002</td>\n",
       "      <td>31.400000</td>\n",
       "      <td>31.629999</td>\n",
       "      <td>31.629999</td>\n",
       "      <td>72978.0</td>\n",
       "    </tr>\n",
       "    <tr>\n",
       "      <th>1</th>\n",
       "      <td>2000-08-25</td>\n",
       "      <td>31.700001</td>\n",
       "      <td>32.099998</td>\n",
       "      <td>31.320000</td>\n",
       "      <td>32.049999</td>\n",
       "      <td>32.049999</td>\n",
       "      <td>44601.0</td>\n",
       "    </tr>\n",
       "    <tr>\n",
       "      <th>2</th>\n",
       "      <td>2000-08-27</td>\n",
       "      <td>NaN</td>\n",
       "      <td>NaN</td>\n",
       "      <td>NaN</td>\n",
       "      <td>NaN</td>\n",
       "      <td>NaN</td>\n",
       "      <td>NaN</td>\n",
       "    </tr>\n",
       "    <tr>\n",
       "      <th>3</th>\n",
       "      <td>2000-08-28</td>\n",
       "      <td>32.040001</td>\n",
       "      <td>32.919998</td>\n",
       "      <td>31.860001</td>\n",
       "      <td>32.869999</td>\n",
       "      <td>32.869999</td>\n",
       "      <td>46770.0</td>\n",
       "    </tr>\n",
       "    <tr>\n",
       "      <th>4</th>\n",
       "      <td>2000-08-29</td>\n",
       "      <td>32.820000</td>\n",
       "      <td>33.029999</td>\n",
       "      <td>32.560001</td>\n",
       "      <td>32.720001</td>\n",
       "      <td>32.720001</td>\n",
       "      <td>49131.0</td>\n",
       "    </tr>\n",
       "    <tr>\n",
       "      <th>...</th>\n",
       "      <td>...</td>\n",
       "      <td>...</td>\n",
       "      <td>...</td>\n",
       "      <td>...</td>\n",
       "      <td>...</td>\n",
       "      <td>...</td>\n",
       "      <td>...</td>\n",
       "    </tr>\n",
       "    <tr>\n",
       "      <th>6190</th>\n",
       "      <td>2020-10-23</td>\n",
       "      <td>40.610001</td>\n",
       "      <td>40.919998</td>\n",
       "      <td>39.570000</td>\n",
       "      <td>39.849998</td>\n",
       "      <td>39.849998</td>\n",
       "      <td>268931.0</td>\n",
       "    </tr>\n",
       "    <tr>\n",
       "      <th>6191</th>\n",
       "      <td>2020-10-25</td>\n",
       "      <td>NaN</td>\n",
       "      <td>NaN</td>\n",
       "      <td>NaN</td>\n",
       "      <td>NaN</td>\n",
       "      <td>NaN</td>\n",
       "      <td>NaN</td>\n",
       "    </tr>\n",
       "    <tr>\n",
       "      <th>6192</th>\n",
       "      <td>2020-10-26</td>\n",
       "      <td>39.689999</td>\n",
       "      <td>39.740002</td>\n",
       "      <td>38.279999</td>\n",
       "      <td>38.560001</td>\n",
       "      <td>38.560001</td>\n",
       "      <td>360184.0</td>\n",
       "    </tr>\n",
       "    <tr>\n",
       "      <th>6193</th>\n",
       "      <td>2020-10-27</td>\n",
       "      <td>38.590000</td>\n",
       "      <td>39.830002</td>\n",
       "      <td>38.509998</td>\n",
       "      <td>39.570000</td>\n",
       "      <td>39.570000</td>\n",
       "      <td>339535.0</td>\n",
       "    </tr>\n",
       "    <tr>\n",
       "      <th>6194</th>\n",
       "      <td>2020-10-28</td>\n",
       "      <td>38.970001</td>\n",
       "      <td>39.009998</td>\n",
       "      <td>36.970001</td>\n",
       "      <td>37.389999</td>\n",
       "      <td>37.389999</td>\n",
       "      <td>339535.0</td>\n",
       "    </tr>\n",
       "  </tbody>\n",
       "</table>\n",
       "<p>6195 rows × 7 columns</p>\n",
       "</div>"
      ],
      "text/plain": [
       "           Date       Open       High        Low      Close  Adj Close  \\\n",
       "0    2000-08-24  31.900000  32.240002  31.400000  31.629999  31.629999   \n",
       "1    2000-08-25  31.700001  32.099998  31.320000  32.049999  32.049999   \n",
       "2    2000-08-27        NaN        NaN        NaN        NaN        NaN   \n",
       "3    2000-08-28  32.040001  32.919998  31.860001  32.869999  32.869999   \n",
       "4    2000-08-29  32.820000  33.029999  32.560001  32.720001  32.720001   \n",
       "...         ...        ...        ...        ...        ...        ...   \n",
       "6190 2020-10-23  40.610001  40.919998  39.570000  39.849998  39.849998   \n",
       "6191 2020-10-25        NaN        NaN        NaN        NaN        NaN   \n",
       "6192 2020-10-26  39.689999  39.740002  38.279999  38.560001  38.560001   \n",
       "6193 2020-10-27  38.590000  39.830002  38.509998  39.570000  39.570000   \n",
       "6194 2020-10-28  38.970001  39.009998  36.970001  37.389999  37.389999   \n",
       "\n",
       "        Volume  \n",
       "0      72978.0  \n",
       "1      44601.0  \n",
       "2          NaN  \n",
       "3      46770.0  \n",
       "4      49131.0  \n",
       "...        ...  \n",
       "6190  268931.0  \n",
       "6191       NaN  \n",
       "6192  360184.0  \n",
       "6193  339535.0  \n",
       "6194  339535.0  \n",
       "\n",
       "[6195 rows x 7 columns]"
      ]
     },
     "execution_count": 203,
     "metadata": {},
     "output_type": "execute_result"
    }
   ],
   "source": [
    "df_oil"
   ]
  },
  {
   "cell_type": "code",
   "execution_count": 204,
   "metadata": {},
   "outputs": [],
   "source": [
    "df_oil = df_oil.drop(['Open', 'High', 'Low', 'Adj Close', 'Volume'], axis=1)"
   ]
  },
  {
   "cell_type": "code",
   "execution_count": 205,
   "metadata": {},
   "outputs": [],
   "source": [
    "df_money = df_money[:-4]"
   ]
  },
  {
   "cell_type": "code",
   "execution_count": 206,
   "metadata": {},
   "outputs": [],
   "source": [
    "df_money = df_money.set_index('일자')"
   ]
  },
  {
   "cell_type": "code",
   "execution_count": 207,
   "metadata": {},
   "outputs": [],
   "source": [
    "df_oil.rename(columns={'Date':'일자', 'Close':'oil_close'}, inplace=True)"
   ]
  },
  {
   "cell_type": "code",
   "execution_count": 208,
   "metadata": {},
   "outputs": [],
   "source": [
    "df_oil = df_oil.set_index('일자')"
   ]
  },
  {
   "cell_type": "code",
   "execution_count": 209,
   "metadata": {},
   "outputs": [],
   "source": [
    "df_money = df_money.join(df_oil)"
   ]
  },
  {
   "cell_type": "code",
   "execution_count": 210,
   "metadata": {},
   "outputs": [],
   "source": [
    "df_money = df_money.reset_index()"
   ]
  },
  {
   "cell_type": "code",
   "execution_count": 211,
   "metadata": {},
   "outputs": [
    {
     "data": {
      "text/html": [
       "<div>\n",
       "<style scoped>\n",
       "    .dataframe tbody tr th:only-of-type {\n",
       "        vertical-align: middle;\n",
       "    }\n",
       "\n",
       "    .dataframe tbody tr th {\n",
       "        vertical-align: top;\n",
       "    }\n",
       "\n",
       "    .dataframe thead th {\n",
       "        text-align: right;\n",
       "    }\n",
       "</style>\n",
       "<table border=\"1\" class=\"dataframe\">\n",
       "  <thead>\n",
       "    <tr style=\"text-align: right;\">\n",
       "      <th></th>\n",
       "      <th>일자</th>\n",
       "      <th>달러</th>\n",
       "      <th>엔화</th>\n",
       "      <th>유로</th>\n",
       "      <th>oil_close</th>\n",
       "    </tr>\n",
       "  </thead>\n",
       "  <tbody>\n",
       "    <tr>\n",
       "      <th>0</th>\n",
       "      <td>1970-01-05</td>\n",
       "      <td>304</td>\n",
       "      <td>NaN</td>\n",
       "      <td>NaN</td>\n",
       "      <td>NaN</td>\n",
       "    </tr>\n",
       "    <tr>\n",
       "      <th>1</th>\n",
       "      <td>1970-01-06</td>\n",
       "      <td>304</td>\n",
       "      <td>NaN</td>\n",
       "      <td>NaN</td>\n",
       "      <td>NaN</td>\n",
       "    </tr>\n",
       "    <tr>\n",
       "      <th>2</th>\n",
       "      <td>1970-01-07</td>\n",
       "      <td>304</td>\n",
       "      <td>NaN</td>\n",
       "      <td>NaN</td>\n",
       "      <td>NaN</td>\n",
       "    </tr>\n",
       "    <tr>\n",
       "      <th>3</th>\n",
       "      <td>1970-01-08</td>\n",
       "      <td>304</td>\n",
       "      <td>NaN</td>\n",
       "      <td>NaN</td>\n",
       "      <td>NaN</td>\n",
       "    </tr>\n",
       "    <tr>\n",
       "      <th>4</th>\n",
       "      <td>1970-01-09</td>\n",
       "      <td>304</td>\n",
       "      <td>NaN</td>\n",
       "      <td>NaN</td>\n",
       "      <td>NaN</td>\n",
       "    </tr>\n",
       "    <tr>\n",
       "      <th>...</th>\n",
       "      <td>...</td>\n",
       "      <td>...</td>\n",
       "      <td>...</td>\n",
       "      <td>...</td>\n",
       "      <td>...</td>\n",
       "    </tr>\n",
       "    <tr>\n",
       "      <th>14000</th>\n",
       "      <td>2020-10-22</td>\n",
       "      <td>1,134</td>\n",
       "      <td>1,084</td>\n",
       "      <td>1,344</td>\n",
       "      <td>40.639999</td>\n",
       "    </tr>\n",
       "    <tr>\n",
       "      <th>14001</th>\n",
       "      <td>2020-10-23</td>\n",
       "      <td>1,134</td>\n",
       "      <td>1,081</td>\n",
       "      <td>1,341</td>\n",
       "      <td>39.849998</td>\n",
       "    </tr>\n",
       "    <tr>\n",
       "      <th>14002</th>\n",
       "      <td>2020-10-26</td>\n",
       "      <td>1,135</td>\n",
       "      <td>1,084</td>\n",
       "      <td>1,344</td>\n",
       "      <td>38.560001</td>\n",
       "    </tr>\n",
       "    <tr>\n",
       "      <th>14003</th>\n",
       "      <td>2020-10-27</td>\n",
       "      <td>1,129</td>\n",
       "      <td>1,077</td>\n",
       "      <td>1,333</td>\n",
       "      <td>39.570000</td>\n",
       "    </tr>\n",
       "    <tr>\n",
       "      <th>14004</th>\n",
       "      <td>2020-10-28</td>\n",
       "      <td>1,128</td>\n",
       "      <td>1,079</td>\n",
       "      <td>1,328</td>\n",
       "      <td>37.389999</td>\n",
       "    </tr>\n",
       "  </tbody>\n",
       "</table>\n",
       "<p>14005 rows × 5 columns</p>\n",
       "</div>"
      ],
      "text/plain": [
       "              일자     달러     엔화     유로  oil_close\n",
       "0     1970-01-05    304    NaN    NaN        NaN\n",
       "1     1970-01-06    304    NaN    NaN        NaN\n",
       "2     1970-01-07    304    NaN    NaN        NaN\n",
       "3     1970-01-08    304    NaN    NaN        NaN\n",
       "4     1970-01-09    304    NaN    NaN        NaN\n",
       "...          ...    ...    ...    ...        ...\n",
       "14000 2020-10-22  1,134  1,084  1,344  40.639999\n",
       "14001 2020-10-23  1,134  1,081  1,341  39.849998\n",
       "14002 2020-10-26  1,135  1,084  1,344  38.560001\n",
       "14003 2020-10-27  1,129  1,077  1,333  39.570000\n",
       "14004 2020-10-28  1,128  1,079  1,328  37.389999\n",
       "\n",
       "[14005 rows x 5 columns]"
      ]
     },
     "execution_count": 211,
     "metadata": {},
     "output_type": "execute_result"
    }
   ],
   "source": [
    "df_money"
   ]
  },
  {
   "cell_type": "code",
   "execution_count": 212,
   "metadata": {},
   "outputs": [],
   "source": [
    "df_money = df_money.dropna()"
   ]
  },
  {
   "cell_type": "code",
   "execution_count": 213,
   "metadata": {},
   "outputs": [
    {
     "data": {
      "text/html": [
       "<div>\n",
       "<style scoped>\n",
       "    .dataframe tbody tr th:only-of-type {\n",
       "        vertical-align: middle;\n",
       "    }\n",
       "\n",
       "    .dataframe tbody tr th {\n",
       "        vertical-align: top;\n",
       "    }\n",
       "\n",
       "    .dataframe thead th {\n",
       "        text-align: right;\n",
       "    }\n",
       "</style>\n",
       "<table border=\"1\" class=\"dataframe\">\n",
       "  <thead>\n",
       "    <tr style=\"text-align: right;\">\n",
       "      <th></th>\n",
       "      <th>일자</th>\n",
       "      <th>달러</th>\n",
       "      <th>엔화</th>\n",
       "      <th>유로</th>\n",
       "      <th>oil_close</th>\n",
       "    </tr>\n",
       "  </thead>\n",
       "  <tbody>\n",
       "    <tr>\n",
       "      <th>8987</th>\n",
       "      <td>2000-08-24</td>\n",
       "      <td>1,115</td>\n",
       "      <td>1,042</td>\n",
       "      <td>1,005</td>\n",
       "      <td>31.629999</td>\n",
       "    </tr>\n",
       "    <tr>\n",
       "      <th>8988</th>\n",
       "      <td>2000-08-25</td>\n",
       "      <td>1,114</td>\n",
       "      <td>1,043</td>\n",
       "      <td>1,004</td>\n",
       "      <td>32.049999</td>\n",
       "    </tr>\n",
       "    <tr>\n",
       "      <th>8990</th>\n",
       "      <td>2000-08-28</td>\n",
       "      <td>1,114</td>\n",
       "      <td>1,043</td>\n",
       "      <td>1,006</td>\n",
       "      <td>32.869999</td>\n",
       "    </tr>\n",
       "    <tr>\n",
       "      <th>8991</th>\n",
       "      <td>2000-08-29</td>\n",
       "      <td>1,113</td>\n",
       "      <td>1,047</td>\n",
       "      <td>1,002</td>\n",
       "      <td>32.720001</td>\n",
       "    </tr>\n",
       "    <tr>\n",
       "      <th>8992</th>\n",
       "      <td>2000-08-30</td>\n",
       "      <td>1,111</td>\n",
       "      <td>1,048</td>\n",
       "      <td>992</td>\n",
       "      <td>33.400002</td>\n",
       "    </tr>\n",
       "    <tr>\n",
       "      <th>...</th>\n",
       "      <td>...</td>\n",
       "      <td>...</td>\n",
       "      <td>...</td>\n",
       "      <td>...</td>\n",
       "      <td>...</td>\n",
       "    </tr>\n",
       "    <tr>\n",
       "      <th>14000</th>\n",
       "      <td>2020-10-22</td>\n",
       "      <td>1,134</td>\n",
       "      <td>1,084</td>\n",
       "      <td>1,344</td>\n",
       "      <td>40.639999</td>\n",
       "    </tr>\n",
       "    <tr>\n",
       "      <th>14001</th>\n",
       "      <td>2020-10-23</td>\n",
       "      <td>1,134</td>\n",
       "      <td>1,081</td>\n",
       "      <td>1,341</td>\n",
       "      <td>39.849998</td>\n",
       "    </tr>\n",
       "    <tr>\n",
       "      <th>14002</th>\n",
       "      <td>2020-10-26</td>\n",
       "      <td>1,135</td>\n",
       "      <td>1,084</td>\n",
       "      <td>1,344</td>\n",
       "      <td>38.560001</td>\n",
       "    </tr>\n",
       "    <tr>\n",
       "      <th>14003</th>\n",
       "      <td>2020-10-27</td>\n",
       "      <td>1,129</td>\n",
       "      <td>1,077</td>\n",
       "      <td>1,333</td>\n",
       "      <td>39.570000</td>\n",
       "    </tr>\n",
       "    <tr>\n",
       "      <th>14004</th>\n",
       "      <td>2020-10-28</td>\n",
       "      <td>1,128</td>\n",
       "      <td>1,079</td>\n",
       "      <td>1,328</td>\n",
       "      <td>37.389999</td>\n",
       "    </tr>\n",
       "  </tbody>\n",
       "</table>\n",
       "<p>4810 rows × 5 columns</p>\n",
       "</div>"
      ],
      "text/plain": [
       "              일자     달러     엔화     유로  oil_close\n",
       "8987  2000-08-24  1,115  1,042  1,005  31.629999\n",
       "8988  2000-08-25  1,114  1,043  1,004  32.049999\n",
       "8990  2000-08-28  1,114  1,043  1,006  32.869999\n",
       "8991  2000-08-29  1,113  1,047  1,002  32.720001\n",
       "8992  2000-08-30  1,111  1,048    992  33.400002\n",
       "...          ...    ...    ...    ...        ...\n",
       "14000 2020-10-22  1,134  1,084  1,344  40.639999\n",
       "14001 2020-10-23  1,134  1,081  1,341  39.849998\n",
       "14002 2020-10-26  1,135  1,084  1,344  38.560001\n",
       "14003 2020-10-27  1,129  1,077  1,333  39.570000\n",
       "14004 2020-10-28  1,128  1,079  1,328  37.389999\n",
       "\n",
       "[4810 rows x 5 columns]"
      ]
     },
     "execution_count": 213,
     "metadata": {},
     "output_type": "execute_result"
    }
   ],
   "source": [
    "df_money"
   ]
  },
  {
   "cell_type": "code",
   "execution_count": 226,
   "metadata": {},
   "outputs": [],
   "source": [
    "#딥러닝 학습할때 잘 학습하게 해주기 위해 정규화시켜주기\n",
    "\n",
    "from sklearn.preprocessing import MinMaxScaler"
   ]
  },
  {
   "cell_type": "code",
   "execution_count": 215,
   "metadata": {
    "scrolled": true
   },
   "outputs": [],
   "source": [
    "df_money['달러'] = df_money['달러'].str.replace(',', '')\n",
    "df_money['달러'] = pd.to_numeric(df_money['달러'])\n",
    "df_money['엔화'] = df_money['엔화'].str.replace(',', '')\n",
    "df_money['엔화'] = pd.to_numeric(df_money['엔화'])\n",
    "df_money['유로'] = df_money['유로'].str.replace(',', '')\n",
    "df_money['유로'] = pd.to_numeric(df_money['유로'])"
   ]
  },
  {
   "cell_type": "code",
   "execution_count": 220,
   "metadata": {},
   "outputs": [],
   "source": [
    "df_money['oil_close'] = round(df_money['oil_close'], -1)"
   ]
  },
  {
   "cell_type": "code",
   "execution_count": 222,
   "metadata": {},
   "outputs": [],
   "source": [
    "df_money['oil_close'] = df_money['oil_close'].convert_dtypes()"
   ]
  },
  {
   "cell_type": "code",
   "execution_count": 223,
   "metadata": {},
   "outputs": [
    {
     "data": {
      "text/plain": [
       "일자           datetime64[ns]\n",
       "달러                    int64\n",
       "엔화                    int64\n",
       "유로                    int64\n",
       "oil_close             Int64\n",
       "dtype: object"
      ]
     },
     "execution_count": 223,
     "metadata": {},
     "output_type": "execute_result"
    }
   ],
   "source": [
    "df_money.dtypes"
   ]
  },
  {
   "cell_type": "code",
   "execution_count": 224,
   "metadata": {
    "scrolled": true
   },
   "outputs": [],
   "source": [
    "scaler = MinMaxScaler()\n",
    "scale_cols = ['달러', '엔화', '유로', 'oil_close']\n",
    "df_scaled = scaler.fit_transform(df_money[scale_cols])"
   ]
  },
  {
   "cell_type": "code",
   "execution_count": 225,
   "metadata": {},
   "outputs": [
    {
     "name": "stdout",
     "output_type": "stream",
     "text": [
      "            달러        엔화        유로  oil_close\n",
      "0     0.316964  0.338286  0.060057   0.368421\n",
      "1     0.315476  0.339429  0.059104   0.368421\n",
      "2     0.315476  0.339429  0.061010   0.368421\n",
      "3     0.313988  0.344000  0.057197   0.368421\n",
      "4     0.311012  0.345143  0.047664   0.368421\n",
      "...        ...       ...       ...        ...\n",
      "4805  0.345238  0.386286  0.383222   0.421053\n",
      "4806  0.345238  0.382857  0.380362   0.421053\n",
      "4807  0.346726  0.386286  0.383222   0.421053\n",
      "4808  0.337798  0.378286  0.372736   0.421053\n",
      "4809  0.336310  0.380571  0.367969   0.421053\n",
      "\n",
      "[4810 rows x 4 columns]\n"
     ]
    }
   ],
   "source": [
    "df_scaled = pd.DataFrame(df_scaled)\n",
    "df_scaled.columns = scale_cols\n",
    "\n",
    "print(df_scaled)"
   ]
  },
  {
   "cell_type": "code",
   "execution_count": 227,
   "metadata": {},
   "outputs": [],
   "source": [
    "train = df_scaled[:-200]\n",
    "test = df_scaled[-200:]"
   ]
  },
  {
   "cell_type": "code",
   "execution_count": 228,
   "metadata": {},
   "outputs": [],
   "source": [
    "def make_dataset(data, label, window_size=20):\n",
    "    feature_list = []\n",
    "    label_list = []\n",
    "    for i in range(len(data) - window_size):\n",
    "        feature_list.append(np.array(data.iloc[i:i+window_size]))\n",
    "        label_list.append(np.array(label.iloc[i+window_size]))\n",
    "    return np.array(feature_list), np.array(label_list)"
   ]
  },
  {
   "cell_type": "code",
   "execution_count": null,
   "metadata": {},
   "outputs": [],
   "source": [
    "feature_cols = ['달러', '엔화', '유로', 'oil_close']\n",
    "label_cols = ['달러']\n",
    "\n",
    "train_feature = train[feature_cols]\n",
    "train_label = train[label_cols]\n",
    "\n",
    "# train dataset\n",
    "train_feature, train_label = make_dataset(train_feature, train_label, 20)\n",
    "\n",
    "# train, validation set 생성\n",
    "from sklearn.model_selection import train_test_split\n",
    "x_train, x_valid, y_train, y_valid = train_test_split(train_feature, train_label, test_size=0.2)\n",
    "\n",
    "x_train.shape, x_valid.shape\n",
    "# ((6086, 20, 4), (1522, 20, 4))\n",
    "\n",
    "# test dataset (실제 예측 해볼 데이터)\n",
    "test_feature, test_label = make_dataset(test_feature, test_label, 20)\n",
    "test_feature.shape, test_label.shape\n",
    "# ((180, 20, 4), (180, 1))"
   ]
  }
 ],
 "metadata": {
  "kernelspec": {
   "display_name": "Python 3",
   "language": "python",
   "name": "python3"
  },
  "language_info": {
   "codemirror_mode": {
    "name": "ipython",
    "version": 3
   },
   "file_extension": ".py",
   "mimetype": "text/x-python",
   "name": "python",
   "nbconvert_exporter": "python",
   "pygments_lexer": "ipython3",
   "version": "3.7.9"
  }
 },
 "nbformat": 4,
 "nbformat_minor": 4
}
