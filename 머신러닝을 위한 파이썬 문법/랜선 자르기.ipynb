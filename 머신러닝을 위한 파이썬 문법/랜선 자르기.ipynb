{
 "cells": [
  {
   "cell_type": "code",
   "execution_count": 48,
   "metadata": {},
   "outputs": [
    {
     "name": "stdout",
     "output_type": "stream",
     "text": [
      "150cm 길이의 케이블 <function LAN_Cable at 0x000001B94DBEA558>개를 만들 수 있습니다.\n"
     ]
    }
   ],
   "source": [
    "f = open('./실습데이터/랜선자르기in1.txt', 'r')\n",
    "k, n = map(int, f.readline().split())\n",
    "Line = []\n",
    "largest = 0\n",
    "answer = 0\n",
    "\n",
    "def LAN_Cable(length):\n",
    "    cnt = 0\n",
    "    for x in Line:\n",
    "        cnt += (x//length)\n",
    "    return cnt\n",
    "\n",
    "\n",
    "for i in range(k):\n",
    "    tmp = int(f.readline())\n",
    "    Line.append(tmp)\n",
    "    \n",
    "Line.sort()\n",
    "left_min = 1\n",
    "right_max = Line[-1]\n",
    "\n",
    "while left_min <= right_max:\n",
    "    mid = (left_min+right_max)//2\n",
    "    if LAN_Cable(mid) >= n:\n",
    "        answer = mid\n",
    "        left_min = mid + 1\n",
    "    else:\n",
    "        right_max = mid - 1\n",
    "        \n",
    "print('{}cm 길이의 케이블 {}개를 만들 수 있습니다.'.format(answer, LAN_Cable))"
   ]
  },
  {
   "cell_type": "code",
   "execution_count": 37,
   "metadata": {},
   "outputs": [
    {
     "data": {
      "text/plain": [
       "753"
      ]
     },
     "execution_count": 37,
     "metadata": {},
     "output_type": "execute_result"
    }
   ],
   "source": [
    "htlargest"
   ]
  },
  {
   "cell_type": "code",
   "execution_count": null,
   "metadata": {},
   "outputs": [],
   "source": []
  },
  {
   "cell_type": "code",
   "execution_count": null,
   "metadata": {},
   "outputs": [],
   "source": []
  },
  {
   "cell_type": "code",
   "execution_count": null,
   "metadata": {},
   "outputs": [],
   "source": []
  },
  {
   "cell_type": "code",
   "execution_count": 55,
   "metadata": {},
   "outputs": [
    {
     "name": "stdout",
     "output_type": "stream",
     "text": [
      "411\n",
      "컴퓨터 생각 숫자를 맞추세요=>300\n",
      "작습니다\n",
      "컴퓨터 생각 숫자를 맞추세요=>500\n",
      "큽니다\n",
      "컴퓨터 생각 숫자를 맞추세요=>400\n",
      "작습니다\n",
      "컴퓨터 생각 숫자를 맞추세요=>450\n",
      "큽니다\n",
      "컴퓨터 생각 숫자를 맞추세요=>411\n",
      "축하합니다. 대단한 추리력을 가졌네요\n"
     ]
    }
   ],
   "source": [
    "#이분법 다른 예\n",
    "import random\n",
    "data = [random.randint(1,1000) for _ in range(100)]\n",
    "data.sort()\n",
    "idx = random.randint(1,100)\n",
    "computer_num = data[idx]\n",
    "print(computer_num)\n",
    "while True:\n",
    "    x = int(input(\"컴퓨터 생각 숫자를 맞추세요=>\"))\n",
    "    if x > computer_num:\n",
    "        print(\"큽니다\")\n",
    "    if x < computer_num:\n",
    "        print('작습니다')\n",
    "    if x == computer_num:\n",
    "        print('축하합니다. 대단한 추리력을 가졌네요')\n",
    "        break"
   ]
  },
  {
   "cell_type": "code",
   "execution_count": null,
   "metadata": {},
   "outputs": [],
   "source": []
  }
 ],
 "metadata": {
  "kernelspec": {
   "display_name": "Python 3",
   "language": "python",
   "name": "python3"
  },
  "language_info": {
   "codemirror_mode": {
    "name": "ipython",
    "version": 3
   },
   "file_extension": ".py",
   "mimetype": "text/x-python",
   "name": "python",
   "nbconvert_exporter": "python",
   "pygments_lexer": "ipython3",
   "version": "3.7.9"
  }
 },
 "nbformat": 4,
 "nbformat_minor": 4
}
