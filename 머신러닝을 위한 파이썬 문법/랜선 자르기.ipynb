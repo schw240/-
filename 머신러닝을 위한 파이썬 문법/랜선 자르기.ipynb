{
 "cells": [
  {
   "cell_type": "code",
   "execution_count": 57,
   "metadata": {},
   "outputs": [],
   "source": [
    "f = open('./실습데이터/랜선자르기in1.txt', 'r')\n",
    "k, n = map(int, f.readline().split())"
   ]
  },
  {
   "cell_type": "code",
   "execution_count": 60,
   "metadata": {},
   "outputs": [],
   "source": [
    "a = []\n",
    "for i in range(k):\n",
    "    a.append(int(f.readline()))"
   ]
  },
  {
   "cell_type": "code",
   "execution_count": 62,
   "metadata": {},
   "outputs": [],
   "source": [
    "a.sort()"
   ]
  },
  {
   "cell_type": "code",
   "execution_count": 66,
   "metadata": {},
   "outputs": [
    {
     "name": "stdout",
     "output_type": "stream",
     "text": [
      "150\n"
     ]
    }
   ],
   "source": [
    "left, right = 1, max(a)\n",
    "while(left<= right):\n",
    "    mid= (left+right)//2\n",
    "    sum = 0\n",
    "    for i in a:\n",
    "        sum += i//mid\n",
    "    \n",
    "    if sum >= n:  # 정답보다 잘게 잘랐으면\n",
    "        left = mid+1 # 시작점을 방금값 + 1로\n",
    "    else : \n",
    "        right = mid-1\n",
    "\n",
    "print(right)"
   ]
  },
  {
   "cell_type": "code",
   "execution_count": null,
   "metadata": {},
   "outputs": [],
   "source": []
  },
  {
   "cell_type": "code",
   "execution_count": 55,
   "metadata": {},
   "outputs": [
    {
     "name": "stdout",
     "output_type": "stream",
     "text": [
      "411\n",
      "컴퓨터 생각 숫자를 맞추세요=>300\n",
      "작습니다\n",
      "컴퓨터 생각 숫자를 맞추세요=>500\n",
      "큽니다\n",
      "컴퓨터 생각 숫자를 맞추세요=>400\n",
      "작습니다\n",
      "컴퓨터 생각 숫자를 맞추세요=>450\n",
      "큽니다\n",
      "컴퓨터 생각 숫자를 맞추세요=>411\n",
      "축하합니다. 대단한 추리력을 가졌네요\n"
     ]
    }
   ],
   "source": [
    "#이분법 다른 예\n",
    "import random\n",
    "data = [random.randint(1,1000) for _ in range(100)]\n",
    "data.sort()\n",
    "idx = random.randint(1,100)\n",
    "computer_num = data[idx]\n",
    "print(computer_num)\n",
    "while True:\n",
    "    x = int(input(\"컴퓨터 생각 숫자를 맞추세요=>\"))\n",
    "    if x > computer_num:\n",
    "        print(\"큽니다\")\n",
    "    if x < computer_num:\n",
    "        print('작습니다')\n",
    "    if x == computer_num:\n",
    "        print('축하합니다. 대단한 추리력을 가졌네요')\n",
    "        break"
   ]
  },
  {
   "cell_type": "code",
   "execution_count": null,
   "metadata": {},
   "outputs": [],
   "source": []
  }
 ],
 "metadata": {
  "kernelspec": {
   "display_name": "Python 3",
   "language": "python",
   "name": "python3"
  },
  "language_info": {
   "codemirror_mode": {
    "name": "ipython",
    "version": 3
   },
   "file_extension": ".py",
   "mimetype": "text/x-python",
   "name": "python",
   "nbconvert_exporter": "python",
   "pygments_lexer": "ipython3",
   "version": "3.7.9"
  }
 },
 "nbformat": 4,
 "nbformat_minor": 4
}
