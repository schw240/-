{
 "cells": [
  {
   "cell_type": "code",
   "execution_count": 22,
   "metadata": {},
   "outputs": [],
   "source": [
    "def mul_digits(data):\n",
    "    res = 1\n",
    "    data = str(data)\n",
    "    if data[0] == '0':\n",
    "        print('error')\n",
    "    else:\n",
    "        for d in data:\n",
    "            d = int(d)\n",
    "            if d == 0:\n",
    "                continue\n",
    "            res = res * d\n",
    "    return res"
   ]
  },
  {
   "cell_type": "code",
   "execution_count": 24,
   "metadata": {},
   "outputs": [
    {
     "name": "stdout",
     "output_type": "stream",
     "text": [
      "24\n",
      "1\n",
      "4608\n",
      "6\n"
     ]
    }
   ],
   "source": [
    "print(mul_digits(1234))\n",
    "print(mul_digits(1000))\n",
    "print(mul_digits(12344443))\n",
    "print(mul_digits(1003002))"
   ]
  },
  {
   "cell_type": "code",
   "execution_count": 49,
   "metadata": {},
   "outputs": [
    {
     "name": "stdout",
     "output_type": "stream",
     "text": [
      "6\n"
     ]
    }
   ],
   "source": [
    "#존재론적 파이썬\n",
    "test_value = 1003002\n",
    "def mul_digits2(data):\n",
    "    res = 1\n",
    "    for i in str(test_value):\n",
    "        if int(i): #0이 들어가면 False가 되어 실행 안됨\n",
    "            res = res*int(i)\n",
    "    return res\n",
    "print(mul_digits2(test_value))"
   ]
  },
  {
   "cell_type": "code",
   "execution_count": 85,
   "metadata": {},
   "outputs": [
    {
     "name": "stdout",
     "output_type": "stream",
     "text": [
      "24\n"
     ]
    }
   ],
   "source": [
    "from functools import reduce\n",
    "\n",
    "print(reduce(lambda x,y : int(x)*int(y) ,'1234'))"
   ]
  },
  {
   "cell_type": "code",
   "execution_count": 76,
   "metadata": {},
   "outputs": [
    {
     "data": {
      "text/plain": [
       "'apple'"
      ]
     },
     "execution_count": 76,
     "metadata": {},
     "output_type": "execute_result"
    }
   ],
   "source": [
    "#pythonic 한 방법\n",
    "def most_frequent(data):\n",
    "    return max(data, key=data.count)\n",
    "\n",
    "most_frequent(['apple', 'samsung', 'apple', 'lg', 'lotte'])"
   ]
  },
  {
   "cell_type": "code",
   "execution_count": null,
   "metadata": {},
   "outputs": [],
   "source": []
  }
 ],
 "metadata": {
  "kernelspec": {
   "display_name": "Python 3",
   "language": "python",
   "name": "python3"
  },
  "language_info": {
   "codemirror_mode": {
    "name": "ipython",
    "version": 3
   },
   "file_extension": ".py",
   "mimetype": "text/x-python",
   "name": "python",
   "nbconvert_exporter": "python",
   "pygments_lexer": "ipython3",
   "version": "3.7.4"
  }
 },
 "nbformat": 4,
 "nbformat_minor": 4
}
